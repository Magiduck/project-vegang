{
 "cells": [
  {
   "cell_type": "markdown",
   "metadata": {},
   "source": [
    "# Microbiota analysis\n",
    "## Author: Tijs van Lieshout"
   ]
  },
  {
   "cell_type": "markdown",
   "metadata": {},
   "source": [
    "### Import statements and setting up config:"
   ]
  },
  {
   "cell_type": "code",
   "execution_count": 37,
   "metadata": {},
   "outputs": [
    {
     "data": {
      "text/html": [
       "\n",
       "    <div class=\"bk-root\">\n",
       "        <a href=\"https://bokeh.org\" target=\"_blank\" class=\"bk-logo bk-logo-small bk-logo-notebook\"></a>\n",
       "        <span id=\"13683\">Loading BokehJS ...</span>\n",
       "    </div>"
      ]
     },
     "metadata": {},
     "output_type": "display_data"
    },
    {
     "data": {
      "application/javascript": [
       "\n",
       "(function(root) {\n",
       "  function now() {\n",
       "    return new Date();\n",
       "  }\n",
       "\n",
       "  var force = true;\n",
       "\n",
       "  if (typeof root._bokeh_onload_callbacks === \"undefined\" || force === true) {\n",
       "    root._bokeh_onload_callbacks = [];\n",
       "    root._bokeh_is_loading = undefined;\n",
       "  }\n",
       "\n",
       "  var JS_MIME_TYPE = 'application/javascript';\n",
       "  var HTML_MIME_TYPE = 'text/html';\n",
       "  var EXEC_MIME_TYPE = 'application/vnd.bokehjs_exec.v0+json';\n",
       "  var CLASS_NAME = 'output_bokeh rendered_html';\n",
       "\n",
       "  /**\n",
       "   * Render data to the DOM node\n",
       "   */\n",
       "  function render(props, node) {\n",
       "    var script = document.createElement(\"script\");\n",
       "    node.appendChild(script);\n",
       "  }\n",
       "\n",
       "  /**\n",
       "   * Handle when an output is cleared or removed\n",
       "   */\n",
       "  function handleClearOutput(event, handle) {\n",
       "    var cell = handle.cell;\n",
       "\n",
       "    var id = cell.output_area._bokeh_element_id;\n",
       "    var server_id = cell.output_area._bokeh_server_id;\n",
       "    // Clean up Bokeh references\n",
       "    if (id != null && id in Bokeh.index) {\n",
       "      Bokeh.index[id].model.document.clear();\n",
       "      delete Bokeh.index[id];\n",
       "    }\n",
       "\n",
       "    if (server_id !== undefined) {\n",
       "      // Clean up Bokeh references\n",
       "      var cmd = \"from bokeh.io.state import curstate; print(curstate().uuid_to_server['\" + server_id + \"'].get_sessions()[0].document.roots[0]._id)\";\n",
       "      cell.notebook.kernel.execute(cmd, {\n",
       "        iopub: {\n",
       "          output: function(msg) {\n",
       "            var id = msg.content.text.trim();\n",
       "            if (id in Bokeh.index) {\n",
       "              Bokeh.index[id].model.document.clear();\n",
       "              delete Bokeh.index[id];\n",
       "            }\n",
       "          }\n",
       "        }\n",
       "      });\n",
       "      // Destroy server and session\n",
       "      var cmd = \"import bokeh.io.notebook as ion; ion.destroy_server('\" + server_id + \"')\";\n",
       "      cell.notebook.kernel.execute(cmd);\n",
       "    }\n",
       "  }\n",
       "\n",
       "  /**\n",
       "   * Handle when a new output is added\n",
       "   */\n",
       "  function handleAddOutput(event, handle) {\n",
       "    var output_area = handle.output_area;\n",
       "    var output = handle.output;\n",
       "\n",
       "    // limit handleAddOutput to display_data with EXEC_MIME_TYPE content only\n",
       "    if ((output.output_type != \"display_data\") || (!output.data.hasOwnProperty(EXEC_MIME_TYPE))) {\n",
       "      return\n",
       "    }\n",
       "\n",
       "    var toinsert = output_area.element.find(\".\" + CLASS_NAME.split(' ')[0]);\n",
       "\n",
       "    if (output.metadata[EXEC_MIME_TYPE][\"id\"] !== undefined) {\n",
       "      toinsert[toinsert.length - 1].firstChild.textContent = output.data[JS_MIME_TYPE];\n",
       "      // store reference to embed id on output_area\n",
       "      output_area._bokeh_element_id = output.metadata[EXEC_MIME_TYPE][\"id\"];\n",
       "    }\n",
       "    if (output.metadata[EXEC_MIME_TYPE][\"server_id\"] !== undefined) {\n",
       "      var bk_div = document.createElement(\"div\");\n",
       "      bk_div.innerHTML = output.data[HTML_MIME_TYPE];\n",
       "      var script_attrs = bk_div.children[0].attributes;\n",
       "      for (var i = 0; i < script_attrs.length; i++) {\n",
       "        toinsert[toinsert.length - 1].firstChild.setAttribute(script_attrs[i].name, script_attrs[i].value);\n",
       "        toinsert[toinsert.length - 1].firstChild.textContent = bk_div.children[0].textContent\n",
       "      }\n",
       "      // store reference to server id on output_area\n",
       "      output_area._bokeh_server_id = output.metadata[EXEC_MIME_TYPE][\"server_id\"];\n",
       "    }\n",
       "  }\n",
       "\n",
       "  function register_renderer(events, OutputArea) {\n",
       "\n",
       "    function append_mime(data, metadata, element) {\n",
       "      // create a DOM node to render to\n",
       "      var toinsert = this.create_output_subarea(\n",
       "        metadata,\n",
       "        CLASS_NAME,\n",
       "        EXEC_MIME_TYPE\n",
       "      );\n",
       "      this.keyboard_manager.register_events(toinsert);\n",
       "      // Render to node\n",
       "      var props = {data: data, metadata: metadata[EXEC_MIME_TYPE]};\n",
       "      render(props, toinsert[toinsert.length - 1]);\n",
       "      element.append(toinsert);\n",
       "      return toinsert\n",
       "    }\n",
       "\n",
       "    /* Handle when an output is cleared or removed */\n",
       "    events.on('clear_output.CodeCell', handleClearOutput);\n",
       "    events.on('delete.Cell', handleClearOutput);\n",
       "\n",
       "    /* Handle when a new output is added */\n",
       "    events.on('output_added.OutputArea', handleAddOutput);\n",
       "\n",
       "    /**\n",
       "     * Register the mime type and append_mime function with output_area\n",
       "     */\n",
       "    OutputArea.prototype.register_mime_type(EXEC_MIME_TYPE, append_mime, {\n",
       "      /* Is output safe? */\n",
       "      safe: true,\n",
       "      /* Index of renderer in `output_area.display_order` */\n",
       "      index: 0\n",
       "    });\n",
       "  }\n",
       "\n",
       "  // register the mime type if in Jupyter Notebook environment and previously unregistered\n",
       "  if (root.Jupyter !== undefined) {\n",
       "    var events = require('base/js/events');\n",
       "    var OutputArea = require('notebook/js/outputarea').OutputArea;\n",
       "\n",
       "    if (OutputArea.prototype.mime_types().indexOf(EXEC_MIME_TYPE) == -1) {\n",
       "      register_renderer(events, OutputArea);\n",
       "    }\n",
       "  }\n",
       "\n",
       "  \n",
       "  if (typeof (root._bokeh_timeout) === \"undefined\" || force === true) {\n",
       "    root._bokeh_timeout = Date.now() + 5000;\n",
       "    root._bokeh_failed_load = false;\n",
       "  }\n",
       "\n",
       "  var NB_LOAD_WARNING = {'data': {'text/html':\n",
       "     \"<div style='background-color: #fdd'>\\n\"+\n",
       "     \"<p>\\n\"+\n",
       "     \"BokehJS does not appear to have successfully loaded. If loading BokehJS from CDN, this \\n\"+\n",
       "     \"may be due to a slow or bad network connection. Possible fixes:\\n\"+\n",
       "     \"</p>\\n\"+\n",
       "     \"<ul>\\n\"+\n",
       "     \"<li>re-rerun `output_notebook()` to attempt to load from CDN again, or</li>\\n\"+\n",
       "     \"<li>use INLINE resources instead, as so:</li>\\n\"+\n",
       "     \"</ul>\\n\"+\n",
       "     \"<code>\\n\"+\n",
       "     \"from bokeh.resources import INLINE\\n\"+\n",
       "     \"output_notebook(resources=INLINE)\\n\"+\n",
       "     \"</code>\\n\"+\n",
       "     \"</div>\"}};\n",
       "\n",
       "  function display_loaded() {\n",
       "    var el = document.getElementById(\"13683\");\n",
       "    if (el != null) {\n",
       "      el.textContent = \"BokehJS is loading...\";\n",
       "    }\n",
       "    if (root.Bokeh !== undefined) {\n",
       "      if (el != null) {\n",
       "        el.textContent = \"BokehJS \" + root.Bokeh.version + \" successfully loaded.\";\n",
       "      }\n",
       "    } else if (Date.now() < root._bokeh_timeout) {\n",
       "      setTimeout(display_loaded, 100)\n",
       "    }\n",
       "  }\n",
       "\n",
       "\n",
       "  function run_callbacks() {\n",
       "    try {\n",
       "      root._bokeh_onload_callbacks.forEach(function(callback) {\n",
       "        if (callback != null)\n",
       "          callback();\n",
       "      });\n",
       "    } finally {\n",
       "      delete root._bokeh_onload_callbacks\n",
       "    }\n",
       "    console.debug(\"Bokeh: all callbacks have finished\");\n",
       "  }\n",
       "\n",
       "  function load_libs(css_urls, js_urls, callback) {\n",
       "    if (css_urls == null) css_urls = [];\n",
       "    if (js_urls == null) js_urls = [];\n",
       "\n",
       "    root._bokeh_onload_callbacks.push(callback);\n",
       "    if (root._bokeh_is_loading > 0) {\n",
       "      console.debug(\"Bokeh: BokehJS is being loaded, scheduling callback at\", now());\n",
       "      return null;\n",
       "    }\n",
       "    if (js_urls == null || js_urls.length === 0) {\n",
       "      run_callbacks();\n",
       "      return null;\n",
       "    }\n",
       "    console.debug(\"Bokeh: BokehJS not loaded, scheduling load and callback at\", now());\n",
       "    root._bokeh_is_loading = css_urls.length + js_urls.length;\n",
       "\n",
       "    function on_load() {\n",
       "      root._bokeh_is_loading--;\n",
       "      if (root._bokeh_is_loading === 0) {\n",
       "        console.debug(\"Bokeh: all BokehJS libraries/stylesheets loaded\");\n",
       "        run_callbacks()\n",
       "      }\n",
       "    }\n",
       "\n",
       "    function on_error() {\n",
       "      console.error(\"failed to load \" + url);\n",
       "    }\n",
       "\n",
       "    for (var i = 0; i < css_urls.length; i++) {\n",
       "      var url = css_urls[i];\n",
       "      const element = document.createElement(\"link\");\n",
       "      element.onload = on_load;\n",
       "      element.onerror = on_error;\n",
       "      element.rel = \"stylesheet\";\n",
       "      element.type = \"text/css\";\n",
       "      element.href = url;\n",
       "      console.debug(\"Bokeh: injecting link tag for BokehJS stylesheet: \", url);\n",
       "      document.body.appendChild(element);\n",
       "    }\n",
       "\n",
       "    const hashes = {\"https://cdn.bokeh.org/bokeh/release/bokeh-2.2.3.min.js\": \"T2yuo9Oe71Cz/I4X9Ac5+gpEa5a8PpJCDlqKYO0CfAuEszu1JrXLl8YugMqYe3sM\", \"https://cdn.bokeh.org/bokeh/release/bokeh-widgets-2.2.3.min.js\": \"98GDGJ0kOMCUMUePhksaQ/GYgB3+NH9h996V88sh3aOiUNX3N+fLXAtry6xctSZ6\", \"https://cdn.bokeh.org/bokeh/release/bokeh-tables-2.2.3.min.js\": \"89bArO+nlbP3sgakeHjCo1JYxYR5wufVgA3IbUvDY+K7w4zyxJqssu7wVnfeKCq8\"};\n",
       "\n",
       "    for (var i = 0; i < js_urls.length; i++) {\n",
       "      var url = js_urls[i];\n",
       "      var element = document.createElement('script');\n",
       "      element.onload = on_load;\n",
       "      element.onerror = on_error;\n",
       "      element.async = false;\n",
       "      element.src = url;\n",
       "      if (url in hashes) {\n",
       "        element.crossOrigin = \"anonymous\";\n",
       "        element.integrity = \"sha384-\" + hashes[url];\n",
       "      }\n",
       "      console.debug(\"Bokeh: injecting script tag for BokehJS library: \", url);\n",
       "      document.head.appendChild(element);\n",
       "    }\n",
       "  };\n",
       "\n",
       "  function inject_raw_css(css) {\n",
       "    const element = document.createElement(\"style\");\n",
       "    element.appendChild(document.createTextNode(css));\n",
       "    document.body.appendChild(element);\n",
       "  }\n",
       "\n",
       "  \n",
       "  var js_urls = [\"https://cdn.bokeh.org/bokeh/release/bokeh-2.2.3.min.js\", \"https://cdn.bokeh.org/bokeh/release/bokeh-widgets-2.2.3.min.js\", \"https://cdn.bokeh.org/bokeh/release/bokeh-tables-2.2.3.min.js\"];\n",
       "  var css_urls = [];\n",
       "  \n",
       "\n",
       "  var inline_js = [\n",
       "    function(Bokeh) {\n",
       "      Bokeh.set_log_level(\"info\");\n",
       "    },\n",
       "    function(Bokeh) {\n",
       "    \n",
       "    \n",
       "    }\n",
       "  ];\n",
       "\n",
       "  function run_inline_js() {\n",
       "    \n",
       "    if (root.Bokeh !== undefined || force === true) {\n",
       "      \n",
       "    for (var i = 0; i < inline_js.length; i++) {\n",
       "      inline_js[i].call(root, root.Bokeh);\n",
       "    }\n",
       "    if (force === true) {\n",
       "        display_loaded();\n",
       "      }} else if (Date.now() < root._bokeh_timeout) {\n",
       "      setTimeout(run_inline_js, 100);\n",
       "    } else if (!root._bokeh_failed_load) {\n",
       "      console.log(\"Bokeh: BokehJS failed to load within specified timeout.\");\n",
       "      root._bokeh_failed_load = true;\n",
       "    } else if (force !== true) {\n",
       "      var cell = $(document.getElementById(\"13683\")).parents('.cell').data().cell;\n",
       "      cell.output_area.append_execute_result(NB_LOAD_WARNING)\n",
       "    }\n",
       "\n",
       "  }\n",
       "\n",
       "  if (root._bokeh_is_loading === 0) {\n",
       "    console.debug(\"Bokeh: BokehJS loaded, going straight to plotting\");\n",
       "    run_inline_js();\n",
       "  } else {\n",
       "    load_libs(css_urls, js_urls, function() {\n",
       "      console.debug(\"Bokeh: BokehJS plotting callback run at\", now());\n",
       "      run_inline_js();\n",
       "    });\n",
       "  }\n",
       "}(window));"
      ],
      "application/vnd.bokehjs_load.v0+json": "\n(function(root) {\n  function now() {\n    return new Date();\n  }\n\n  var force = true;\n\n  if (typeof root._bokeh_onload_callbacks === \"undefined\" || force === true) {\n    root._bokeh_onload_callbacks = [];\n    root._bokeh_is_loading = undefined;\n  }\n\n  \n\n  \n  if (typeof (root._bokeh_timeout) === \"undefined\" || force === true) {\n    root._bokeh_timeout = Date.now() + 5000;\n    root._bokeh_failed_load = false;\n  }\n\n  var NB_LOAD_WARNING = {'data': {'text/html':\n     \"<div style='background-color: #fdd'>\\n\"+\n     \"<p>\\n\"+\n     \"BokehJS does not appear to have successfully loaded. If loading BokehJS from CDN, this \\n\"+\n     \"may be due to a slow or bad network connection. Possible fixes:\\n\"+\n     \"</p>\\n\"+\n     \"<ul>\\n\"+\n     \"<li>re-rerun `output_notebook()` to attempt to load from CDN again, or</li>\\n\"+\n     \"<li>use INLINE resources instead, as so:</li>\\n\"+\n     \"</ul>\\n\"+\n     \"<code>\\n\"+\n     \"from bokeh.resources import INLINE\\n\"+\n     \"output_notebook(resources=INLINE)\\n\"+\n     \"</code>\\n\"+\n     \"</div>\"}};\n\n  function display_loaded() {\n    var el = document.getElementById(\"13683\");\n    if (el != null) {\n      el.textContent = \"BokehJS is loading...\";\n    }\n    if (root.Bokeh !== undefined) {\n      if (el != null) {\n        el.textContent = \"BokehJS \" + root.Bokeh.version + \" successfully loaded.\";\n      }\n    } else if (Date.now() < root._bokeh_timeout) {\n      setTimeout(display_loaded, 100)\n    }\n  }\n\n\n  function run_callbacks() {\n    try {\n      root._bokeh_onload_callbacks.forEach(function(callback) {\n        if (callback != null)\n          callback();\n      });\n    } finally {\n      delete root._bokeh_onload_callbacks\n    }\n    console.debug(\"Bokeh: all callbacks have finished\");\n  }\n\n  function load_libs(css_urls, js_urls, callback) {\n    if (css_urls == null) css_urls = [];\n    if (js_urls == null) js_urls = [];\n\n    root._bokeh_onload_callbacks.push(callback);\n    if (root._bokeh_is_loading > 0) {\n      console.debug(\"Bokeh: BokehJS is being loaded, scheduling callback at\", now());\n      return null;\n    }\n    if (js_urls == null || js_urls.length === 0) {\n      run_callbacks();\n      return null;\n    }\n    console.debug(\"Bokeh: BokehJS not loaded, scheduling load and callback at\", now());\n    root._bokeh_is_loading = css_urls.length + js_urls.length;\n\n    function on_load() {\n      root._bokeh_is_loading--;\n      if (root._bokeh_is_loading === 0) {\n        console.debug(\"Bokeh: all BokehJS libraries/stylesheets loaded\");\n        run_callbacks()\n      }\n    }\n\n    function on_error() {\n      console.error(\"failed to load \" + url);\n    }\n\n    for (var i = 0; i < css_urls.length; i++) {\n      var url = css_urls[i];\n      const element = document.createElement(\"link\");\n      element.onload = on_load;\n      element.onerror = on_error;\n      element.rel = \"stylesheet\";\n      element.type = \"text/css\";\n      element.href = url;\n      console.debug(\"Bokeh: injecting link tag for BokehJS stylesheet: \", url);\n      document.body.appendChild(element);\n    }\n\n    const hashes = {\"https://cdn.bokeh.org/bokeh/release/bokeh-2.2.3.min.js\": \"T2yuo9Oe71Cz/I4X9Ac5+gpEa5a8PpJCDlqKYO0CfAuEszu1JrXLl8YugMqYe3sM\", \"https://cdn.bokeh.org/bokeh/release/bokeh-widgets-2.2.3.min.js\": \"98GDGJ0kOMCUMUePhksaQ/GYgB3+NH9h996V88sh3aOiUNX3N+fLXAtry6xctSZ6\", \"https://cdn.bokeh.org/bokeh/release/bokeh-tables-2.2.3.min.js\": \"89bArO+nlbP3sgakeHjCo1JYxYR5wufVgA3IbUvDY+K7w4zyxJqssu7wVnfeKCq8\"};\n\n    for (var i = 0; i < js_urls.length; i++) {\n      var url = js_urls[i];\n      var element = document.createElement('script');\n      element.onload = on_load;\n      element.onerror = on_error;\n      element.async = false;\n      element.src = url;\n      if (url in hashes) {\n        element.crossOrigin = \"anonymous\";\n        element.integrity = \"sha384-\" + hashes[url];\n      }\n      console.debug(\"Bokeh: injecting script tag for BokehJS library: \", url);\n      document.head.appendChild(element);\n    }\n  };\n\n  function inject_raw_css(css) {\n    const element = document.createElement(\"style\");\n    element.appendChild(document.createTextNode(css));\n    document.body.appendChild(element);\n  }\n\n  \n  var js_urls = [\"https://cdn.bokeh.org/bokeh/release/bokeh-2.2.3.min.js\", \"https://cdn.bokeh.org/bokeh/release/bokeh-widgets-2.2.3.min.js\", \"https://cdn.bokeh.org/bokeh/release/bokeh-tables-2.2.3.min.js\"];\n  var css_urls = [];\n  \n\n  var inline_js = [\n    function(Bokeh) {\n      Bokeh.set_log_level(\"info\");\n    },\n    function(Bokeh) {\n    \n    \n    }\n  ];\n\n  function run_inline_js() {\n    \n    if (root.Bokeh !== undefined || force === true) {\n      \n    for (var i = 0; i < inline_js.length; i++) {\n      inline_js[i].call(root, root.Bokeh);\n    }\n    if (force === true) {\n        display_loaded();\n      }} else if (Date.now() < root._bokeh_timeout) {\n      setTimeout(run_inline_js, 100);\n    } else if (!root._bokeh_failed_load) {\n      console.log(\"Bokeh: BokehJS failed to load within specified timeout.\");\n      root._bokeh_failed_load = true;\n    } else if (force !== true) {\n      var cell = $(document.getElementById(\"13683\")).parents('.cell').data().cell;\n      cell.output_area.append_execute_result(NB_LOAD_WARNING)\n    }\n\n  }\n\n  if (root._bokeh_is_loading === 0) {\n    console.debug(\"Bokeh: BokehJS loaded, going straight to plotting\");\n    run_inline_js();\n  } else {\n    load_libs(css_urls, js_urls, function() {\n      console.debug(\"Bokeh: BokehJS plotting callback run at\", now());\n      run_inline_js();\n    });\n  }\n}(window));"
     },
     "metadata": {},
     "output_type": "display_data"
    }
   ],
   "source": [
    "from collections import OrderedDict\n",
    "import os\n",
    "import glob\n",
    "import yaml\n",
    "import pandas as pd\n",
    "import numpy as np\n",
    "from IPython.display import display\n",
    "from bokeh.plotting import figure\n",
    "from bokeh.layouts import gridplot\n",
    "from bokeh.models import Range1d, ColumnDataSource, MultiLine\n",
    "from bokeh.io import output_notebook, show\n",
    "from bokeh.transform import dodge\n",
    "output_notebook()"
   ]
  },
  {
   "cell_type": "code",
   "execution_count": 38,
   "metadata": {},
   "outputs": [],
   "source": [
    "def get_config():\n",
    "    '''\n",
    "    Function that gets the configuration of personalized variable definitions such as paths\n",
    "    \n",
    "    Returns:\n",
    "    config -- A dictionary containing the yaml information\n",
    "    '''\n",
    "    with open(\"config.yaml\", 'r') as stream:\n",
    "        config = yaml.safe_load(stream)\n",
    "    return config"
   ]
  },
  {
   "cell_type": "markdown",
   "metadata": {},
   "source": [
    "### Loading the data:"
   ]
  },
  {
   "cell_type": "code",
   "execution_count": 39,
   "metadata": {},
   "outputs": [],
   "source": [
    "def load_data_microbiota(PATH):\n",
    "    \"\"\"Load microbiota data (Gut Feeling Knowledge Base and metaphlann output) into pandas \n",
    "    dataframes\n",
    "\n",
    "    Keyword arguments:\n",
    "    PATH -- The path which contains the Gut Feeling Knowledge Base and metaphlann output dir\n",
    "    \n",
    "    Returns:\n",
    "    gfkb -- A pandas dataframe containing the Gut Feeling Knowledge Base\n",
    "    tax_profiles -- A pandas dataframe containing the taxonomic profile per barcode for all barcodes\"\"\"\n",
    "    # Gut Feeling Knowledge Base\n",
    "    gfkb = pd.read_csv(f\"{PATH}/GutFeelingKnowledgeBase-v4-Master_List.csv\")\n",
    "    gfkb = gfkb.drop(columns=[\"Present in GFKB v3 (Y/N)\",\n",
    "                              \"Present in GFKB_epilepsy v3 (Y/N)\"])\n",
    "    gfkb = pd.concat([gfkb.drop(columns=[\"Genome Size (Mb)\"]).apply(lambda x: x.astype(str)), \n",
    "                      gfkb[\"Genome Size (Mb)\"]], axis=1)\n",
    "\n",
    "    tax_profiles = pd.DataFrame()\n",
    "    \n",
    "    # Dictionary containing barcode ID as key and a list with subject ID and bool if vegan as values\n",
    "    barcode2subject_sample = {\"barcode_01\":[\"A\", True],\n",
    "                              \"barcode_02\":[\"B\", True],\n",
    "                              \"barcode_03\":[\"C\", True],\n",
    "                              \"barcode_04\":[\"D\", True],\n",
    "                              \"barcode_05\":[\"E\", True],\n",
    "                              \"barcode_06\":[\"A\", False],\n",
    "                              \"barcode_07\":[\"B\", False],\n",
    "                              \"barcode_08\":[\"C\", False],\n",
    "                              \"barcode_09\":[\"D\", False],\n",
    "                              \"barcode_10\":[\"E\", False]}\n",
    "    \n",
    "    # Concatenate all taxonomic profiles of all barcodes to one dataframe\n",
    "    tax_profiles = concat_tax_profiles(PATH, tax_profiles, barcode2subject_sample)\n",
    "    \n",
    "    return gfkb, tax_profiles"
   ]
  },
  {
   "cell_type": "code",
   "execution_count": 40,
   "metadata": {},
   "outputs": [],
   "source": [
    "def concat_tax_profiles(PATH, tax_profiles, barcode2subject_sample):\n",
    "    \"\"\"Concatenate all taxonomic profiles of all given barcodes in the metaphlan output dir\n",
    "    to one dataframe and reset the index on multi-index (subject, is_vegan).\n",
    "\n",
    "    Keyword arguments:\n",
    "    PATH -- The path which contains the Gut Feeling Knowledge Base and metaphlann output dir\n",
    "    tax_profiles -- An empty pandas dataframe containing the column names in which all taxonomic\n",
    "    profiles will be concatenated.\n",
    "    barcode2subject_sample -- Dictionary containing barcode ID as key and a list with subject ID \n",
    "    and bool if sample is vegan as values\n",
    "    \n",
    "    Returns:\n",
    "    tax_profiles -- A pandas dataframe containing the taxonomic profile per barcode for all barcodes\"\"\"\n",
    "    for file in glob.glob(os.path.abspath(f\"{PATH}/adj_align_output/*.txt\")):\n",
    "        tax_profile = pd.read_csv(file, \n",
    "                                  comment=\"#\", \n",
    "                                  sep=\"\\t\", \n",
    "                                  names=[\"clade_name\", \n",
    "                                         \"NCBI_tax_id\", \n",
    "                                         \"relative_abundance\",\n",
    "                                         \"additional_species\"])\n",
    "        # Splitting clade_name into taxonomic levels\n",
    "        tax_profile = tax_profile.join(tax_profile[\"clade_name\"].str.split('|', expand=True).rename(columns={0:'kingdom', \n",
    "                                                                                                             1:'phylum', \n",
    "                                                                                                             2:'class', \n",
    "                                                                                                             3:'order', \n",
    "                                                                                                             4:'family', \n",
    "                                                                                                             5:'genus', \n",
    "                                                                                                             6:'species'}), how='left')\n",
    "        # Indexing\n",
    "        barcode = file.split('adj_align_output/')[1].split(\"_all\")[0]\n",
    "        tax_profile[\"subject\"] = barcode2subject_sample[barcode][0]\n",
    "        tax_profile[\"is_vegan\"] = barcode2subject_sample[barcode][1]\n",
    "        tax_profile = tax_profile.set_index([tax_profile.subject, tax_profile.is_vegan]).sort_index()\n",
    "        \n",
    "        tax_profiles = pd.concat([tax_profiles,\n",
    "                                  tax_profile])\n",
    "    # Clean up of dataframe\n",
    "    tax_profiles[\"kingdom\"] = tax_profiles[\"kingdom\"].str.strip(\"k__\")\n",
    "    tax_profiles[\"phylum\"] = tax_profiles[\"phylum\"].str.strip(\"p__\")\n",
    "    tax_profiles[\"class\"] = tax_profiles[\"class\"].str.strip(\"c__\")\n",
    "    tax_profiles[\"order\"] = tax_profiles[\"order\"].str.strip(\"o__\")\n",
    "    tax_profiles[\"family\"] = tax_profiles[\"family\"].str.strip(\"f__\")\n",
    "    tax_profiles[\"genus\"] = tax_profiles[\"genus\"].str.strip(\"g__\")\n",
    "    tax_profiles[\"species\"] = tax_profiles[\"species\"].str.strip(\"s__\")\n",
    "    tax_profiles = tax_profiles.drop(columns=[\"clade_name\"])\n",
    "    tax_profiles = tax_profiles[[\"kingdom\", \n",
    "                                 \"phylum\", \n",
    "                                 \"class\", \n",
    "                                 \"order\", \n",
    "                                 \"family\", \n",
    "                                 \"genus\", \n",
    "                                 \"species\", \n",
    "                                 \"relative_abundance\", \n",
    "                                 \"NCBI_tax_id\", \n",
    "                                 \"additional_species\"]]\n",
    "    \n",
    "    return tax_profiles.sort_index()"
   ]
  },
  {
   "cell_type": "markdown",
   "metadata": {},
   "source": [
    "### General Plotting"
   ]
  },
  {
   "cell_type": "code",
   "execution_count": 41,
   "metadata": {},
   "outputs": [],
   "source": [
    "def create_column_data_source(taxa_abundance, taxa, add_diff = False):\n",
    "    \"\"\"Create a Bokeh ColumnDataSource for the plotting of taxa_abundance data for the taxa in the taxa list.\n",
    "    \n",
    "    Keyword arguments:\n",
    "    taxa_abundance -- A pandas dataframe containing the abundance of taxa for the vegan and regular diet samples for a subject\n",
    "    taxa -- A list of taxa found in the taxa_abundance columns\n",
    "    \n",
    "    Returns:\n",
    "    A bokeh ColumnDataSource containing the taxa, abundance of taxa in control, abundance of taxa in vegan and None for labels\n",
    "    \"\"\"\n",
    "    diet = ['control', 'vegan']\n",
    "\n",
    "    # Taking the mean of a single data point just for bokeh to accept the format of the ColumnDataSource\n",
    "    grouped = taxa_abundance.groupby(['is_vegan']).mean()\n",
    "    \n",
    "    # Handling if there are either no datapoints before or after the vegan intervention\n",
    "    if False in grouped.index:\n",
    "        control = grouped[taxa].loc[False]\n",
    "    else:\n",
    "        control = [0 for taxon in taxa]\n",
    "    if True in grouped.index:\n",
    "        vegan = grouped[taxa].loc[True]\n",
    "    else:\n",
    "        vegan = [0 for taxon in taxa]\n",
    "    if add_diff and True in grouped.index and False in grouped.index:\n",
    "        diff = pd.concat([control, vegan], axis=1, sort=False)\n",
    "        diff = diff.rename(columns = {False:'regular', True:'vegan'}).sort_values('regular')\n",
    "        xregular = diff['regular']\n",
    "        xvegan = diff['vegan']\n",
    "        data = {'taxa': list(diff.index),\n",
    "                'control': xregular,\n",
    "                'vegan': xvegan,\n",
    "                'xvegan': xvegan,\n",
    "                'xregular': xregular}\n",
    "    else:\n",
    "        data = {'taxa': taxa,\n",
    "                'control': control,\n",
    "                'vegan': vegan,\n",
    "                'None': [0 for i in taxa]}\n",
    "\n",
    "    return ColumnDataSource(data=data)\n"
   ]
  },
  {
   "cell_type": "markdown",
   "metadata": {},
   "source": [
    "### Recreating the plot from Zimmer et al. 2012\n",
    "<img src=\"../microbiota_tax_data/zimmer_species_abundance_plot.png\" alt=\"Zimmer et al. 2012\" width=\"400\"/>"
   ]
  },
  {
   "cell_type": "code",
   "execution_count": 42,
   "metadata": {},
   "outputs": [],
   "source": [
    "def recreate_zimmer(tax_profiles, subject):\n",
    "    \"\"\"Recreate a comparison of taxa that have been routinely analysed by Zimmer et al. 2012\n",
    "    \n",
    "    Keyword arguments:\n",
    "    tax_profiles -- A pandas dataframe containing the taxonomic profile per barcode for all barcodes\n",
    "    \n",
    "    Returns:\n",
    "    zimmer_subset -- A pandas dataframe containing a subset of taxa of interest of the taxonomic profile per barcode for all barcodes \n",
    "    dataframes containing only the taxa analyzed by zimmer et al. 2012 as values\n",
    "    \"\"\"\n",
    "    if subject == \"s Pooled\":\n",
    "        tax_profiles_subject = tax_profiles\n",
    "    else:\n",
    "        tax_profiles_subject = tax_profiles[tax_profiles.index.get_level_values('subject') == subject]\n",
    "        subject = f\" {subject}\"\n",
    "    \n",
    "    # Subset for the Zimmer et al. 2012 bar plot\n",
    "    bacteroides_subset = tax_profiles_subject[(tax_profiles_subject['genus'] == \"Bacteroides\") & (tax_profiles_subject['species'].isnull())]\n",
    "    bifidobacteria_subset = tax_profiles_subject[(tax_profiles_subject['genus'] == \"Bifidobacterium\") & (tax_profiles_subject['species'].isnull())]\n",
    "    ecoli_subset = tax_profiles_subject[(tax_profiles_subject['species'] == \"Escherichia_coli\")]\n",
    "    enterobacter_subset = tax_profiles_subject[(tax_profiles_subject['family'] == \"Enterobacteriaceae\") & (tax_profiles_subject['genus'].isnull())]\n",
    "\n",
    "    # Other taxa Zimmer et al. 2012 deemed of interest\n",
    "    clostridia_subset = tax_profiles_subject[(tax_profiles_subject['class'] == \"Clostridia\") & (tax_profiles_subject['order'].isnull())]\n",
    "    \n",
    "    zimmer_subset = pd.concat([bacteroides_subset,\n",
    "                               bifidobacteria_subset,\n",
    "                               ecoli_subset,\n",
    "                               enterobacter_subset,\n",
    "                               clostridia_subset]).sort_index()\n",
    "    \n",
    "    \n",
    "    plot_zimmer(zimmer_subset, subject)\n",
    "    \n",
    "    return zimmer_subset"
   ]
  },
  {
   "cell_type": "code",
   "execution_count": 43,
   "metadata": {},
   "outputs": [],
   "source": [
    "def plot_zimmer(zimmer_subset, subject):\n",
    "    \"\"\"Plot the zimmer subset per subject as a grouped barplot. Based on code by Kylie Keijzer\n",
    "    \n",
    "    Keyword arguments:\n",
    "    zimmer_subset -- A pandas dataframe containing a subset of taxa of interest of the taxonomic profile per barcode for all barcodes \n",
    "    dataframes containing only the taxa analyzed by zimmer et al. 2012 as values\n",
    "    subject -- A string consisting of the subject ID\n",
    "    \"\"\"\n",
    "    if not zimmer_subset.empty:\n",
    "        taxa_abundance = pd.DataFrame()\n",
    "        # Subset for the Zimmer et al. 2012 bar plot\n",
    "        taxa_abundance['Bacteroides'] = zimmer_subset[(zimmer_subset['genus'] == \"Bacteroides\") & \n",
    "                                                      (zimmer_subset['species'].isnull())]['relative_abundance']\n",
    "        taxa_abundance['Bifidobacterium'] = zimmer_subset[(zimmer_subset['genus'] == \"Bifidobacterium\") & \n",
    "                                                          (zimmer_subset['species'].isnull())]['relative_abundance']\n",
    "        taxa_abundance['Escherichia_coli'] = zimmer_subset[(zimmer_subset['species'] == \"Escherichia_coli\")]['relative_abundance']\n",
    "        taxa_abundance['Enterobacteriaceae'] = zimmer_subset[(zimmer_subset['family'] == \"Enterobacteriaceae\") & \n",
    "                                                             (zimmer_subset['genus'].isnull())]['relative_abundance']\n",
    "        # Other taxa Zimmer et al. 2012 deemed of interest\n",
    "        taxa_abundance['Clostridia'] = zimmer_subset[(zimmer_subset['class'] == \"Clostridia\") & \n",
    "                                                     (zimmer_subset['order'].isnull())]['relative_abundance']\n",
    "\n",
    "        taxa = ['Bacteroides', 'Bifidobacterium', 'Escherichia_coli', 'Enterobacteriaceae', 'Clostridia']\n",
    "        \n",
    "        if not taxa_abundance.empty:\n",
    "            source = create_column_data_source(taxa_abundance, taxa)\n",
    "            \n",
    "            # Creating the figure\n",
    "            p = figure(x_range=taxa, y_range=(0, 100), plot_height=500, plot_width=800,\n",
    "               title=f\"Subject{subject}: Abundance of specific taxa of interest\",\n",
    "               x_axis_label=\"Taxon\", y_axis_label=\"Relative abundance (%)\", \n",
    "               toolbar_location=None, tools=\"\")\n",
    "\n",
    "            p.vbar(x=dodge('taxa', -0.12, range=p.x_range), \n",
    "                   top='control', name='control', width=0.2, \n",
    "                   source=source, color=\"#abdfff\", legend_label=\"Regular diet\", line_color=\"#75cbff\")\n",
    "\n",
    "            # middle label\n",
    "            p.vbar(x=dodge('taxa',  0,  range=p.x_range), top='None', width=0.1, source=source)\n",
    "\n",
    "            p.vbar(x=dodge('taxa',  0.12,  range=p.x_range), \n",
    "                   top='vegan', name='vegan', width=0.2, \n",
    "                   source=source, color=\"#ceffc4\", legend_label=\"Vegan diet\", line_color=\"#8dff75\")\n",
    "\n",
    "            p.x_range.range_padding = 0.1\n",
    "            p.xgrid.grid_line_color = None\n",
    "            p.legend.location = \"top_right\"\n",
    "            p.legend.orientation = \"horizontal\"\n",
    "\n",
    "            show(p)\n",
    "            "
   ]
  },
  {
   "cell_type": "markdown",
   "metadata": {},
   "source": [
    "### Dumbbell plot"
   ]
  },
  {
   "cell_type": "code",
   "execution_count": 44,
   "metadata": {},
   "outputs": [],
   "source": [
    "def select_taxa_on_level(taxa_abundance, tax_profiles_subject, tax_level):\n",
    "    \"\"\"Create a subset of a pandas dataframe containing the abundance of taxa for the vegan and regular diet samples for a subject\n",
    "    based on the taxonomic level selected\n",
    "    \n",
    "    Keyword arguments:\n",
    "    taxa_abundance -- A pandas dataframe containing the abundance of taxa for the vegan and regular diet samples for a subject\n",
    "    tax_profiles_subject -- A pandas dataframe containing the taxonomic profile for the vegan and regular diet samples for a subject\n",
    "    tax_level -- A string containing the taxonomic level to select on\n",
    "    \n",
    "    Returns:\n",
    "    taxa_abundance -- A pandas dataframe containing the abundance of taxa for the vegan and regular diet samples for a subject, \n",
    "    now selected for taxonomic level\n",
    "    taxa -- A list containing the unique taxa found in the taxa_abundance dataframe\n",
    "    \"\"\"\n",
    "    if tax_level == \"kingdom\":\n",
    "        not_included = \"phylum\"\n",
    "    elif tax_level == \"phylum\":\n",
    "        not_included = \"class\"\n",
    "    elif tax_level == \"class\":\n",
    "        not_included = \"order\"\n",
    "    elif tax_level == \"order\":\n",
    "        not_included = \"family\"\n",
    "    elif tax_level == \"family\":\n",
    "        not_included = \"genus\"\n",
    "    elif tax_level == \"genus\":\n",
    "        not_included = \"species\"\n",
    "    elif tax_level == \"species\":\n",
    "        taxa = list(tax_profiles_subject[(tax_profiles_subject[tax_level].notnull())][tax_level])\n",
    "        for taxon in taxa:\n",
    "            taxa_abundance[taxon] = tax_profiles_subject[(tax_profiles_subject[tax_level] == taxon)]['relative_abundance']\n",
    "        return taxa_abundance, list(set(taxa))\n",
    "    else:\n",
    "        raise Exception(\"incorrect taxonomic level selected\")\n",
    "    \n",
    "    taxa = list(tax_profiles_subject[(tax_profiles_subject[tax_level].notnull()) & \n",
    "                                     (tax_profiles_subject[not_included].isnull())][tax_level])\n",
    "    for taxon in taxa:\n",
    "        taxa_abundance[taxon] = tax_profiles_subject[(tax_profiles_subject[tax_level] == taxon) & \n",
    "                                                     (tax_profiles_subject[not_included].isnull())]['relative_abundance']\n",
    "    return taxa_abundance, list(set(taxa))"
   ]
  },
  {
   "cell_type": "code",
   "execution_count": 45,
   "metadata": {},
   "outputs": [],
   "source": [
    "def plot_dumbbell(tax_profiles, subject, tax_level):\n",
    "    \"\"\"Plot the zimmer subset per subject as a grouped barplot. Based on code by Kylie Keijzer\n",
    "    \n",
    "    Keyword arguments:\n",
    "    zimmer_subset -- A pandas dataframe containing a subset of taxa of interest of the taxonomic profile per barcode for all barcodes \n",
    "    dataframes containing only the taxa analyzed by zimmer et al. 2012 as values\n",
    "    subject -- A string consisting of the subject ID\n",
    "    \"\"\"\n",
    "    if not tax_profiles.empty:\n",
    "        taxa_abundance = pd.DataFrame()\n",
    "        if subject == \"s Pooled\":\n",
    "            tax_profiles_subject = tax_profiles\n",
    "        else:\n",
    "            tax_profiles_subject = tax_profiles[tax_profiles.index.get_level_values('subject') == subject]\n",
    "            subject = f\" {subject}\"\n",
    "\n",
    "        taxa_abundance, taxa = select_taxa_on_level(taxa_abundance, tax_profiles_subject, tax_level)\n",
    "        \n",
    "        if not taxa_abundance.empty:\n",
    "            \n",
    "            source = create_column_data_source(taxa_abundance, taxa, True)\n",
    "            \n",
    "            # Creating the figure\n",
    "            p = figure(y_range=taxa, x_axis_type=\"log\", plot_height=500, plot_width=800,\n",
    "               title=f\"Subject{subject}: Abundance of all taxa on {tax_level} level\",\n",
    "               y_axis_label=\"Taxon\", x_axis_label=\"Relative abundance (%)\", \n",
    "               toolbar_location=None, tools=\"\")\n",
    "            \n",
    "            #OrderedDict(sorted(dodge('taxa', 0, range=p.y_range).items(), key=lambda t: t[1]))\n",
    "            \n",
    "            p.segment(x0=\"xregular\", y0=dodge('taxa', 0, range=p.y_range), x1=\"xvegan\", y1=dodge('taxa', 0, range=p.y_range), line_color=\"black\", line_width=3, source=source)\n",
    "    \n",
    "            size = 200 / len(taxa)\n",
    "                \n",
    "            p.circle(y=dodge('taxa', 0, range=p.y_range), x='control', name='control',\n",
    "                    source=source, color=\"darkblue\", legend_label=\"Regular diet\", size=size)\n",
    "\n",
    "            p.circle(y=dodge('taxa', 0, range=p.y_range), x='vegan', name='vegan',\n",
    "                    source=source, color=\"darkgreen\", legend_label=\"Vegan diet\", size=size)\n",
    "\n",
    "            p.y_range.range_padding = 0.1\n",
    "            p.ygrid.grid_line_color = None\n",
    "            p.legend.location = \"bottom_right\"\n",
    "            p.legend.orientation = \"vertical\"\n",
    "\n",
    "            show(p)"
   ]
  },
  {
   "cell_type": "code",
   "execution_count": 46,
   "metadata": {
    "scrolled": false
   },
   "outputs": [
    {
     "name": "stderr",
     "output_type": "stream",
     "text": [
      "/usr/lib/python3/dist-packages/ipykernel_launcher.py:37: FutureWarning: Sorting because non-concatenation axis is not aligned. A future version\n",
      "of pandas will change to not sort by default.\n",
      "\n",
      "To accept the future behavior, pass 'sort=False'.\n",
      "\n",
      "To retain the current behavior and silence the warning, pass 'sort=True'.\n",
      "\n"
     ]
    },
    {
     "data": {
      "text/html": [
       "\n",
       "\n",
       "\n",
       "\n",
       "\n",
       "\n",
       "  <div class=\"bk-root\" id=\"5670cbb5-2fd3-43d4-a09a-faa2ac5b1b1c\" data-root-id=\"13685\"></div>\n"
      ]
     },
     "metadata": {},
     "output_type": "display_data"
    },
    {
     "data": {
      "application/javascript": [
       "(function(root) {\n",
       "  function embed_document(root) {\n",
       "    \n",
       "  var docs_json = {\"b7bb18c8-e0e8-4807-ba20-349ab9ffbe7c\":{\"roots\":{\"references\":[{\"attributes\":{\"below\":[{\"id\":\"13696\"}],\"center\":[{\"id\":\"13699\"},{\"id\":\"13702\"},{\"id\":\"13724\"}],\"left\":[{\"id\":\"13700\"}],\"plot_height\":500,\"plot_width\":800,\"renderers\":[{\"id\":\"13709\"},{\"id\":\"13715\"},{\"id\":\"13730\"}],\"title\":{\"id\":\"13686\"},\"toolbar\":{\"id\":\"13703\"},\"toolbar_location\":null,\"x_range\":{\"id\":\"13688\"},\"x_scale\":{\"id\":\"13692\"},\"y_range\":{\"id\":\"13690\"},\"y_scale\":{\"id\":\"13694\"}},\"id\":\"13685\",\"subtype\":\"Figure\",\"type\":\"Plot\"},{\"attributes\":{\"line_alpha\":{\"value\":0.1},\"line_width\":{\"value\":3},\"x0\":{\"field\":\"xregular\"},\"x1\":{\"field\":\"xvegan\"},\"y0\":{\"field\":\"taxa\",\"transform\":{\"id\":\"13704\"}},\"y1\":{\"field\":\"taxa\",\"transform\":{\"id\":\"13705\"}}},\"id\":\"13708\",\"type\":\"Segment\"},{\"attributes\":{},\"id\":\"13718\",\"type\":\"CategoricalTickFormatter\"},{\"attributes\":{\"axis\":{\"id\":\"13696\"},\"ticker\":null},\"id\":\"13699\",\"type\":\"Grid\"},{\"attributes\":{\"source\":{\"id\":\"13684\"}},\"id\":\"13731\",\"type\":\"CDSView\"},{\"attributes\":{\"source\":{\"id\":\"13684\"}},\"id\":\"13716\",\"type\":\"CDSView\"},{\"attributes\":{\"axis_label\":\"Taxon\",\"formatter\":{\"id\":\"13718\"},\"ticker\":{\"id\":\"13701\"}},\"id\":\"13700\",\"type\":\"CategoricalAxis\"},{\"attributes\":{\"ticker\":null},\"id\":\"13720\",\"type\":\"LogTickFormatter\"},{\"attributes\":{},\"id\":\"13701\",\"type\":\"CategoricalTicker\"},{\"attributes\":{\"axis\":{\"id\":\"13700\"},\"dimension\":1,\"grid_line_color\":null,\"ticker\":null},\"id\":\"13702\",\"type\":\"Grid\"},{\"attributes\":{\"fill_color\":{\"value\":\"darkblue\"},\"line_color\":{\"value\":\"darkblue\"},\"size\":{\"units\":\"screen\",\"value\":8.0},\"x\":{\"field\":\"control\"},\"y\":{\"field\":\"taxa\",\"transform\":{\"id\":\"13711\"}}},\"id\":\"13713\",\"type\":\"Circle\"},{\"attributes\":{\"axis_label\":\"Relative abundance (%)\",\"formatter\":{\"id\":\"13720\"},\"ticker\":{\"id\":\"13697\"}},\"id\":\"13696\",\"type\":\"LogAxis\"},{\"attributes\":{\"active_drag\":\"auto\",\"active_inspect\":\"auto\",\"active_multi\":null,\"active_scroll\":\"auto\",\"active_tap\":\"auto\"},\"id\":\"13703\",\"type\":\"Toolbar\"},{\"attributes\":{\"range\":{\"id\":\"13690\"}},\"id\":\"13711\",\"type\":\"Dodge\"},{\"attributes\":{\"num_minor_ticks\":10},\"id\":\"13697\",\"type\":\"LogTicker\"},{\"attributes\":{\"label\":{\"value\":\"Regular diet\"},\"renderers\":[{\"id\":\"13715\"}]},\"id\":\"13725\",\"type\":\"LegendItem\"},{\"attributes\":{\"range\":{\"id\":\"13690\"}},\"id\":\"13705\",\"type\":\"Dodge\"},{\"attributes\":{\"data_source\":{\"id\":\"13684\"},\"glyph\":{\"id\":\"13707\"},\"hover_glyph\":null,\"muted_glyph\":null,\"nonselection_glyph\":{\"id\":\"13708\"},\"selection_glyph\":null,\"view\":{\"id\":\"13710\"}},\"id\":\"13709\",\"type\":\"GlyphRenderer\"},{\"attributes\":{\"range\":{\"id\":\"13690\"}},\"id\":\"13726\",\"type\":\"Dodge\"},{\"attributes\":{\"data_source\":{\"id\":\"13684\"},\"glyph\":{\"id\":\"13713\"},\"hover_glyph\":null,\"muted_glyph\":null,\"name\":\"control\",\"nonselection_glyph\":{\"id\":\"13714\"},\"selection_glyph\":null,\"view\":{\"id\":\"13716\"}},\"id\":\"13715\",\"type\":\"GlyphRenderer\"},{\"attributes\":{},\"id\":\"13694\",\"type\":\"CategoricalScale\"},{\"attributes\":{\"line_width\":{\"value\":3},\"x0\":{\"field\":\"xregular\"},\"x1\":{\"field\":\"xvegan\"},\"y0\":{\"field\":\"taxa\",\"transform\":{\"id\":\"13704\"}},\"y1\":{\"field\":\"taxa\",\"transform\":{\"id\":\"13705\"}}},\"id\":\"13707\",\"type\":\"Segment\"},{\"attributes\":{\"fill_alpha\":{\"value\":0.1},\"fill_color\":{\"value\":\"darkgreen\"},\"line_alpha\":{\"value\":0.1},\"line_color\":{\"value\":\"darkgreen\"},\"size\":{\"units\":\"screen\",\"value\":8.0},\"x\":{\"field\":\"vegan\"},\"y\":{\"field\":\"taxa\",\"transform\":{\"id\":\"13726\"}}},\"id\":\"13729\",\"type\":\"Circle\"},{\"attributes\":{\"factors\":[\"Thermoleophilaceae\",\"Barnesiellaceae\",\"Prevotellaceae\",\"Bifidobacteriaceae\",\"Odoribacteraceae\",\"Veillonellaceae\",\"Alloherpesviridae\",\"Siphoviridae\",\"Bacteroidaceae\",\"Oscillospiraceae\",\"Synergistaceae\",\"Akkermansiaceae\",\"Atopobiaceae\",\"Ruminococcaceae\",\"Coriobacteriaceae\",\"Tannerellaceae\",\"Eubacteriaceae\",\"Firmicutes_unclassified\",\"Bacillales_unclassified\",\"Eggerthellaceae\",\"Enterobacteriaceae\",\"Rikenellaceae\",\"Lachnospiraceae\",\"Acidaminococcaceae\",\"Sutterellaceae\"],\"range_padding\":0.1},\"id\":\"13690\",\"type\":\"FactorRange\"},{\"attributes\":{\"label\":{\"value\":\"Vegan diet\"},\"renderers\":[{\"id\":\"13730\"}]},\"id\":\"13739\",\"type\":\"LegendItem\"},{\"attributes\":{},\"id\":\"13688\",\"type\":\"DataRange1d\"},{\"attributes\":{},\"id\":\"13692\",\"type\":\"LogScale\"},{\"attributes\":{},\"id\":\"13722\",\"type\":\"Selection\"},{\"attributes\":{},\"id\":\"13723\",\"type\":\"UnionRenderers\"},{\"attributes\":{\"fill_color\":{\"value\":\"darkgreen\"},\"line_color\":{\"value\":\"darkgreen\"},\"size\":{\"units\":\"screen\",\"value\":8.0},\"x\":{\"field\":\"vegan\"},\"y\":{\"field\":\"taxa\",\"transform\":{\"id\":\"13726\"}}},\"id\":\"13728\",\"type\":\"Circle\"},{\"attributes\":{\"data\":{\"control\":{\"__ndarray__\":\"QgQDiD6/vj/SKsItjjLEP9KVpa4Tp9M/EZGX8sKr1z9BI/TFfELYPwwfEVMiidw/sQWtLw3T4T+MocLCscTkP5y5yRCq7uU/VUJknhoa6z9TExRNYPbtPxhSg0xey+4/yAgQhm9F9j89zzSOM4H+P2dtk/1GkQBAll6sk2iwC0CzHWdI9XgRQIToh6WpFBNANjBB9ZXOGkAQoQI8H+IeQFdKA/8q+TJA/rWSfVMsPkAAAAAAAAD4fwAAAAAAAPh/AAAAAAAA+H8=\",\"dtype\":\"float64\",\"order\":\"little\",\"shape\":[25]},\"taxa\":[\"Bacillales_unclassified\",\"Thermoleophilaceae\",\"Atopobiaceae\",\"Acidaminococcaceae\",\"Oscillospiraceae\",\"Sutterellaceae\",\"Eggerthellaceae\",\"Siphoviridae\",\"Veillonellaceae\",\"Odoribacteraceae\",\"Alloherpesviridae\",\"Barnesiellaceae\",\"Synergistaceae\",\"Eubacteriaceae\",\"Coriobacteriaceae\",\"Ruminococcaceae\",\"Tannerellaceae\",\"Bifidobacteriaceae\",\"Prevotellaceae\",\"Rikenellaceae\",\"Lachnospiraceae\",\"Bacteroidaceae\",\"Akkermansiaceae\",\"Firmicutes_unclassified\",\"Enterobacteriaceae\"],\"vegan\":{\"__ndarray__\":\"AAAAAAAA+H8AAAAAAAD4fwAAAAAAAPh/BW7dzVMdxj8L9If90VngP1N6Xd3aQds/AAAAAAAA+H8AAAAAAAD4fwAAAAAAAPh/xkk8gLNI6j9QMOi06cnyPxRx74Eobu4/AAAAAAAA+H8AAAAAAAD4fyqQLFPFOOs/5uEFfxqLEkAlwobmx8oEQFnOZ0auJfE/ChBkKGIcPEDCUFEwd9IkQB+A1CZO7glAx6oNjSdIQUCsrANyZ7jrP1sjV5VKpOY/mIbhI2KKBUA=\",\"dtype\":\"float64\",\"order\":\"little\",\"shape\":[25]},\"xregular\":{\"__ndarray__\":\"QgQDiD6/vj/SKsItjjLEP9KVpa4Tp9M/EZGX8sKr1z9BI/TFfELYPwwfEVMiidw/sQWtLw3T4T+MocLCscTkP5y5yRCq7uU/VUJknhoa6z9TExRNYPbtPxhSg0xey+4/yAgQhm9F9j89zzSOM4H+P2dtk/1GkQBAll6sk2iwC0CzHWdI9XgRQIToh6WpFBNANjBB9ZXOGkAQoQI8H+IeQFdKA/8q+TJA/rWSfVMsPkAAAAAAAAD4fwAAAAAAAPh/AAAAAAAA+H8=\",\"dtype\":\"float64\",\"order\":\"little\",\"shape\":[25]},\"xvegan\":{\"__ndarray__\":\"AAAAAAAA+H8AAAAAAAD4fwAAAAAAAPh/BW7dzVMdxj8L9If90VngP1N6Xd3aQds/AAAAAAAA+H8AAAAAAAD4fwAAAAAAAPh/xkk8gLNI6j9QMOi06cnyPxRx74Eobu4/AAAAAAAA+H8AAAAAAAD4fyqQLFPFOOs/5uEFfxqLEkAlwobmx8oEQFnOZ0auJfE/ChBkKGIcPEDCUFEwd9IkQB+A1CZO7glAx6oNjSdIQUCsrANyZ7jrP1sjV5VKpOY/mIbhI2KKBUA=\",\"dtype\":\"float64\",\"order\":\"little\",\"shape\":[25]}},\"selected\":{\"id\":\"13722\"},\"selection_policy\":{\"id\":\"13723\"}},\"id\":\"13684\",\"type\":\"ColumnDataSource\"},{\"attributes\":{\"items\":[{\"id\":\"13725\"},{\"id\":\"13739\"}],\"location\":\"bottom_right\"},\"id\":\"13724\",\"type\":\"Legend\"},{\"attributes\":{\"range\":{\"id\":\"13690\"}},\"id\":\"13704\",\"type\":\"Dodge\"},{\"attributes\":{\"text\":\"Subjects Pooled: Abundance of all taxa on family level\"},\"id\":\"13686\",\"type\":\"Title\"},{\"attributes\":{\"data_source\":{\"id\":\"13684\"},\"glyph\":{\"id\":\"13728\"},\"hover_glyph\":null,\"muted_glyph\":null,\"name\":\"vegan\",\"nonselection_glyph\":{\"id\":\"13729\"},\"selection_glyph\":null,\"view\":{\"id\":\"13731\"}},\"id\":\"13730\",\"type\":\"GlyphRenderer\"},{\"attributes\":{\"source\":{\"id\":\"13684\"}},\"id\":\"13710\",\"type\":\"CDSView\"},{\"attributes\":{\"fill_alpha\":{\"value\":0.1},\"fill_color\":{\"value\":\"darkblue\"},\"line_alpha\":{\"value\":0.1},\"line_color\":{\"value\":\"darkblue\"},\"size\":{\"units\":\"screen\",\"value\":8.0},\"x\":{\"field\":\"control\"},\"y\":{\"field\":\"taxa\",\"transform\":{\"id\":\"13711\"}}},\"id\":\"13714\",\"type\":\"Circle\"}],\"root_ids\":[\"13685\"]},\"title\":\"Bokeh Application\",\"version\":\"2.2.3\"}};\n",
       "  var render_items = [{\"docid\":\"b7bb18c8-e0e8-4807-ba20-349ab9ffbe7c\",\"root_ids\":[\"13685\"],\"roots\":{\"13685\":\"5670cbb5-2fd3-43d4-a09a-faa2ac5b1b1c\"}}];\n",
       "  root.Bokeh.embed.embed_items_notebook(docs_json, render_items);\n",
       "\n",
       "  }\n",
       "  if (root.Bokeh !== undefined) {\n",
       "    embed_document(root);\n",
       "  } else {\n",
       "    var attempts = 0;\n",
       "    var timer = setInterval(function(root) {\n",
       "      if (root.Bokeh !== undefined) {\n",
       "        clearInterval(timer);\n",
       "        embed_document(root);\n",
       "      } else {\n",
       "        attempts++;\n",
       "        if (attempts > 100) {\n",
       "          clearInterval(timer);\n",
       "          console.log(\"Bokeh: ERROR: Unable to run BokehJS code because BokehJS library is missing\");\n",
       "        }\n",
       "      }\n",
       "    }, 10, root)\n",
       "  }\n",
       "})(window);"
      ],
      "application/vnd.bokehjs_exec.v0+json": ""
     },
     "metadata": {
      "application/vnd.bokehjs_exec.v0+json": {
       "id": "13685"
      }
     },
     "output_type": "display_data"
    },
    {
     "data": {
      "text/html": [
       "\n",
       "\n",
       "\n",
       "\n",
       "\n",
       "\n",
       "  <div class=\"bk-root\" id=\"ec54ca70-287f-4ed8-bb75-3cc1a81cc81a\" data-root-id=\"14119\"></div>\n"
      ]
     },
     "metadata": {},
     "output_type": "display_data"
    },
    {
     "data": {
      "application/javascript": [
       "(function(root) {\n",
       "  function embed_document(root) {\n",
       "    \n",
       "  var docs_json = {\"ca73fac9-0a95-41c0-aae6-4a1c3f840aeb\":{\"roots\":{\"references\":[{\"attributes\":{\"below\":[{\"id\":\"14130\"}],\"center\":[{\"id\":\"14132\"},{\"id\":\"14136\"},{\"id\":\"14151\"}],\"left\":[{\"id\":\"14133\"}],\"plot_height\":500,\"plot_width\":800,\"renderers\":[{\"id\":\"14142\"},{\"id\":\"14157\"},{\"id\":\"14163\"}],\"title\":{\"id\":\"14120\"},\"toolbar\":{\"id\":\"14137\"},\"toolbar_location\":null,\"x_range\":{\"id\":\"14122\"},\"x_scale\":{\"id\":\"14126\"},\"y_range\":{\"id\":\"14124\"},\"y_scale\":{\"id\":\"14128\"}},\"id\":\"14119\",\"subtype\":\"Figure\",\"type\":\"Plot\"},{\"attributes\":{\"fill_color\":{\"value\":\"#ceffc4\"},\"line_color\":{\"value\":\"#8dff75\"},\"top\":{\"field\":\"vegan\"},\"width\":{\"value\":0.2},\"x\":{\"field\":\"taxa\",\"transform\":{\"id\":\"14159\"}}},\"id\":\"14161\",\"type\":\"VBar\"},{\"attributes\":{\"range\":{\"id\":\"14122\"},\"value\":-0.12},\"id\":\"14138\",\"type\":\"Dodge\"},{\"attributes\":{\"text\":\"Subjects Pooled: Abundance of specific taxa of interest\"},\"id\":\"14120\",\"type\":\"Title\"},{\"attributes\":{\"fill_color\":{\"value\":\"#abdfff\"},\"line_color\":{\"value\":\"#75cbff\"},\"top\":{\"field\":\"control\"},\"width\":{\"value\":0.2},\"x\":{\"field\":\"taxa\",\"transform\":{\"id\":\"14138\"}}},\"id\":\"14140\",\"type\":\"VBar\"},{\"attributes\":{\"source\":{\"id\":\"14118\"}},\"id\":\"14143\",\"type\":\"CDSView\"},{\"attributes\":{\"factors\":[\"Bacteroides\",\"Bifidobacterium\",\"Escherichia_coli\",\"Enterobacteriaceae\",\"Clostridia\"],\"range_padding\":0.1},\"id\":\"14122\",\"type\":\"FactorRange\"},{\"attributes\":{\"source\":{\"id\":\"14118\"}},\"id\":\"14164\",\"type\":\"CDSView\"},{\"attributes\":{},\"id\":\"14149\",\"type\":\"Selection\"},{\"attributes\":{\"end\":100},\"id\":\"14124\",\"type\":\"Range1d\"},{\"attributes\":{},\"id\":\"14150\",\"type\":\"UnionRenderers\"},{\"attributes\":{},\"id\":\"14126\",\"type\":\"CategoricalScale\"},{\"attributes\":{},\"id\":\"14147\",\"type\":\"CategoricalTickFormatter\"},{\"attributes\":{},\"id\":\"14128\",\"type\":\"LinearScale\"},{\"attributes\":{\"label\":{\"value\":\"Regular diet\"},\"renderers\":[{\"id\":\"14142\"}]},\"id\":\"14152\",\"type\":\"LegendItem\"},{\"attributes\":{\"source\":{\"id\":\"14118\"}},\"id\":\"14158\",\"type\":\"CDSView\"},{\"attributes\":{\"axis_label\":\"Taxon\",\"formatter\":{\"id\":\"14147\"},\"ticker\":{\"id\":\"14131\"}},\"id\":\"14130\",\"type\":\"CategoricalAxis\"},{\"attributes\":{\"items\":[{\"id\":\"14152\"},{\"id\":\"14172\"}],\"orientation\":\"horizontal\"},\"id\":\"14151\",\"type\":\"Legend\"},{\"attributes\":{\"range\":{\"id\":\"14122\"}},\"id\":\"14153\",\"type\":\"Dodge\"},{\"attributes\":{},\"id\":\"14131\",\"type\":\"CategoricalTicker\"},{\"attributes\":{\"axis\":{\"id\":\"14130\"},\"grid_line_color\":null,\"ticker\":null},\"id\":\"14132\",\"type\":\"Grid\"},{\"attributes\":{\"axis_label\":\"Relative abundance (%)\",\"formatter\":{\"id\":\"14145\"},\"ticker\":{\"id\":\"14134\"}},\"id\":\"14133\",\"type\":\"LinearAxis\"},{\"attributes\":{\"data_source\":{\"id\":\"14118\"},\"glyph\":{\"id\":\"14161\"},\"hover_glyph\":null,\"muted_glyph\":null,\"name\":\"vegan\",\"nonselection_glyph\":{\"id\":\"14162\"},\"selection_glyph\":null,\"view\":{\"id\":\"14164\"}},\"id\":\"14163\",\"type\":\"GlyphRenderer\"},{\"attributes\":{},\"id\":\"14134\",\"type\":\"BasicTicker\"},{\"attributes\":{\"axis\":{\"id\":\"14133\"},\"dimension\":1,\"ticker\":null},\"id\":\"14136\",\"type\":\"Grid\"},{\"attributes\":{\"active_drag\":\"auto\",\"active_inspect\":\"auto\",\"active_multi\":null,\"active_scroll\":\"auto\",\"active_tap\":\"auto\"},\"id\":\"14137\",\"type\":\"Toolbar\"},{\"attributes\":{\"data_source\":{\"id\":\"14118\"},\"glyph\":{\"id\":\"14155\"},\"hover_glyph\":null,\"muted_glyph\":null,\"nonselection_glyph\":{\"id\":\"14156\"},\"selection_glyph\":null,\"view\":{\"id\":\"14158\"}},\"id\":\"14157\",\"type\":\"GlyphRenderer\"},{\"attributes\":{\"label\":{\"value\":\"Vegan diet\"},\"renderers\":[{\"id\":\"14163\"}]},\"id\":\"14172\",\"type\":\"LegendItem\"},{\"attributes\":{\"data\":{\"None\":[0,0,0,0,0],\"control\":{\"__ndarray__\":\"/rWSfVMsPkBNa3RLNfQRQAAAAAAAAPh/AAAAAAAA+H8EROn4iPU3QA==\",\"dtype\":\"float64\",\"order\":\"little\",\"shape\":[5]},\"taxa\":[\"Bacteroides\",\"Bifidobacterium\",\"Escherichia_coli\",\"Enterobacteriaceae\",\"Clostridia\"],\"vegan\":{\"__ndarray__\":\"x6oNjSdIQUBZzmdGriXxP5iG4SNiigVAmIbhI2KKBUAIA1ccTAwaQA==\",\"dtype\":\"float64\",\"order\":\"little\",\"shape\":[5]}},\"selected\":{\"id\":\"14149\"},\"selection_policy\":{\"id\":\"14150\"}},\"id\":\"14118\",\"type\":\"ColumnDataSource\"},{\"attributes\":{\"fill_color\":{\"value\":\"#1f77b4\"},\"line_color\":{\"value\":\"#1f77b4\"},\"top\":{\"field\":\"None\"},\"width\":{\"value\":0.1},\"x\":{\"field\":\"taxa\",\"transform\":{\"id\":\"14153\"}}},\"id\":\"14155\",\"type\":\"VBar\"},{\"attributes\":{\"range\":{\"id\":\"14122\"},\"value\":0.12},\"id\":\"14159\",\"type\":\"Dodge\"},{\"attributes\":{\"data_source\":{\"id\":\"14118\"},\"glyph\":{\"id\":\"14140\"},\"hover_glyph\":null,\"muted_glyph\":null,\"name\":\"control\",\"nonselection_glyph\":{\"id\":\"14141\"},\"selection_glyph\":null,\"view\":{\"id\":\"14143\"}},\"id\":\"14142\",\"type\":\"GlyphRenderer\"},{\"attributes\":{\"fill_alpha\":{\"value\":0.1},\"fill_color\":{\"value\":\"#ceffc4\"},\"line_alpha\":{\"value\":0.1},\"line_color\":{\"value\":\"#8dff75\"},\"top\":{\"field\":\"vegan\"},\"width\":{\"value\":0.2},\"x\":{\"field\":\"taxa\",\"transform\":{\"id\":\"14159\"}}},\"id\":\"14162\",\"type\":\"VBar\"},{\"attributes\":{\"fill_alpha\":{\"value\":0.1},\"fill_color\":{\"value\":\"#1f77b4\"},\"line_alpha\":{\"value\":0.1},\"line_color\":{\"value\":\"#1f77b4\"},\"top\":{\"field\":\"None\"},\"width\":{\"value\":0.1},\"x\":{\"field\":\"taxa\",\"transform\":{\"id\":\"14153\"}}},\"id\":\"14156\",\"type\":\"VBar\"},{\"attributes\":{\"fill_alpha\":{\"value\":0.1},\"fill_color\":{\"value\":\"#abdfff\"},\"line_alpha\":{\"value\":0.1},\"line_color\":{\"value\":\"#75cbff\"},\"top\":{\"field\":\"control\"},\"width\":{\"value\":0.2},\"x\":{\"field\":\"taxa\",\"transform\":{\"id\":\"14138\"}}},\"id\":\"14141\",\"type\":\"VBar\"},{\"attributes\":{},\"id\":\"14145\",\"type\":\"BasicTickFormatter\"}],\"root_ids\":[\"14119\"]},\"title\":\"Bokeh Application\",\"version\":\"2.2.3\"}};\n",
       "  var render_items = [{\"docid\":\"ca73fac9-0a95-41c0-aae6-4a1c3f840aeb\",\"root_ids\":[\"14119\"],\"roots\":{\"14119\":\"ec54ca70-287f-4ed8-bb75-3cc1a81cc81a\"}}];\n",
       "  root.Bokeh.embed.embed_items_notebook(docs_json, render_items);\n",
       "\n",
       "  }\n",
       "  if (root.Bokeh !== undefined) {\n",
       "    embed_document(root);\n",
       "  } else {\n",
       "    var attempts = 0;\n",
       "    var timer = setInterval(function(root) {\n",
       "      if (root.Bokeh !== undefined) {\n",
       "        clearInterval(timer);\n",
       "        embed_document(root);\n",
       "      } else {\n",
       "        attempts++;\n",
       "        if (attempts > 100) {\n",
       "          clearInterval(timer);\n",
       "          console.log(\"Bokeh: ERROR: Unable to run BokehJS code because BokehJS library is missing\");\n",
       "        }\n",
       "      }\n",
       "    }, 10, root)\n",
       "  }\n",
       "})(window);"
      ],
      "application/vnd.bokehjs_exec.v0+json": ""
     },
     "metadata": {
      "application/vnd.bokehjs_exec.v0+json": {
       "id": "14119"
      }
     },
     "output_type": "display_data"
    },
    {
     "data": {
      "text/html": [
       "\n",
       "\n",
       "\n",
       "\n",
       "\n",
       "\n",
       "  <div class=\"bk-root\" id=\"81a696bb-5073-4c32-8ff8-ba89ebca0785\" data-root-id=\"14559\"></div>\n"
      ]
     },
     "metadata": {},
     "output_type": "display_data"
    },
    {
     "data": {
      "application/javascript": [
       "(function(root) {\n",
       "  function embed_document(root) {\n",
       "    \n",
       "  var docs_json = {\"68550682-e733-4b36-885e-9431fa2287ea\":{\"roots\":{\"references\":[{\"attributes\":{\"below\":[{\"id\":\"14570\"}],\"center\":[{\"id\":\"14573\"},{\"id\":\"14576\"},{\"id\":\"14598\"}],\"left\":[{\"id\":\"14574\"}],\"plot_height\":500,\"plot_width\":800,\"renderers\":[{\"id\":\"14583\"},{\"id\":\"14589\"},{\"id\":\"14604\"}],\"title\":{\"id\":\"14560\"},\"toolbar\":{\"id\":\"14577\"},\"toolbar_location\":null,\"x_range\":{\"id\":\"14562\"},\"x_scale\":{\"id\":\"14566\"},\"y_range\":{\"id\":\"14564\"},\"y_scale\":{\"id\":\"14568\"}},\"id\":\"14559\",\"subtype\":\"Figure\",\"type\":\"Plot\"},{\"attributes\":{\"label\":{\"value\":\"Vegan diet\"},\"renderers\":[{\"id\":\"14604\"}]},\"id\":\"14613\",\"type\":\"LegendItem\"},{\"attributes\":{\"fill_color\":{\"value\":\"darkblue\"},\"line_color\":{\"value\":\"darkblue\"},\"size\":{\"units\":\"screen\",\"value\":8.695652173913043},\"x\":{\"field\":\"control\"},\"y\":{\"field\":\"taxa\",\"transform\":{\"id\":\"14585\"}}},\"id\":\"14587\",\"type\":\"Circle\"},{\"attributes\":{\"factors\":[\"Thermoleophilaceae\",\"Barnesiellaceae\",\"Prevotellaceae\",\"Bifidobacteriaceae\",\"Odoribacteraceae\",\"Veillonellaceae\",\"Alloherpesviridae\",\"Siphoviridae\",\"Bacteroidaceae\",\"Oscillospiraceae\",\"Synergistaceae\",\"Akkermansiaceae\",\"Atopobiaceae\",\"Ruminococcaceae\",\"Coriobacteriaceae\",\"Tannerellaceae\",\"Eubacteriaceae\",\"Firmicutes_unclassified\",\"Bacillales_unclassified\",\"Eggerthellaceae\",\"Rikenellaceae\",\"Lachnospiraceae\",\"Sutterellaceae\"],\"range_padding\":0.1},\"id\":\"14564\",\"type\":\"FactorRange\"},{\"attributes\":{\"source\":{\"id\":\"14558\"}},\"id\":\"14605\",\"type\":\"CDSView\"},{\"attributes\":{},\"id\":\"14596\",\"type\":\"Selection\"},{\"attributes\":{\"fill_color\":{\"value\":\"darkgreen\"},\"line_color\":{\"value\":\"darkgreen\"},\"size\":{\"units\":\"screen\",\"value\":8.695652173913043},\"x\":{\"field\":\"vegan\"},\"y\":{\"field\":\"taxa\",\"transform\":{\"id\":\"14600\"}}},\"id\":\"14602\",\"type\":\"Circle\"},{\"attributes\":{\"range\":{\"id\":\"14564\"}},\"id\":\"14600\",\"type\":\"Dodge\"},{\"attributes\":{\"data\":{\"control\":{\"__ndarray__\":\"QgQDiD6/vj/SKsItjjLEP9KVpa4Tp9M/QSP0xXxC2D+bUSH1HlfcP7EFrS8N0+E/jKHCwrHE5D8T2ulDzZTmP1VCZJ4aGus/AcP6Qfzg7T/jXAAAj+DzP8gIEIZvRfY/8e7X74PTDECIIhJpCyMOQDw54Tw+ehlANjBB9ZXOGkAzaUHj4KseQK1h/TOrXSBAdmf96CBzIUBOxjk8PyUvQAAAAAAAAPh/AAAAAAAA+H8AAAAAAAD4fw==\",\"dtype\":\"float64\",\"order\":\"little\",\"shape\":[23]},\"taxa\":[\"Bacillales_unclassified\",\"Thermoleophilaceae\",\"Atopobiaceae\",\"Oscillospiraceae\",\"Alloherpesviridae\",\"Eggerthellaceae\",\"Siphoviridae\",\"Eubacteriaceae\",\"Odoribacteraceae\",\"Barnesiellaceae\",\"Veillonellaceae\",\"Synergistaceae\",\"Coriobacteriaceae\",\"Ruminococcaceae\",\"Tannerellaceae\",\"Prevotellaceae\",\"Lachnospiraceae\",\"Bifidobacteriaceae\",\"Rikenellaceae\",\"Bacteroidaceae\",\"Akkermansiaceae\",\"Firmicutes_unclassified\",\"Sutterellaceae\"],\"vegan\":{\"__ndarray__\":\"AAAAAAAA+H8AAAAAAAD4fwAAAAAAAPh/C/SH/dFZ4D8q0s6Q57X7PwAAAAAAAPh/AAAAAAAA+H8AAAAAAAD4f0Wk2YPIud4/ep8UtKZe4z8AAAAAAAD4fwAAAAAAAPh/Je2ZGMTr9j+Tea1g0XUcQPE8uHrbVxFAChBkKGIcPEAAAAAAAAD4f1nOZ0auJfE/8RQG27D3JkCxB0YD+4krQKysA3JnuOs/WyNXlUqk5j9Tel3d2kHbPw==\",\"dtype\":\"float64\",\"order\":\"little\",\"shape\":[23]},\"xregular\":{\"__ndarray__\":\"QgQDiD6/vj/SKsItjjLEP9KVpa4Tp9M/QSP0xXxC2D+bUSH1HlfcP7EFrS8N0+E/jKHCwrHE5D8T2ulDzZTmP1VCZJ4aGus/AcP6Qfzg7T/jXAAAj+DzP8gIEIZvRfY/8e7X74PTDECIIhJpCyMOQDw54Tw+ehlANjBB9ZXOGkAzaUHj4KseQK1h/TOrXSBAdmf96CBzIUBOxjk8PyUvQAAAAAAAAPh/AAAAAAAA+H8AAAAAAAD4fw==\",\"dtype\":\"float64\",\"order\":\"little\",\"shape\":[23]},\"xvegan\":{\"__ndarray__\":\"AAAAAAAA+H8AAAAAAAD4fwAAAAAAAPh/C/SH/dFZ4D8q0s6Q57X7PwAAAAAAAPh/AAAAAAAA+H8AAAAAAAD4f0Wk2YPIud4/ep8UtKZe4z8AAAAAAAD4fwAAAAAAAPh/Je2ZGMTr9j+Tea1g0XUcQPE8uHrbVxFAChBkKGIcPEAAAAAAAAD4f1nOZ0auJfE/8RQG27D3JkCxB0YD+4krQKysA3JnuOs/WyNXlUqk5j9Tel3d2kHbPw==\",\"dtype\":\"float64\",\"order\":\"little\",\"shape\":[23]}},\"selected\":{\"id\":\"14596\"},\"selection_policy\":{\"id\":\"14597\"}},\"id\":\"14558\",\"type\":\"ColumnDataSource\"},{\"attributes\":{},\"id\":\"14592\",\"type\":\"CategoricalTickFormatter\"},{\"attributes\":{\"text\":\"Subject A: Abundance of all taxa on family level\"},\"id\":\"14560\",\"type\":\"Title\"},{\"attributes\":{\"items\":[{\"id\":\"14599\"},{\"id\":\"14613\"}],\"location\":\"bottom_right\"},\"id\":\"14598\",\"type\":\"Legend\"},{\"attributes\":{},\"id\":\"14597\",\"type\":\"UnionRenderers\"},{\"attributes\":{\"fill_alpha\":{\"value\":0.1},\"fill_color\":{\"value\":\"darkblue\"},\"line_alpha\":{\"value\":0.1},\"line_color\":{\"value\":\"darkblue\"},\"size\":{\"units\":\"screen\",\"value\":8.695652173913043},\"x\":{\"field\":\"control\"},\"y\":{\"field\":\"taxa\",\"transform\":{\"id\":\"14585\"}}},\"id\":\"14588\",\"type\":\"Circle\"},{\"attributes\":{\"axis_label\":\"Taxon\",\"formatter\":{\"id\":\"14592\"},\"ticker\":{\"id\":\"14575\"}},\"id\":\"14574\",\"type\":\"CategoricalAxis\"},{\"attributes\":{\"line_width\":{\"value\":3},\"x0\":{\"field\":\"xregular\"},\"x1\":{\"field\":\"xvegan\"},\"y0\":{\"field\":\"taxa\",\"transform\":{\"id\":\"14578\"}},\"y1\":{\"field\":\"taxa\",\"transform\":{\"id\":\"14579\"}}},\"id\":\"14581\",\"type\":\"Segment\"},{\"attributes\":{\"axis\":{\"id\":\"14570\"},\"ticker\":null},\"id\":\"14573\",\"type\":\"Grid\"},{\"attributes\":{\"fill_alpha\":{\"value\":0.1},\"fill_color\":{\"value\":\"darkgreen\"},\"line_alpha\":{\"value\":0.1},\"line_color\":{\"value\":\"darkgreen\"},\"size\":{\"units\":\"screen\",\"value\":8.695652173913043},\"x\":{\"field\":\"vegan\"},\"y\":{\"field\":\"taxa\",\"transform\":{\"id\":\"14600\"}}},\"id\":\"14603\",\"type\":\"Circle\"},{\"attributes\":{\"active_drag\":\"auto\",\"active_inspect\":\"auto\",\"active_multi\":null,\"active_scroll\":\"auto\",\"active_tap\":\"auto\"},\"id\":\"14577\",\"type\":\"Toolbar\"},{\"attributes\":{\"axis\":{\"id\":\"14574\"},\"dimension\":1,\"grid_line_color\":null,\"ticker\":null},\"id\":\"14576\",\"type\":\"Grid\"},{\"attributes\":{\"num_minor_ticks\":10},\"id\":\"14571\",\"type\":\"LogTicker\"},{\"attributes\":{},\"id\":\"14575\",\"type\":\"CategoricalTicker\"},{\"attributes\":{\"data_source\":{\"id\":\"14558\"},\"glyph\":{\"id\":\"14602\"},\"hover_glyph\":null,\"muted_glyph\":null,\"name\":\"vegan\",\"nonselection_glyph\":{\"id\":\"14603\"},\"selection_glyph\":null,\"view\":{\"id\":\"14605\"}},\"id\":\"14604\",\"type\":\"GlyphRenderer\"},{\"attributes\":{\"line_alpha\":{\"value\":0.1},\"line_width\":{\"value\":3},\"x0\":{\"field\":\"xregular\"},\"x1\":{\"field\":\"xvegan\"},\"y0\":{\"field\":\"taxa\",\"transform\":{\"id\":\"14578\"}},\"y1\":{\"field\":\"taxa\",\"transform\":{\"id\":\"14579\"}}},\"id\":\"14582\",\"type\":\"Segment\"},{\"attributes\":{\"label\":{\"value\":\"Regular diet\"},\"renderers\":[{\"id\":\"14589\"}]},\"id\":\"14599\",\"type\":\"LegendItem\"},{\"attributes\":{\"range\":{\"id\":\"14564\"}},\"id\":\"14578\",\"type\":\"Dodge\"},{\"attributes\":{\"axis_label\":\"Relative abundance (%)\",\"formatter\":{\"id\":\"14594\"},\"ticker\":{\"id\":\"14571\"}},\"id\":\"14570\",\"type\":\"LogAxis\"},{\"attributes\":{\"data_source\":{\"id\":\"14558\"},\"glyph\":{\"id\":\"14581\"},\"hover_glyph\":null,\"muted_glyph\":null,\"nonselection_glyph\":{\"id\":\"14582\"},\"selection_glyph\":null,\"view\":{\"id\":\"14584\"}},\"id\":\"14583\",\"type\":\"GlyphRenderer\"},{\"attributes\":{\"range\":{\"id\":\"14564\"}},\"id\":\"14585\",\"type\":\"Dodge\"},{\"attributes\":{\"data_source\":{\"id\":\"14558\"},\"glyph\":{\"id\":\"14587\"},\"hover_glyph\":null,\"muted_glyph\":null,\"name\":\"control\",\"nonselection_glyph\":{\"id\":\"14588\"},\"selection_glyph\":null,\"view\":{\"id\":\"14590\"}},\"id\":\"14589\",\"type\":\"GlyphRenderer\"},{\"attributes\":{},\"id\":\"14566\",\"type\":\"LogScale\"},{\"attributes\":{\"range\":{\"id\":\"14564\"}},\"id\":\"14579\",\"type\":\"Dodge\"},{\"attributes\":{\"source\":{\"id\":\"14558\"}},\"id\":\"14590\",\"type\":\"CDSView\"},{\"attributes\":{},\"id\":\"14568\",\"type\":\"CategoricalScale\"},{\"attributes\":{\"ticker\":null},\"id\":\"14594\",\"type\":\"LogTickFormatter\"},{\"attributes\":{\"source\":{\"id\":\"14558\"}},\"id\":\"14584\",\"type\":\"CDSView\"},{\"attributes\":{},\"id\":\"14562\",\"type\":\"DataRange1d\"}],\"root_ids\":[\"14559\"]},\"title\":\"Bokeh Application\",\"version\":\"2.2.3\"}};\n",
       "  var render_items = [{\"docid\":\"68550682-e733-4b36-885e-9431fa2287ea\",\"root_ids\":[\"14559\"],\"roots\":{\"14559\":\"81a696bb-5073-4c32-8ff8-ba89ebca0785\"}}];\n",
       "  root.Bokeh.embed.embed_items_notebook(docs_json, render_items);\n",
       "\n",
       "  }\n",
       "  if (root.Bokeh !== undefined) {\n",
       "    embed_document(root);\n",
       "  } else {\n",
       "    var attempts = 0;\n",
       "    var timer = setInterval(function(root) {\n",
       "      if (root.Bokeh !== undefined) {\n",
       "        clearInterval(timer);\n",
       "        embed_document(root);\n",
       "      } else {\n",
       "        attempts++;\n",
       "        if (attempts > 100) {\n",
       "          clearInterval(timer);\n",
       "          console.log(\"Bokeh: ERROR: Unable to run BokehJS code because BokehJS library is missing\");\n",
       "        }\n",
       "      }\n",
       "    }, 10, root)\n",
       "  }\n",
       "})(window);"
      ],
      "application/vnd.bokehjs_exec.v0+json": ""
     },
     "metadata": {
      "application/vnd.bokehjs_exec.v0+json": {
       "id": "14559"
      }
     },
     "output_type": "display_data"
    },
    {
     "data": {
      "text/html": [
       "\n",
       "\n",
       "\n",
       "\n",
       "\n",
       "\n",
       "  <div class=\"bk-root\" id=\"7f5c801b-82d4-4943-9ad3-f2d9f1ae9931\" data-root-id=\"15007\"></div>\n"
      ]
     },
     "metadata": {},
     "output_type": "display_data"
    },
    {
     "data": {
      "application/javascript": [
       "(function(root) {\n",
       "  function embed_document(root) {\n",
       "    \n",
       "  var docs_json = {\"39caaf71-68f1-4caf-9887-4852f6773105\":{\"roots\":{\"references\":[{\"attributes\":{\"below\":[{\"id\":\"15018\"}],\"center\":[{\"id\":\"15020\"},{\"id\":\"15024\"},{\"id\":\"15039\"}],\"left\":[{\"id\":\"15021\"}],\"plot_height\":500,\"plot_width\":800,\"renderers\":[{\"id\":\"15030\"},{\"id\":\"15045\"},{\"id\":\"15051\"}],\"title\":{\"id\":\"15008\"},\"toolbar\":{\"id\":\"15025\"},\"toolbar_location\":null,\"x_range\":{\"id\":\"15010\"},\"x_scale\":{\"id\":\"15014\"},\"y_range\":{\"id\":\"15012\"},\"y_scale\":{\"id\":\"15016\"}},\"id\":\"15007\",\"subtype\":\"Figure\",\"type\":\"Plot\"},{\"attributes\":{},\"id\":\"15033\",\"type\":\"BasicTickFormatter\"},{\"attributes\":{},\"id\":\"15037\",\"type\":\"Selection\"},{\"attributes\":{\"text\":\"Subject A: Abundance of specific taxa of interest\"},\"id\":\"15008\",\"type\":\"Title\"},{\"attributes\":{\"label\":{\"value\":\"Vegan diet\"},\"renderers\":[{\"id\":\"15051\"}]},\"id\":\"15060\",\"type\":\"LegendItem\"},{\"attributes\":{\"end\":100},\"id\":\"15012\",\"type\":\"Range1d\"},{\"attributes\":{},\"id\":\"15038\",\"type\":\"UnionRenderers\"},{\"attributes\":{\"source\":{\"id\":\"15006\"}},\"id\":\"15052\",\"type\":\"CDSView\"},{\"attributes\":{\"factors\":[\"Bacteroides\",\"Bifidobacterium\",\"Escherichia_coli\",\"Enterobacteriaceae\",\"Clostridia\"],\"range_padding\":0.1},\"id\":\"15010\",\"type\":\"FactorRange\"},{\"attributes\":{\"fill_color\":{\"value\":\"#ceffc4\"},\"line_color\":{\"value\":\"#8dff75\"},\"top\":{\"field\":\"vegan\"},\"width\":{\"value\":0.2},\"x\":{\"field\":\"taxa\",\"transform\":{\"id\":\"15047\"}}},\"id\":\"15049\",\"type\":\"VBar\"},{\"attributes\":{\"label\":{\"value\":\"Regular diet\"},\"renderers\":[{\"id\":\"15030\"}]},\"id\":\"15040\",\"type\":\"LegendItem\"},{\"attributes\":{},\"id\":\"15035\",\"type\":\"CategoricalTickFormatter\"},{\"attributes\":{},\"id\":\"15019\",\"type\":\"CategoricalTicker\"},{\"attributes\":{\"range\":{\"id\":\"15010\"}},\"id\":\"15041\",\"type\":\"Dodge\"},{\"attributes\":{},\"id\":\"15014\",\"type\":\"CategoricalScale\"},{\"attributes\":{},\"id\":\"15016\",\"type\":\"LinearScale\"},{\"attributes\":{\"items\":[{\"id\":\"15040\"},{\"id\":\"15060\"}],\"orientation\":\"horizontal\"},\"id\":\"15039\",\"type\":\"Legend\"},{\"attributes\":{\"axis_label\":\"Taxon\",\"formatter\":{\"id\":\"15035\"},\"ticker\":{\"id\":\"15019\"}},\"id\":\"15018\",\"type\":\"CategoricalAxis\"},{\"attributes\":{\"data_source\":{\"id\":\"15006\"},\"glyph\":{\"id\":\"15049\"},\"hover_glyph\":null,\"muted_glyph\":null,\"name\":\"vegan\",\"nonselection_glyph\":{\"id\":\"15050\"},\"selection_glyph\":null,\"view\":{\"id\":\"15052\"}},\"id\":\"15051\",\"type\":\"GlyphRenderer\"},{\"attributes\":{\"fill_alpha\":{\"value\":0.1},\"fill_color\":{\"value\":\"#1f77b4\"},\"line_alpha\":{\"value\":0.1},\"line_color\":{\"value\":\"#1f77b4\"},\"top\":{\"field\":\"None\"},\"width\":{\"value\":0.1},\"x\":{\"field\":\"taxa\",\"transform\":{\"id\":\"15041\"}}},\"id\":\"15044\",\"type\":\"VBar\"},{\"attributes\":{\"range\":{\"id\":\"15010\"},\"value\":-0.12},\"id\":\"15026\",\"type\":\"Dodge\"},{\"attributes\":{\"axis\":{\"id\":\"15018\"},\"grid_line_color\":null,\"ticker\":null},\"id\":\"15020\",\"type\":\"Grid\"},{\"attributes\":{\"fill_alpha\":{\"value\":0.1},\"fill_color\":{\"value\":\"#ceffc4\"},\"line_alpha\":{\"value\":0.1},\"line_color\":{\"value\":\"#8dff75\"},\"top\":{\"field\":\"vegan\"},\"width\":{\"value\":0.2},\"x\":{\"field\":\"taxa\",\"transform\":{\"id\":\"15047\"}}},\"id\":\"15050\",\"type\":\"VBar\"},{\"attributes\":{\"axis_label\":\"Relative abundance (%)\",\"formatter\":{\"id\":\"15033\"},\"ticker\":{\"id\":\"15022\"}},\"id\":\"15021\",\"type\":\"LinearAxis\"},{\"attributes\":{\"fill_color\":{\"value\":\"#1f77b4\"},\"line_color\":{\"value\":\"#1f77b4\"},\"top\":{\"field\":\"None\"},\"width\":{\"value\":0.1},\"x\":{\"field\":\"taxa\",\"transform\":{\"id\":\"15041\"}}},\"id\":\"15043\",\"type\":\"VBar\"},{\"attributes\":{},\"id\":\"15022\",\"type\":\"BasicTicker\"},{\"attributes\":{\"axis\":{\"id\":\"15021\"},\"dimension\":1,\"ticker\":null},\"id\":\"15024\",\"type\":\"Grid\"},{\"attributes\":{\"source\":{\"id\":\"15006\"}},\"id\":\"15031\",\"type\":\"CDSView\"},{\"attributes\":{\"source\":{\"id\":\"15006\"}},\"id\":\"15046\",\"type\":\"CDSView\"},{\"attributes\":{\"active_drag\":\"auto\",\"active_inspect\":\"auto\",\"active_multi\":null,\"active_scroll\":\"auto\",\"active_tap\":\"auto\"},\"id\":\"15025\",\"type\":\"Toolbar\"},{\"attributes\":{\"data_source\":{\"id\":\"15006\"},\"glyph\":{\"id\":\"15043\"},\"hover_glyph\":null,\"muted_glyph\":null,\"nonselection_glyph\":{\"id\":\"15044\"},\"selection_glyph\":null,\"view\":{\"id\":\"15046\"}},\"id\":\"15045\",\"type\":\"GlyphRenderer\"},{\"attributes\":{\"fill_color\":{\"value\":\"#abdfff\"},\"line_color\":{\"value\":\"#75cbff\"},\"top\":{\"field\":\"control\"},\"width\":{\"value\":0.2},\"x\":{\"field\":\"taxa\",\"transform\":{\"id\":\"15026\"}}},\"id\":\"15028\",\"type\":\"VBar\"},{\"attributes\":{\"fill_alpha\":{\"value\":0.1},\"fill_color\":{\"value\":\"#abdfff\"},\"line_alpha\":{\"value\":0.1},\"line_color\":{\"value\":\"#75cbff\"},\"top\":{\"field\":\"control\"},\"width\":{\"value\":0.2},\"x\":{\"field\":\"taxa\",\"transform\":{\"id\":\"15026\"}}},\"id\":\"15029\",\"type\":\"VBar\"},{\"attributes\":{\"data\":{\"None\":[0,0,0,0,0],\"control\":{\"__ndarray__\":\"TsY5PD8lL0DsyNOzbXoeQAAAAAAAAPh/AAAAAAAA+H/2e1MGFAopQA==\",\"dtype\":\"float64\",\"order\":\"little\",\"shape\":[5]},\"taxa\":[\"Bacteroides\",\"Bifidobacterium\",\"Escherichia_coli\",\"Enterobacteriaceae\",\"Clostridia\"],\"vegan\":{\"__ndarray__\":\"sQdGA/uJK0BZzmdGriXxPwAAAAAAAPh/AAAAAAAA+H/He+WHDYEeQA==\",\"dtype\":\"float64\",\"order\":\"little\",\"shape\":[5]}},\"selected\":{\"id\":\"15037\"},\"selection_policy\":{\"id\":\"15038\"}},\"id\":\"15006\",\"type\":\"ColumnDataSource\"},{\"attributes\":{\"data_source\":{\"id\":\"15006\"},\"glyph\":{\"id\":\"15028\"},\"hover_glyph\":null,\"muted_glyph\":null,\"name\":\"control\",\"nonselection_glyph\":{\"id\":\"15029\"},\"selection_glyph\":null,\"view\":{\"id\":\"15031\"}},\"id\":\"15030\",\"type\":\"GlyphRenderer\"},{\"attributes\":{\"range\":{\"id\":\"15010\"},\"value\":0.12},\"id\":\"15047\",\"type\":\"Dodge\"}],\"root_ids\":[\"15007\"]},\"title\":\"Bokeh Application\",\"version\":\"2.2.3\"}};\n",
       "  var render_items = [{\"docid\":\"39caaf71-68f1-4caf-9887-4852f6773105\",\"root_ids\":[\"15007\"],\"roots\":{\"15007\":\"7f5c801b-82d4-4943-9ad3-f2d9f1ae9931\"}}];\n",
       "  root.Bokeh.embed.embed_items_notebook(docs_json, render_items);\n",
       "\n",
       "  }\n",
       "  if (root.Bokeh !== undefined) {\n",
       "    embed_document(root);\n",
       "  } else {\n",
       "    var attempts = 0;\n",
       "    var timer = setInterval(function(root) {\n",
       "      if (root.Bokeh !== undefined) {\n",
       "        clearInterval(timer);\n",
       "        embed_document(root);\n",
       "      } else {\n",
       "        attempts++;\n",
       "        if (attempts > 100) {\n",
       "          clearInterval(timer);\n",
       "          console.log(\"Bokeh: ERROR: Unable to run BokehJS code because BokehJS library is missing\");\n",
       "        }\n",
       "      }\n",
       "    }, 10, root)\n",
       "  }\n",
       "})(window);"
      ],
      "application/vnd.bokehjs_exec.v0+json": ""
     },
     "metadata": {
      "application/vnd.bokehjs_exec.v0+json": {
       "id": "15007"
      }
     },
     "output_type": "display_data"
    },
    {
     "name": "stderr",
     "output_type": "stream",
     "text": [
      "ERROR:bokeh.core.validation.check:E-1001 (BAD_COLUMN_NAME): Glyph refers to nonexistent column name. This could either be due to a misspelling or typo, or due to an expected column being missing. : key \"x0\" value \"xregular\", key \"x1\" value \"xvegan\" (closest match: \"vegan\") [renderer: GlyphRenderer(id=15485, glyph=Segment(id='15483', ...), ...)]\n"
     ]
    },
    {
     "data": {
      "text/html": [
       "\n",
       "\n",
       "\n",
       "\n",
       "\n",
       "\n",
       "  <div class=\"bk-root\" id=\"c32c760c-4153-4891-9797-9d3032ced615\" data-root-id=\"15461\"></div>\n"
      ]
     },
     "metadata": {},
     "output_type": "display_data"
    },
    {
     "data": {
      "application/javascript": [
       "(function(root) {\n",
       "  function embed_document(root) {\n",
       "    \n",
       "  var docs_json = {\"777588c5-f2d8-489c-821a-725d64f6a40f\":{\"roots\":{\"references\":[{\"attributes\":{\"below\":[{\"id\":\"15472\"}],\"center\":[{\"id\":\"15475\"},{\"id\":\"15478\"},{\"id\":\"15500\"}],\"left\":[{\"id\":\"15476\"}],\"plot_height\":500,\"plot_width\":800,\"renderers\":[{\"id\":\"15485\"},{\"id\":\"15491\"},{\"id\":\"15506\"}],\"title\":{\"id\":\"15462\"},\"toolbar\":{\"id\":\"15479\"},\"toolbar_location\":null,\"x_range\":{\"id\":\"15464\"},\"x_scale\":{\"id\":\"15468\"},\"y_range\":{\"id\":\"15466\"},\"y_scale\":{\"id\":\"15470\"}},\"id\":\"15461\",\"subtype\":\"Figure\",\"type\":\"Plot\"},{\"attributes\":{\"num_minor_ticks\":10},\"id\":\"15473\",\"type\":\"LogTicker\"},{\"attributes\":{\"fill_alpha\":{\"value\":0.1},\"fill_color\":{\"value\":\"darkgreen\"},\"line_alpha\":{\"value\":0.1},\"line_color\":{\"value\":\"darkgreen\"},\"size\":{\"units\":\"screen\",\"value\":33.333333333333336},\"x\":{\"field\":\"vegan\"},\"y\":{\"field\":\"taxa\",\"transform\":{\"id\":\"15502\"}}},\"id\":\"15505\",\"type\":\"Circle\"},{\"attributes\":{\"axis_label\":\"Relative abundance (%)\",\"formatter\":{\"id\":\"15496\"},\"ticker\":{\"id\":\"15473\"}},\"id\":\"15472\",\"type\":\"LogAxis\"},{\"attributes\":{\"data\":{\"None\":[0,0,0,0,0,0],\"control\":{\"__ndarray__\":\"4SNiSiTFTkDek4eFWiM9QLk2VIzzt/U/4Ep2bATi3T8MHxFTIoncPzENw0fENBxA\",\"dtype\":\"float64\",\"order\":\"little\",\"shape\":[6]},\"taxa\":[\"Lachnospiraceae\",\"Bacteroidaceae\",\"Bifidobacteriaceae\",\"Eubacteriaceae\",\"Sutterellaceae\",\"Ruminococcaceae\"],\"vegan\":[0,0,0,0,0,0]},\"selected\":{\"id\":\"15498\"},\"selection_policy\":{\"id\":\"15499\"}},\"id\":\"15460\",\"type\":\"ColumnDataSource\"},{\"attributes\":{\"factors\":[\"Lachnospiraceae\",\"Bacteroidaceae\",\"Bifidobacteriaceae\",\"Eubacteriaceae\",\"Sutterellaceae\",\"Ruminococcaceae\"],\"range_padding\":0.1},\"id\":\"15466\",\"type\":\"FactorRange\"},{\"attributes\":{\"range\":{\"id\":\"15466\"}},\"id\":\"15502\",\"type\":\"Dodge\"},{\"attributes\":{},\"id\":\"15470\",\"type\":\"CategoricalScale\"},{\"attributes\":{},\"id\":\"15468\",\"type\":\"LogScale\"},{\"attributes\":{\"text\":\"Subject B: Abundance of all taxa on family level\"},\"id\":\"15462\",\"type\":\"Title\"},{\"attributes\":{\"label\":{\"value\":\"Regular diet\"},\"renderers\":[{\"id\":\"15491\"}]},\"id\":\"15501\",\"type\":\"LegendItem\"},{\"attributes\":{\"range\":{\"id\":\"15466\"}},\"id\":\"15480\",\"type\":\"Dodge\"},{\"attributes\":{\"items\":[{\"id\":\"15501\"},{\"id\":\"15515\"}],\"location\":\"bottom_right\"},\"id\":\"15500\",\"type\":\"Legend\"},{\"attributes\":{},\"id\":\"15464\",\"type\":\"DataRange1d\"},{\"attributes\":{},\"id\":\"15494\",\"type\":\"CategoricalTickFormatter\"},{\"attributes\":{\"label\":{\"value\":\"Vegan diet\"},\"renderers\":[{\"id\":\"15506\"}]},\"id\":\"15515\",\"type\":\"LegendItem\"},{\"attributes\":{\"range\":{\"id\":\"15466\"}},\"id\":\"15481\",\"type\":\"Dodge\"},{\"attributes\":{\"active_drag\":\"auto\",\"active_inspect\":\"auto\",\"active_multi\":null,\"active_scroll\":\"auto\",\"active_tap\":\"auto\"},\"id\":\"15479\",\"type\":\"Toolbar\"},{\"attributes\":{\"line_width\":{\"value\":3},\"x0\":{\"field\":\"xregular\"},\"x1\":{\"field\":\"xvegan\"},\"y0\":{\"field\":\"taxa\",\"transform\":{\"id\":\"15480\"}},\"y1\":{\"field\":\"taxa\",\"transform\":{\"id\":\"15481\"}}},\"id\":\"15483\",\"type\":\"Segment\"},{\"attributes\":{\"fill_alpha\":{\"value\":0.1},\"fill_color\":{\"value\":\"darkblue\"},\"line_alpha\":{\"value\":0.1},\"line_color\":{\"value\":\"darkblue\"},\"size\":{\"units\":\"screen\",\"value\":33.333333333333336},\"x\":{\"field\":\"control\"},\"y\":{\"field\":\"taxa\",\"transform\":{\"id\":\"15487\"}}},\"id\":\"15490\",\"type\":\"Circle\"},{\"attributes\":{\"data_source\":{\"id\":\"15460\"},\"glyph\":{\"id\":\"15483\"},\"hover_glyph\":null,\"muted_glyph\":null,\"nonselection_glyph\":{\"id\":\"15484\"},\"selection_glyph\":null,\"view\":{\"id\":\"15486\"}},\"id\":\"15485\",\"type\":\"GlyphRenderer\"},{\"attributes\":{\"range\":{\"id\":\"15466\"}},\"id\":\"15487\",\"type\":\"Dodge\"},{\"attributes\":{\"line_alpha\":{\"value\":0.1},\"line_width\":{\"value\":3},\"x0\":{\"field\":\"xregular\"},\"x1\":{\"field\":\"xvegan\"},\"y0\":{\"field\":\"taxa\",\"transform\":{\"id\":\"15480\"}},\"y1\":{\"field\":\"taxa\",\"transform\":{\"id\":\"15481\"}}},\"id\":\"15484\",\"type\":\"Segment\"},{\"attributes\":{\"source\":{\"id\":\"15460\"}},\"id\":\"15486\",\"type\":\"CDSView\"},{\"attributes\":{},\"id\":\"15499\",\"type\":\"UnionRenderers\"},{\"attributes\":{\"axis\":{\"id\":\"15476\"},\"dimension\":1,\"grid_line_color\":null,\"ticker\":null},\"id\":\"15478\",\"type\":\"Grid\"},{\"attributes\":{\"source\":{\"id\":\"15460\"}},\"id\":\"15507\",\"type\":\"CDSView\"},{\"attributes\":{\"ticker\":null},\"id\":\"15496\",\"type\":\"LogTickFormatter\"},{\"attributes\":{\"fill_color\":{\"value\":\"darkgreen\"},\"line_color\":{\"value\":\"darkgreen\"},\"size\":{\"units\":\"screen\",\"value\":33.333333333333336},\"x\":{\"field\":\"vegan\"},\"y\":{\"field\":\"taxa\",\"transform\":{\"id\":\"15502\"}}},\"id\":\"15504\",\"type\":\"Circle\"},{\"attributes\":{},\"id\":\"15477\",\"type\":\"CategoricalTicker\"},{\"attributes\":{\"data_source\":{\"id\":\"15460\"},\"glyph\":{\"id\":\"15504\"},\"hover_glyph\":null,\"muted_glyph\":null,\"name\":\"vegan\",\"nonselection_glyph\":{\"id\":\"15505\"},\"selection_glyph\":null,\"view\":{\"id\":\"15507\"}},\"id\":\"15506\",\"type\":\"GlyphRenderer\"},{\"attributes\":{},\"id\":\"15498\",\"type\":\"Selection\"},{\"attributes\":{\"source\":{\"id\":\"15460\"}},\"id\":\"15492\",\"type\":\"CDSView\"},{\"attributes\":{\"axis\":{\"id\":\"15472\"},\"ticker\":null},\"id\":\"15475\",\"type\":\"Grid\"},{\"attributes\":{\"fill_color\":{\"value\":\"darkblue\"},\"line_color\":{\"value\":\"darkblue\"},\"size\":{\"units\":\"screen\",\"value\":33.333333333333336},\"x\":{\"field\":\"control\"},\"y\":{\"field\":\"taxa\",\"transform\":{\"id\":\"15487\"}}},\"id\":\"15489\",\"type\":\"Circle\"},{\"attributes\":{\"data_source\":{\"id\":\"15460\"},\"glyph\":{\"id\":\"15489\"},\"hover_glyph\":null,\"muted_glyph\":null,\"name\":\"control\",\"nonselection_glyph\":{\"id\":\"15490\"},\"selection_glyph\":null,\"view\":{\"id\":\"15492\"}},\"id\":\"15491\",\"type\":\"GlyphRenderer\"},{\"attributes\":{\"axis_label\":\"Taxon\",\"formatter\":{\"id\":\"15494\"},\"ticker\":{\"id\":\"15477\"}},\"id\":\"15476\",\"type\":\"CategoricalAxis\"}],\"root_ids\":[\"15461\"]},\"title\":\"Bokeh Application\",\"version\":\"2.2.3\"}};\n",
       "  var render_items = [{\"docid\":\"777588c5-f2d8-489c-821a-725d64f6a40f\",\"root_ids\":[\"15461\"],\"roots\":{\"15461\":\"c32c760c-4153-4891-9797-9d3032ced615\"}}];\n",
       "  root.Bokeh.embed.embed_items_notebook(docs_json, render_items);\n",
       "\n",
       "  }\n",
       "  if (root.Bokeh !== undefined) {\n",
       "    embed_document(root);\n",
       "  } else {\n",
       "    var attempts = 0;\n",
       "    var timer = setInterval(function(root) {\n",
       "      if (root.Bokeh !== undefined) {\n",
       "        clearInterval(timer);\n",
       "        embed_document(root);\n",
       "      } else {\n",
       "        attempts++;\n",
       "        if (attempts > 100) {\n",
       "          clearInterval(timer);\n",
       "          console.log(\"Bokeh: ERROR: Unable to run BokehJS code because BokehJS library is missing\");\n",
       "        }\n",
       "      }\n",
       "    }, 10, root)\n",
       "  }\n",
       "})(window);"
      ],
      "application/vnd.bokehjs_exec.v0+json": ""
     },
     "metadata": {
      "application/vnd.bokehjs_exec.v0+json": {
       "id": "15461"
      }
     },
     "output_type": "display_data"
    },
    {
     "data": {
      "text/html": [
       "\n",
       "\n",
       "\n",
       "\n",
       "\n",
       "\n",
       "  <div class=\"bk-root\" id=\"fc9ddfab-1d78-4ce4-bf8a-1c18500dcbcd\" data-root-id=\"15923\"></div>\n"
      ]
     },
     "metadata": {},
     "output_type": "display_data"
    },
    {
     "data": {
      "application/javascript": [
       "(function(root) {\n",
       "  function embed_document(root) {\n",
       "    \n",
       "  var docs_json = {\"0d6029dd-9660-4c14-a494-76953cec8c7a\":{\"roots\":{\"references\":[{\"attributes\":{\"below\":[{\"id\":\"15934\"}],\"center\":[{\"id\":\"15936\"},{\"id\":\"15940\"},{\"id\":\"15955\"}],\"left\":[{\"id\":\"15937\"}],\"plot_height\":500,\"plot_width\":800,\"renderers\":[{\"id\":\"15946\"},{\"id\":\"15961\"},{\"id\":\"15967\"}],\"title\":{\"id\":\"15924\"},\"toolbar\":{\"id\":\"15941\"},\"toolbar_location\":null,\"x_range\":{\"id\":\"15926\"},\"x_scale\":{\"id\":\"15930\"},\"y_range\":{\"id\":\"15928\"},\"y_scale\":{\"id\":\"15932\"}},\"id\":\"15923\",\"subtype\":\"Figure\",\"type\":\"Plot\"},{\"attributes\":{\"fill_alpha\":{\"value\":0.1},\"fill_color\":{\"value\":\"#abdfff\"},\"line_alpha\":{\"value\":0.1},\"line_color\":{\"value\":\"#75cbff\"},\"top\":{\"field\":\"control\"},\"width\":{\"value\":0.2},\"x\":{\"field\":\"taxa\",\"transform\":{\"id\":\"15942\"}}},\"id\":\"15945\",\"type\":\"VBar\"},{\"attributes\":{\"data\":{\"None\":[0,0,0,0,0],\"control\":{\"__ndarray__\":\"3pOHhVojPUC5NlSM87f1PwAAAAAAAPh/AAAAAAAA+H8OuRluwENRQA==\",\"dtype\":\"float64\",\"order\":\"little\",\"shape\":[5]},\"taxa\":[\"Bacteroides\",\"Bifidobacterium\",\"Escherichia_coli\",\"Enterobacteriaceae\",\"Clostridia\"],\"vegan\":[0,0,0,0,0]},\"selected\":{\"id\":\"15953\"},\"selection_policy\":{\"id\":\"15954\"}},\"id\":\"15922\",\"type\":\"ColumnDataSource\"},{\"attributes\":{\"items\":[{\"id\":\"15956\"},{\"id\":\"15976\"}],\"orientation\":\"horizontal\"},\"id\":\"15955\",\"type\":\"Legend\"},{\"attributes\":{\"active_drag\":\"auto\",\"active_inspect\":\"auto\",\"active_multi\":null,\"active_scroll\":\"auto\",\"active_tap\":\"auto\"},\"id\":\"15941\",\"type\":\"Toolbar\"},{\"attributes\":{},\"id\":\"15954\",\"type\":\"UnionRenderers\"},{\"attributes\":{\"source\":{\"id\":\"15922\"}},\"id\":\"15947\",\"type\":\"CDSView\"},{\"attributes\":{\"data_source\":{\"id\":\"15922\"},\"glyph\":{\"id\":\"15959\"},\"hover_glyph\":null,\"muted_glyph\":null,\"nonselection_glyph\":{\"id\":\"15960\"},\"selection_glyph\":null,\"view\":{\"id\":\"15962\"}},\"id\":\"15961\",\"type\":\"GlyphRenderer\"},{\"attributes\":{},\"id\":\"15932\",\"type\":\"LinearScale\"},{\"attributes\":{\"axis\":{\"id\":\"15934\"},\"grid_line_color\":null,\"ticker\":null},\"id\":\"15936\",\"type\":\"Grid\"},{\"attributes\":{\"axis\":{\"id\":\"15937\"},\"dimension\":1,\"ticker\":null},\"id\":\"15940\",\"type\":\"Grid\"},{\"attributes\":{\"fill_alpha\":{\"value\":0.1},\"fill_color\":{\"value\":\"#1f77b4\"},\"line_alpha\":{\"value\":0.1},\"line_color\":{\"value\":\"#1f77b4\"},\"top\":{\"field\":\"None\"},\"width\":{\"value\":0.1},\"x\":{\"field\":\"taxa\",\"transform\":{\"id\":\"15957\"}}},\"id\":\"15960\",\"type\":\"VBar\"},{\"attributes\":{},\"id\":\"15935\",\"type\":\"CategoricalTicker\"},{\"attributes\":{\"range\":{\"id\":\"15926\"},\"value\":0.12},\"id\":\"15963\",\"type\":\"Dodge\"},{\"attributes\":{},\"id\":\"15938\",\"type\":\"BasicTicker\"},{\"attributes\":{\"fill_color\":{\"value\":\"#1f77b4\"},\"line_color\":{\"value\":\"#1f77b4\"},\"top\":{\"field\":\"None\"},\"width\":{\"value\":0.1},\"x\":{\"field\":\"taxa\",\"transform\":{\"id\":\"15957\"}}},\"id\":\"15959\",\"type\":\"VBar\"},{\"attributes\":{},\"id\":\"15951\",\"type\":\"CategoricalTickFormatter\"},{\"attributes\":{\"source\":{\"id\":\"15922\"}},\"id\":\"15962\",\"type\":\"CDSView\"},{\"attributes\":{\"data_source\":{\"id\":\"15922\"},\"glyph\":{\"id\":\"15944\"},\"hover_glyph\":null,\"muted_glyph\":null,\"name\":\"control\",\"nonselection_glyph\":{\"id\":\"15945\"},\"selection_glyph\":null,\"view\":{\"id\":\"15947\"}},\"id\":\"15946\",\"type\":\"GlyphRenderer\"},{\"attributes\":{},\"id\":\"15949\",\"type\":\"BasicTickFormatter\"},{\"attributes\":{\"data_source\":{\"id\":\"15922\"},\"glyph\":{\"id\":\"15965\"},\"hover_glyph\":null,\"muted_glyph\":null,\"name\":\"vegan\",\"nonselection_glyph\":{\"id\":\"15966\"},\"selection_glyph\":null,\"view\":{\"id\":\"15968\"}},\"id\":\"15967\",\"type\":\"GlyphRenderer\"},{\"attributes\":{\"range\":{\"id\":\"15926\"},\"value\":-0.12},\"id\":\"15942\",\"type\":\"Dodge\"},{\"attributes\":{\"fill_alpha\":{\"value\":0.1},\"fill_color\":{\"value\":\"#ceffc4\"},\"line_alpha\":{\"value\":0.1},\"line_color\":{\"value\":\"#8dff75\"},\"top\":{\"field\":\"vegan\"},\"width\":{\"value\":0.2},\"x\":{\"field\":\"taxa\",\"transform\":{\"id\":\"15963\"}}},\"id\":\"15966\",\"type\":\"VBar\"},{\"attributes\":{\"axis_label\":\"Relative abundance (%)\",\"formatter\":{\"id\":\"15949\"},\"ticker\":{\"id\":\"15938\"}},\"id\":\"15937\",\"type\":\"LinearAxis\"},{\"attributes\":{\"label\":{\"value\":\"Vegan diet\"},\"renderers\":[{\"id\":\"15967\"}]},\"id\":\"15976\",\"type\":\"LegendItem\"},{\"attributes\":{\"axis_label\":\"Taxon\",\"formatter\":{\"id\":\"15951\"},\"ticker\":{\"id\":\"15935\"}},\"id\":\"15934\",\"type\":\"CategoricalAxis\"},{\"attributes\":{\"fill_color\":{\"value\":\"#ceffc4\"},\"line_color\":{\"value\":\"#8dff75\"},\"top\":{\"field\":\"vegan\"},\"width\":{\"value\":0.2},\"x\":{\"field\":\"taxa\",\"transform\":{\"id\":\"15963\"}}},\"id\":\"15965\",\"type\":\"VBar\"},{\"attributes\":{},\"id\":\"15930\",\"type\":\"CategoricalScale\"},{\"attributes\":{\"range\":{\"id\":\"15926\"}},\"id\":\"15957\",\"type\":\"Dodge\"},{\"attributes\":{\"source\":{\"id\":\"15922\"}},\"id\":\"15968\",\"type\":\"CDSView\"},{\"attributes\":{\"label\":{\"value\":\"Regular diet\"},\"renderers\":[{\"id\":\"15946\"}]},\"id\":\"15956\",\"type\":\"LegendItem\"},{\"attributes\":{\"text\":\"Subject B: Abundance of specific taxa of interest\"},\"id\":\"15924\",\"type\":\"Title\"},{\"attributes\":{\"end\":100},\"id\":\"15928\",\"type\":\"Range1d\"},{\"attributes\":{\"fill_color\":{\"value\":\"#abdfff\"},\"line_color\":{\"value\":\"#75cbff\"},\"top\":{\"field\":\"control\"},\"width\":{\"value\":0.2},\"x\":{\"field\":\"taxa\",\"transform\":{\"id\":\"15942\"}}},\"id\":\"15944\",\"type\":\"VBar\"},{\"attributes\":{\"factors\":[\"Bacteroides\",\"Bifidobacterium\",\"Escherichia_coli\",\"Enterobacteriaceae\",\"Clostridia\"],\"range_padding\":0.1},\"id\":\"15926\",\"type\":\"FactorRange\"},{\"attributes\":{},\"id\":\"15953\",\"type\":\"Selection\"}],\"root_ids\":[\"15923\"]},\"title\":\"Bokeh Application\",\"version\":\"2.2.3\"}};\n",
       "  var render_items = [{\"docid\":\"0d6029dd-9660-4c14-a494-76953cec8c7a\",\"root_ids\":[\"15923\"],\"roots\":{\"15923\":\"fc9ddfab-1d78-4ce4-bf8a-1c18500dcbcd\"}}];\n",
       "  root.Bokeh.embed.embed_items_notebook(docs_json, render_items);\n",
       "\n",
       "  }\n",
       "  if (root.Bokeh !== undefined) {\n",
       "    embed_document(root);\n",
       "  } else {\n",
       "    var attempts = 0;\n",
       "    var timer = setInterval(function(root) {\n",
       "      if (root.Bokeh !== undefined) {\n",
       "        clearInterval(timer);\n",
       "        embed_document(root);\n",
       "      } else {\n",
       "        attempts++;\n",
       "        if (attempts > 100) {\n",
       "          clearInterval(timer);\n",
       "          console.log(\"Bokeh: ERROR: Unable to run BokehJS code because BokehJS library is missing\");\n",
       "        }\n",
       "      }\n",
       "    }, 10, root)\n",
       "  }\n",
       "})(window);"
      ],
      "application/vnd.bokehjs_exec.v0+json": ""
     },
     "metadata": {
      "application/vnd.bokehjs_exec.v0+json": {
       "id": "15923"
      }
     },
     "output_type": "display_data"
    },
    {
     "name": "stderr",
     "output_type": "stream",
     "text": [
      "ERROR:bokeh.core.validation.check:E-1001 (BAD_COLUMN_NAME): Glyph refers to nonexistent column name. This could either be due to a misspelling or typo, or due to an expected column being missing. : key \"x0\" value \"xregular\", key \"x1\" value \"xvegan\" (closest match: \"vegan\") [renderer: GlyphRenderer(id=16415, glyph=Segment(id='16413', ...), ...)]\n"
     ]
    },
    {
     "data": {
      "text/html": [
       "\n",
       "\n",
       "\n",
       "\n",
       "\n",
       "\n",
       "  <div class=\"bk-root\" id=\"1321cf76-a7c3-456e-a484-30054c2c31a6\" data-root-id=\"16391\"></div>\n"
      ]
     },
     "metadata": {},
     "output_type": "display_data"
    },
    {
     "data": {
      "application/javascript": [
       "(function(root) {\n",
       "  function embed_document(root) {\n",
       "    \n",
       "  var docs_json = {\"98b9ea5d-3d0c-4536-be24-4a2a185b43dc\":{\"roots\":{\"references\":[{\"attributes\":{\"below\":[{\"id\":\"16402\"}],\"center\":[{\"id\":\"16405\"},{\"id\":\"16408\"},{\"id\":\"16430\"}],\"left\":[{\"id\":\"16406\"}],\"plot_height\":500,\"plot_width\":800,\"renderers\":[{\"id\":\"16415\"},{\"id\":\"16421\"},{\"id\":\"16436\"}],\"title\":{\"id\":\"16392\"},\"toolbar\":{\"id\":\"16409\"},\"toolbar_location\":null,\"x_range\":{\"id\":\"16394\"},\"x_scale\":{\"id\":\"16398\"},\"y_range\":{\"id\":\"16396\"},\"y_scale\":{\"id\":\"16400\"}},\"id\":\"16391\",\"subtype\":\"Figure\",\"type\":\"Plot\"},{\"attributes\":{\"fill_alpha\":{\"value\":0.1},\"fill_color\":{\"value\":\"darkblue\"},\"line_alpha\":{\"value\":0.1},\"line_color\":{\"value\":\"darkblue\"},\"size\":{\"units\":\"screen\",\"value\":100.0},\"x\":{\"field\":\"control\"},\"y\":{\"field\":\"taxa\",\"transform\":{\"id\":\"16417\"}}},\"id\":\"16420\",\"type\":\"Circle\"},{\"attributes\":{\"fill_color\":{\"value\":\"darkgreen\"},\"line_color\":{\"value\":\"darkgreen\"},\"size\":{\"units\":\"screen\",\"value\":100.0},\"x\":{\"field\":\"vegan\"},\"y\":{\"field\":\"taxa\",\"transform\":{\"id\":\"16432\"}}},\"id\":\"16434\",\"type\":\"Circle\"},{\"attributes\":{\"source\":{\"id\":\"16390\"}},\"id\":\"16422\",\"type\":\"CDSView\"},{\"attributes\":{\"label\":{\"value\":\"Vegan diet\"},\"renderers\":[{\"id\":\"16436\"}]},\"id\":\"16445\",\"type\":\"LegendItem\"},{\"attributes\":{\"fill_color\":{\"value\":\"darkblue\"},\"line_color\":{\"value\":\"darkblue\"},\"size\":{\"units\":\"screen\",\"value\":100.0},\"x\":{\"field\":\"control\"},\"y\":{\"field\":\"taxa\",\"transform\":{\"id\":\"16417\"}}},\"id\":\"16419\",\"type\":\"Circle\"},{\"attributes\":{},\"id\":\"16400\",\"type\":\"CategoricalScale\"},{\"attributes\":{\"line_alpha\":{\"value\":0.1},\"line_width\":{\"value\":3},\"x0\":{\"field\":\"xregular\"},\"x1\":{\"field\":\"xvegan\"},\"y0\":{\"field\":\"taxa\",\"transform\":{\"id\":\"16410\"}},\"y1\":{\"field\":\"taxa\",\"transform\":{\"id\":\"16411\"}}},\"id\":\"16414\",\"type\":\"Segment\"},{\"attributes\":{\"num_minor_ticks\":10},\"id\":\"16403\",\"type\":\"LogTicker\"},{\"attributes\":{\"range\":{\"id\":\"16396\"}},\"id\":\"16410\",\"type\":\"Dodge\"},{\"attributes\":{\"source\":{\"id\":\"16390\"}},\"id\":\"16416\",\"type\":\"CDSView\"},{\"attributes\":{\"axis_label\":\"Relative abundance (%)\",\"formatter\":{\"id\":\"16426\"},\"ticker\":{\"id\":\"16403\"}},\"id\":\"16402\",\"type\":\"LogAxis\"},{\"attributes\":{\"axis\":{\"id\":\"16402\"},\"ticker\":null},\"id\":\"16405\",\"type\":\"Grid\"},{\"attributes\":{\"line_width\":{\"value\":3},\"x0\":{\"field\":\"xregular\"},\"x1\":{\"field\":\"xvegan\"},\"y0\":{\"field\":\"taxa\",\"transform\":{\"id\":\"16410\"}},\"y1\":{\"field\":\"taxa\",\"transform\":{\"id\":\"16411\"}}},\"id\":\"16413\",\"type\":\"Segment\"},{\"attributes\":{\"data_source\":{\"id\":\"16390\"},\"glyph\":{\"id\":\"16413\"},\"hover_glyph\":null,\"muted_glyph\":null,\"nonselection_glyph\":{\"id\":\"16414\"},\"selection_glyph\":null,\"view\":{\"id\":\"16416\"}},\"id\":\"16415\",\"type\":\"GlyphRenderer\"},{\"attributes\":{},\"id\":\"16398\",\"type\":\"LogScale\"},{\"attributes\":{\"axis_label\":\"Taxon\",\"formatter\":{\"id\":\"16424\"},\"ticker\":{\"id\":\"16407\"}},\"id\":\"16406\",\"type\":\"CategoricalAxis\"},{\"attributes\":{\"range\":{\"id\":\"16396\"}},\"id\":\"16417\",\"type\":\"Dodge\"},{\"attributes\":{},\"id\":\"16428\",\"type\":\"Selection\"},{\"attributes\":{\"fill_alpha\":{\"value\":0.1},\"fill_color\":{\"value\":\"darkgreen\"},\"line_alpha\":{\"value\":0.1},\"line_color\":{\"value\":\"darkgreen\"},\"size\":{\"units\":\"screen\",\"value\":100.0},\"x\":{\"field\":\"vegan\"},\"y\":{\"field\":\"taxa\",\"transform\":{\"id\":\"16432\"}}},\"id\":\"16435\",\"type\":\"Circle\"},{\"attributes\":{\"data_source\":{\"id\":\"16390\"},\"glyph\":{\"id\":\"16434\"},\"hover_glyph\":null,\"muted_glyph\":null,\"name\":\"vegan\",\"nonselection_glyph\":{\"id\":\"16435\"},\"selection_glyph\":null,\"view\":{\"id\":\"16437\"}},\"id\":\"16436\",\"type\":\"GlyphRenderer\"},{\"attributes\":{\"range\":{\"id\":\"16396\"}},\"id\":\"16411\",\"type\":\"Dodge\"},{\"attributes\":{\"text\":\"Subject C: Abundance of all taxa on family level\"},\"id\":\"16392\",\"type\":\"Title\"},{\"attributes\":{},\"id\":\"16394\",\"type\":\"DataRange1d\"},{\"attributes\":{\"active_drag\":\"auto\",\"active_inspect\":\"auto\",\"active_multi\":null,\"active_scroll\":\"auto\",\"active_tap\":\"auto\"},\"id\":\"16409\",\"type\":\"Toolbar\"},{\"attributes\":{\"data\":{\"None\":[0,0],\"control\":{\"__ndarray__\":\"xmNjSrgwJ0Dh/zPN3jHxPw==\",\"dtype\":\"float64\",\"order\":\"little\",\"shape\":[2]},\"taxa\":[\"Rikenellaceae\",\"Bacteroidaceae\"],\"vegan\":[0,0]},\"selected\":{\"id\":\"16428\"},\"selection_policy\":{\"id\":\"16429\"}},\"id\":\"16390\",\"type\":\"ColumnDataSource\"},{\"attributes\":{},\"id\":\"16424\",\"type\":\"CategoricalTickFormatter\"},{\"attributes\":{\"items\":[{\"id\":\"16431\"},{\"id\":\"16445\"}],\"location\":\"bottom_right\"},\"id\":\"16430\",\"type\":\"Legend\"},{\"attributes\":{\"source\":{\"id\":\"16390\"}},\"id\":\"16437\",\"type\":\"CDSView\"},{\"attributes\":{},\"id\":\"16429\",\"type\":\"UnionRenderers\"},{\"attributes\":{\"factors\":[\"Rikenellaceae\",\"Bacteroidaceae\"],\"range_padding\":0.1},\"id\":\"16396\",\"type\":\"FactorRange\"},{\"attributes\":{\"label\":{\"value\":\"Regular diet\"},\"renderers\":[{\"id\":\"16421\"}]},\"id\":\"16431\",\"type\":\"LegendItem\"},{\"attributes\":{\"axis\":{\"id\":\"16406\"},\"dimension\":1,\"grid_line_color\":null,\"ticker\":null},\"id\":\"16408\",\"type\":\"Grid\"},{\"attributes\":{\"ticker\":null},\"id\":\"16426\",\"type\":\"LogTickFormatter\"},{\"attributes\":{\"range\":{\"id\":\"16396\"}},\"id\":\"16432\",\"type\":\"Dodge\"},{\"attributes\":{\"data_source\":{\"id\":\"16390\"},\"glyph\":{\"id\":\"16419\"},\"hover_glyph\":null,\"muted_glyph\":null,\"name\":\"control\",\"nonselection_glyph\":{\"id\":\"16420\"},\"selection_glyph\":null,\"view\":{\"id\":\"16422\"}},\"id\":\"16421\",\"type\":\"GlyphRenderer\"},{\"attributes\":{},\"id\":\"16407\",\"type\":\"CategoricalTicker\"}],\"root_ids\":[\"16391\"]},\"title\":\"Bokeh Application\",\"version\":\"2.2.3\"}};\n",
       "  var render_items = [{\"docid\":\"98b9ea5d-3d0c-4536-be24-4a2a185b43dc\",\"root_ids\":[\"16391\"],\"roots\":{\"16391\":\"1321cf76-a7c3-456e-a484-30054c2c31a6\"}}];\n",
       "  root.Bokeh.embed.embed_items_notebook(docs_json, render_items);\n",
       "\n",
       "  }\n",
       "  if (root.Bokeh !== undefined) {\n",
       "    embed_document(root);\n",
       "  } else {\n",
       "    var attempts = 0;\n",
       "    var timer = setInterval(function(root) {\n",
       "      if (root.Bokeh !== undefined) {\n",
       "        clearInterval(timer);\n",
       "        embed_document(root);\n",
       "      } else {\n",
       "        attempts++;\n",
       "        if (attempts > 100) {\n",
       "          clearInterval(timer);\n",
       "          console.log(\"Bokeh: ERROR: Unable to run BokehJS code because BokehJS library is missing\");\n",
       "        }\n",
       "      }\n",
       "    }, 10, root)\n",
       "  }\n",
       "})(window);"
      ],
      "application/vnd.bokehjs_exec.v0+json": ""
     },
     "metadata": {
      "application/vnd.bokehjs_exec.v0+json": {
       "id": "16391"
      }
     },
     "output_type": "display_data"
    },
    {
     "data": {
      "text/html": [
       "\n",
       "\n",
       "\n",
       "\n",
       "\n",
       "\n",
       "  <div class=\"bk-root\" id=\"6a94e268-33a9-4ca2-a8f0-c13db2fb3649\" data-root-id=\"16867\"></div>\n"
      ]
     },
     "metadata": {},
     "output_type": "display_data"
    },
    {
     "data": {
      "application/javascript": [
       "(function(root) {\n",
       "  function embed_document(root) {\n",
       "    \n",
       "  var docs_json = {\"8ee9ac4a-dabf-419b-97e1-507d52d27656\":{\"roots\":{\"references\":[{\"attributes\":{\"below\":[{\"id\":\"16878\"}],\"center\":[{\"id\":\"16880\"},{\"id\":\"16884\"},{\"id\":\"16899\"}],\"left\":[{\"id\":\"16881\"}],\"plot_height\":500,\"plot_width\":800,\"renderers\":[{\"id\":\"16890\"},{\"id\":\"16905\"},{\"id\":\"16911\"}],\"title\":{\"id\":\"16868\"},\"toolbar\":{\"id\":\"16885\"},\"toolbar_location\":null,\"x_range\":{\"id\":\"16870\"},\"x_scale\":{\"id\":\"16874\"},\"y_range\":{\"id\":\"16872\"},\"y_scale\":{\"id\":\"16876\"}},\"id\":\"16867\",\"subtype\":\"Figure\",\"type\":\"Plot\"},{\"attributes\":{\"fill_color\":{\"value\":\"#1f77b4\"},\"line_color\":{\"value\":\"#1f77b4\"},\"top\":{\"field\":\"None\"},\"width\":{\"value\":0.1},\"x\":{\"field\":\"taxa\",\"transform\":{\"id\":\"16901\"}}},\"id\":\"16903\",\"type\":\"VBar\"},{\"attributes\":{\"source\":{\"id\":\"16866\"}},\"id\":\"16906\",\"type\":\"CDSView\"},{\"attributes\":{\"active_drag\":\"auto\",\"active_inspect\":\"auto\",\"active_multi\":null,\"active_scroll\":\"auto\",\"active_tap\":\"auto\"},\"id\":\"16885\",\"type\":\"Toolbar\"},{\"attributes\":{\"items\":[{\"id\":\"16900\"},{\"id\":\"16920\"}],\"orientation\":\"horizontal\"},\"id\":\"16899\",\"type\":\"Legend\"},{\"attributes\":{\"data_source\":{\"id\":\"16866\"},\"glyph\":{\"id\":\"16909\"},\"hover_glyph\":null,\"muted_glyph\":null,\"name\":\"vegan\",\"nonselection_glyph\":{\"id\":\"16910\"},\"selection_glyph\":null,\"view\":{\"id\":\"16912\"}},\"id\":\"16911\",\"type\":\"GlyphRenderer\"},{\"attributes\":{\"axis_label\":\"Relative abundance (%)\",\"formatter\":{\"id\":\"16893\"},\"ticker\":{\"id\":\"16882\"}},\"id\":\"16881\",\"type\":\"LinearAxis\"},{\"attributes\":{\"text\":\"Subject C: Abundance of specific taxa of interest\"},\"id\":\"16868\",\"type\":\"Title\"},{\"attributes\":{\"factors\":[\"Bacteroides\",\"Bifidobacterium\",\"Escherichia_coli\",\"Enterobacteriaceae\",\"Clostridia\"],\"range_padding\":0.1},\"id\":\"16870\",\"type\":\"FactorRange\"},{\"attributes\":{\"fill_alpha\":{\"value\":0.1},\"fill_color\":{\"value\":\"#ceffc4\"},\"line_alpha\":{\"value\":0.1},\"line_color\":{\"value\":\"#8dff75\"},\"top\":{\"field\":\"vegan\"},\"width\":{\"value\":0.2},\"x\":{\"field\":\"taxa\",\"transform\":{\"id\":\"16907\"}}},\"id\":\"16910\",\"type\":\"VBar\"},{\"attributes\":{\"data_source\":{\"id\":\"16866\"},\"glyph\":{\"id\":\"16888\"},\"hover_glyph\":null,\"muted_glyph\":null,\"name\":\"control\",\"nonselection_glyph\":{\"id\":\"16889\"},\"selection_glyph\":null,\"view\":{\"id\":\"16891\"}},\"id\":\"16890\",\"type\":\"GlyphRenderer\"},{\"attributes\":{},\"id\":\"16895\",\"type\":\"CategoricalTickFormatter\"},{\"attributes\":{\"label\":{\"value\":\"Vegan diet\"},\"renderers\":[{\"id\":\"16911\"}]},\"id\":\"16920\",\"type\":\"LegendItem\"},{\"attributes\":{\"fill_alpha\":{\"value\":0.1},\"fill_color\":{\"value\":\"#abdfff\"},\"line_alpha\":{\"value\":0.1},\"line_color\":{\"value\":\"#75cbff\"},\"top\":{\"field\":\"control\"},\"width\":{\"value\":0.2},\"x\":{\"field\":\"taxa\",\"transform\":{\"id\":\"16886\"}}},\"id\":\"16889\",\"type\":\"VBar\"},{\"attributes\":{},\"id\":\"16876\",\"type\":\"LinearScale\"},{\"attributes\":{\"end\":100},\"id\":\"16872\",\"type\":\"Range1d\"},{\"attributes\":{},\"id\":\"16893\",\"type\":\"BasicTickFormatter\"},{\"attributes\":{\"fill_color\":{\"value\":\"#ceffc4\"},\"line_color\":{\"value\":\"#8dff75\"},\"top\":{\"field\":\"vegan\"},\"width\":{\"value\":0.2},\"x\":{\"field\":\"taxa\",\"transform\":{\"id\":\"16907\"}}},\"id\":\"16909\",\"type\":\"VBar\"},{\"attributes\":{},\"id\":\"16879\",\"type\":\"CategoricalTicker\"},{\"attributes\":{\"axis\":{\"id\":\"16881\"},\"dimension\":1,\"ticker\":null},\"id\":\"16884\",\"type\":\"Grid\"},{\"attributes\":{\"source\":{\"id\":\"16866\"}},\"id\":\"16912\",\"type\":\"CDSView\"},{\"attributes\":{\"fill_color\":{\"value\":\"#abdfff\"},\"line_color\":{\"value\":\"#75cbff\"},\"top\":{\"field\":\"control\"},\"width\":{\"value\":0.2},\"x\":{\"field\":\"taxa\",\"transform\":{\"id\":\"16886\"}}},\"id\":\"16888\",\"type\":\"VBar\"},{\"attributes\":{\"source\":{\"id\":\"16866\"}},\"id\":\"16891\",\"type\":\"CDSView\"},{\"attributes\":{\"axis\":{\"id\":\"16878\"},\"grid_line_color\":null,\"ticker\":null},\"id\":\"16880\",\"type\":\"Grid\"},{\"attributes\":{},\"id\":\"16882\",\"type\":\"BasicTicker\"},{\"attributes\":{\"axis_label\":\"Taxon\",\"formatter\":{\"id\":\"16895\"},\"ticker\":{\"id\":\"16879\"}},\"id\":\"16878\",\"type\":\"CategoricalAxis\"},{\"attributes\":{},\"id\":\"16897\",\"type\":\"Selection\"},{\"attributes\":{},\"id\":\"16874\",\"type\":\"CategoricalScale\"},{\"attributes\":{},\"id\":\"16898\",\"type\":\"UnionRenderers\"},{\"attributes\":{\"label\":{\"value\":\"Regular diet\"},\"renderers\":[{\"id\":\"16890\"}]},\"id\":\"16900\",\"type\":\"LegendItem\"},{\"attributes\":{\"range\":{\"id\":\"16870\"}},\"id\":\"16901\",\"type\":\"Dodge\"},{\"attributes\":{\"range\":{\"id\":\"16870\"},\"value\":-0.12},\"id\":\"16886\",\"type\":\"Dodge\"},{\"attributes\":{\"data_source\":{\"id\":\"16866\"},\"glyph\":{\"id\":\"16903\"},\"hover_glyph\":null,\"muted_glyph\":null,\"nonselection_glyph\":{\"id\":\"16904\"},\"selection_glyph\":null,\"view\":{\"id\":\"16906\"}},\"id\":\"16905\",\"type\":\"GlyphRenderer\"},{\"attributes\":{\"fill_alpha\":{\"value\":0.1},\"fill_color\":{\"value\":\"#1f77b4\"},\"line_alpha\":{\"value\":0.1},\"line_color\":{\"value\":\"#1f77b4\"},\"top\":{\"field\":\"None\"},\"width\":{\"value\":0.1},\"x\":{\"field\":\"taxa\",\"transform\":{\"id\":\"16901\"}}},\"id\":\"16904\",\"type\":\"VBar\"},{\"attributes\":{\"range\":{\"id\":\"16870\"},\"value\":0.12},\"id\":\"16907\",\"type\":\"Dodge\"},{\"attributes\":{\"data\":{\"None\":[0,0,0,0,0],\"control\":{\"__ndarray__\":\"4f8zzd4x8T8AAAAAAAD4fwAAAAAAAPh/AAAAAAAA+H8AAAAAAAD4fw==\",\"dtype\":\"float64\",\"order\":\"little\",\"shape\":[5]},\"taxa\":[\"Bacteroides\",\"Bifidobacterium\",\"Escherichia_coli\",\"Enterobacteriaceae\",\"Clostridia\"],\"vegan\":[0,0,0,0,0]},\"selected\":{\"id\":\"16897\"},\"selection_policy\":{\"id\":\"16898\"}},\"id\":\"16866\",\"type\":\"ColumnDataSource\"}],\"root_ids\":[\"16867\"]},\"title\":\"Bokeh Application\",\"version\":\"2.2.3\"}};\n",
       "  var render_items = [{\"docid\":\"8ee9ac4a-dabf-419b-97e1-507d52d27656\",\"root_ids\":[\"16867\"],\"roots\":{\"16867\":\"6a94e268-33a9-4ca2-a8f0-c13db2fb3649\"}}];\n",
       "  root.Bokeh.embed.embed_items_notebook(docs_json, render_items);\n",
       "\n",
       "  }\n",
       "  if (root.Bokeh !== undefined) {\n",
       "    embed_document(root);\n",
       "  } else {\n",
       "    var attempts = 0;\n",
       "    var timer = setInterval(function(root) {\n",
       "      if (root.Bokeh !== undefined) {\n",
       "        clearInterval(timer);\n",
       "        embed_document(root);\n",
       "      } else {\n",
       "        attempts++;\n",
       "        if (attempts > 100) {\n",
       "          clearInterval(timer);\n",
       "          console.log(\"Bokeh: ERROR: Unable to run BokehJS code because BokehJS library is missing\");\n",
       "        }\n",
       "      }\n",
       "    }, 10, root)\n",
       "  }\n",
       "})(window);"
      ],
      "application/vnd.bokehjs_exec.v0+json": ""
     },
     "metadata": {
      "application/vnd.bokehjs_exec.v0+json": {
       "id": "16867"
      }
     },
     "output_type": "display_data"
    },
    {
     "data": {
      "text/html": [
       "\n",
       "\n",
       "\n",
       "\n",
       "\n",
       "\n",
       "  <div class=\"bk-root\" id=\"f261c270-55fd-42a9-95de-cec116ae7ff9\" data-root-id=\"17349\"></div>\n"
      ]
     },
     "metadata": {},
     "output_type": "display_data"
    },
    {
     "data": {
      "application/javascript": [
       "(function(root) {\n",
       "  function embed_document(root) {\n",
       "    \n",
       "  var docs_json = {\"e691795b-3254-46ac-ad48-58e2dac9c8e1\":{\"roots\":{\"references\":[{\"attributes\":{\"below\":[{\"id\":\"17360\"}],\"center\":[{\"id\":\"17363\"},{\"id\":\"17366\"},{\"id\":\"17388\"}],\"left\":[{\"id\":\"17364\"}],\"plot_height\":500,\"plot_width\":800,\"renderers\":[{\"id\":\"17373\"},{\"id\":\"17379\"},{\"id\":\"17394\"}],\"title\":{\"id\":\"17350\"},\"toolbar\":{\"id\":\"17367\"},\"toolbar_location\":null,\"x_range\":{\"id\":\"17352\"},\"x_scale\":{\"id\":\"17356\"},\"y_range\":{\"id\":\"17354\"},\"y_scale\":{\"id\":\"17358\"}},\"id\":\"17349\",\"subtype\":\"Figure\",\"type\":\"Plot\"},{\"attributes\":{},\"id\":\"17365\",\"type\":\"CategoricalTicker\"},{\"attributes\":{\"fill_alpha\":{\"value\":0.1},\"fill_color\":{\"value\":\"darkgreen\"},\"line_alpha\":{\"value\":0.1},\"line_color\":{\"value\":\"darkgreen\"},\"size\":{\"units\":\"screen\",\"value\":18.181818181818183},\"x\":{\"field\":\"vegan\"},\"y\":{\"field\":\"taxa\",\"transform\":{\"id\":\"17390\"}}},\"id\":\"17393\",\"type\":\"Circle\"},{\"attributes\":{\"active_drag\":\"auto\",\"active_inspect\":\"auto\",\"active_multi\":null,\"active_scroll\":\"auto\",\"active_tap\":\"auto\"},\"id\":\"17367\",\"type\":\"Toolbar\"},{\"attributes\":{\"range\":{\"id\":\"17354\"}},\"id\":\"17390\",\"type\":\"Dodge\"},{\"attributes\":{\"range\":{\"id\":\"17354\"}},\"id\":\"17369\",\"type\":\"Dodge\"},{\"attributes\":{\"data_source\":{\"id\":\"17348\"},\"glyph\":{\"id\":\"17392\"},\"hover_glyph\":null,\"muted_glyph\":null,\"name\":\"vegan\",\"nonselection_glyph\":{\"id\":\"17393\"},\"selection_glyph\":null,\"view\":{\"id\":\"17395\"}},\"id\":\"17394\",\"type\":\"GlyphRenderer\"},{\"attributes\":{\"axis_label\":\"Taxon\",\"formatter\":{\"id\":\"17382\"},\"ticker\":{\"id\":\"17365\"}},\"id\":\"17364\",\"type\":\"CategoricalAxis\"},{\"attributes\":{\"range\":{\"id\":\"17354\"}},\"id\":\"17375\",\"type\":\"Dodge\"},{\"attributes\":{\"label\":{\"value\":\"Vegan diet\"},\"renderers\":[{\"id\":\"17394\"}]},\"id\":\"17403\",\"type\":\"LegendItem\"},{\"attributes\":{\"line_alpha\":{\"value\":0.1},\"line_width\":{\"value\":3},\"x0\":{\"field\":\"xregular\"},\"x1\":{\"field\":\"xvegan\"},\"y0\":{\"field\":\"taxa\",\"transform\":{\"id\":\"17368\"}},\"y1\":{\"field\":\"taxa\",\"transform\":{\"id\":\"17369\"}}},\"id\":\"17372\",\"type\":\"Segment\"},{\"attributes\":{\"axis\":{\"id\":\"17364\"},\"dimension\":1,\"grid_line_color\":null,\"ticker\":null},\"id\":\"17366\",\"type\":\"Grid\"},{\"attributes\":{},\"id\":\"17386\",\"type\":\"Selection\"},{\"attributes\":{\"data_source\":{\"id\":\"17348\"},\"glyph\":{\"id\":\"17371\"},\"hover_glyph\":null,\"muted_glyph\":null,\"nonselection_glyph\":{\"id\":\"17372\"},\"selection_glyph\":null,\"view\":{\"id\":\"17374\"}},\"id\":\"17373\",\"type\":\"GlyphRenderer\"},{\"attributes\":{\"axis_label\":\"Relative abundance (%)\",\"formatter\":{\"id\":\"17384\"},\"ticker\":{\"id\":\"17361\"}},\"id\":\"17360\",\"type\":\"LogAxis\"},{\"attributes\":{\"line_width\":{\"value\":3},\"x0\":{\"field\":\"xregular\"},\"x1\":{\"field\":\"xvegan\"},\"y0\":{\"field\":\"taxa\",\"transform\":{\"id\":\"17368\"}},\"y1\":{\"field\":\"taxa\",\"transform\":{\"id\":\"17369\"}}},\"id\":\"17371\",\"type\":\"Segment\"},{\"attributes\":{\"source\":{\"id\":\"17348\"}},\"id\":\"17374\",\"type\":\"CDSView\"},{\"attributes\":{},\"id\":\"17358\",\"type\":\"CategoricalScale\"},{\"attributes\":{},\"id\":\"17356\",\"type\":\"LogScale\"},{\"attributes\":{\"num_minor_ticks\":10},\"id\":\"17361\",\"type\":\"LogTicker\"},{\"attributes\":{\"source\":{\"id\":\"17348\"}},\"id\":\"17395\",\"type\":\"CDSView\"},{\"attributes\":{\"factors\":[\"Rikenellaceae\",\"Lachnospiraceae\",\"Alloherpesviridae\",\"Bacteroidaceae\",\"Barnesiellaceae\",\"Acidaminococcaceae\",\"Tannerellaceae\",\"Ruminococcaceae\",\"Enterobacteriaceae\",\"Coriobacteriaceae\",\"Odoribacteraceae\"],\"range_padding\":0.1},\"id\":\"17354\",\"type\":\"FactorRange\"},{\"attributes\":{\"axis\":{\"id\":\"17360\"},\"ticker\":null},\"id\":\"17363\",\"type\":\"Grid\"},{\"attributes\":{\"fill_alpha\":{\"value\":0.1},\"fill_color\":{\"value\":\"darkblue\"},\"line_alpha\":{\"value\":0.1},\"line_color\":{\"value\":\"darkblue\"},\"size\":{\"units\":\"screen\",\"value\":18.181818181818183},\"x\":{\"field\":\"control\"},\"y\":{\"field\":\"taxa\",\"transform\":{\"id\":\"17375\"}}},\"id\":\"17378\",\"type\":\"Circle\"},{\"attributes\":{\"text\":\"Subject D: Abundance of all taxa on family level\"},\"id\":\"17350\",\"type\":\"Title\"},{\"attributes\":{\"source\":{\"id\":\"17348\"}},\"id\":\"17380\",\"type\":\"CDSView\"},{\"attributes\":{},\"id\":\"17387\",\"type\":\"UnionRenderers\"},{\"attributes\":{\"data_source\":{\"id\":\"17348\"},\"glyph\":{\"id\":\"17377\"},\"hover_glyph\":null,\"muted_glyph\":null,\"name\":\"control\",\"nonselection_glyph\":{\"id\":\"17378\"},\"selection_glyph\":null,\"view\":{\"id\":\"17380\"}},\"id\":\"17379\",\"type\":\"GlyphRenderer\"},{\"attributes\":{\"items\":[{\"id\":\"17389\"},{\"id\":\"17403\"}],\"location\":\"bottom_right\"},\"id\":\"17388\",\"type\":\"Legend\"},{\"attributes\":{},\"id\":\"17382\",\"type\":\"CategoricalTickFormatter\"},{\"attributes\":{\"fill_color\":{\"value\":\"darkblue\"},\"line_color\":{\"value\":\"darkblue\"},\"size\":{\"units\":\"screen\",\"value\":18.181818181818183},\"x\":{\"field\":\"control\"},\"y\":{\"field\":\"taxa\",\"transform\":{\"id\":\"17375\"}}},\"id\":\"17377\",\"type\":\"Circle\"},{\"attributes\":{\"fill_color\":{\"value\":\"darkgreen\"},\"line_color\":{\"value\":\"darkgreen\"},\"size\":{\"units\":\"screen\",\"value\":18.181818181818183},\"x\":{\"field\":\"vegan\"},\"y\":{\"field\":\"taxa\",\"transform\":{\"id\":\"17390\"}}},\"id\":\"17392\",\"type\":\"Circle\"},{\"attributes\":{},\"id\":\"17352\",\"type\":\"DataRange1d\"},{\"attributes\":{\"ticker\":null},\"id\":\"17384\",\"type\":\"LogTickFormatter\"},{\"attributes\":{\"data\":{\"control\":{\"__ndarray__\":\"EZGX8sKr1z89wFCek/TiP/tmlYlw6vQ/7L7Lj5jg9j+Pux2g0VsTQBrgIjIlnBVAEDlt8NLlUkAAAAAAAAD4fwAAAAAAAPh/AAAAAAAA+H8AAAAAAAD4fw==\",\"dtype\":\"float64\",\"order\":\"little\",\"shape\":[11]},\"taxa\":[\"Acidaminococcaceae\",\"Barnesiellaceae\",\"Ruminococcaceae\",\"Alloherpesviridae\",\"Lachnospiraceae\",\"Rikenellaceae\",\"Bacteroidaceae\",\"Tannerellaceae\",\"Enterobacteriaceae\",\"Coriobacteriaceae\",\"Odoribacteraceae\"],\"vegan\":{\"__ndarray__\":\"BW7dzVMdxj9XIeUn1b70P3CUvDrHQAFA6xwDste74z8fgNQmTu4JQJOMnIU9rSJAvAUSFD+MU0CdKXReY5frP5iG4SNiigVAFYxK6gQ00T+14EVfQZryPw==\",\"dtype\":\"float64\",\"order\":\"little\",\"shape\":[11]},\"xregular\":{\"__ndarray__\":\"EZGX8sKr1z89wFCek/TiP/tmlYlw6vQ/7L7Lj5jg9j+Pux2g0VsTQBrgIjIlnBVAEDlt8NLlUkAAAAAAAAD4fwAAAAAAAPh/AAAAAAAA+H8AAAAAAAD4fw==\",\"dtype\":\"float64\",\"order\":\"little\",\"shape\":[11]},\"xvegan\":{\"__ndarray__\":\"BW7dzVMdxj9XIeUn1b70P3CUvDrHQAFA6xwDste74z8fgNQmTu4JQJOMnIU9rSJAvAUSFD+MU0CdKXReY5frP5iG4SNiigVAFYxK6gQ00T+14EVfQZryPw==\",\"dtype\":\"float64\",\"order\":\"little\",\"shape\":[11]}},\"selected\":{\"id\":\"17386\"},\"selection_policy\":{\"id\":\"17387\"}},\"id\":\"17348\",\"type\":\"ColumnDataSource\"},{\"attributes\":{\"range\":{\"id\":\"17354\"}},\"id\":\"17368\",\"type\":\"Dodge\"},{\"attributes\":{\"label\":{\"value\":\"Regular diet\"},\"renderers\":[{\"id\":\"17379\"}]},\"id\":\"17389\",\"type\":\"LegendItem\"}],\"root_ids\":[\"17349\"]},\"title\":\"Bokeh Application\",\"version\":\"2.2.3\"}};\n",
       "  var render_items = [{\"docid\":\"e691795b-3254-46ac-ad48-58e2dac9c8e1\",\"root_ids\":[\"17349\"],\"roots\":{\"17349\":\"f261c270-55fd-42a9-95de-cec116ae7ff9\"}}];\n",
       "  root.Bokeh.embed.embed_items_notebook(docs_json, render_items);\n",
       "\n",
       "  }\n",
       "  if (root.Bokeh !== undefined) {\n",
       "    embed_document(root);\n",
       "  } else {\n",
       "    var attempts = 0;\n",
       "    var timer = setInterval(function(root) {\n",
       "      if (root.Bokeh !== undefined) {\n",
       "        clearInterval(timer);\n",
       "        embed_document(root);\n",
       "      } else {\n",
       "        attempts++;\n",
       "        if (attempts > 100) {\n",
       "          clearInterval(timer);\n",
       "          console.log(\"Bokeh: ERROR: Unable to run BokehJS code because BokehJS library is missing\");\n",
       "        }\n",
       "      }\n",
       "    }, 10, root)\n",
       "  }\n",
       "})(window);"
      ],
      "application/vnd.bokehjs_exec.v0+json": ""
     },
     "metadata": {
      "application/vnd.bokehjs_exec.v0+json": {
       "id": "17349"
      }
     },
     "output_type": "display_data"
    },
    {
     "data": {
      "text/html": [
       "\n",
       "\n",
       "\n",
       "\n",
       "\n",
       "\n",
       "  <div class=\"bk-root\" id=\"7a051d38-84d7-4f14-b5ee-ac24dadfc95e\" data-root-id=\"17839\"></div>\n"
      ]
     },
     "metadata": {},
     "output_type": "display_data"
    },
    {
     "data": {
      "application/javascript": [
       "(function(root) {\n",
       "  function embed_document(root) {\n",
       "    \n",
       "  var docs_json = {\"1642217f-66ae-462f-93e1-8aa2168ff37e\":{\"roots\":{\"references\":[{\"attributes\":{\"below\":[{\"id\":\"17850\"}],\"center\":[{\"id\":\"17852\"},{\"id\":\"17856\"},{\"id\":\"17871\"}],\"left\":[{\"id\":\"17853\"}],\"plot_height\":500,\"plot_width\":800,\"renderers\":[{\"id\":\"17862\"},{\"id\":\"17877\"},{\"id\":\"17883\"}],\"title\":{\"id\":\"17840\"},\"toolbar\":{\"id\":\"17857\"},\"toolbar_location\":null,\"x_range\":{\"id\":\"17842\"},\"x_scale\":{\"id\":\"17846\"},\"y_range\":{\"id\":\"17844\"},\"y_scale\":{\"id\":\"17848\"}},\"id\":\"17839\",\"subtype\":\"Figure\",\"type\":\"Plot\"},{\"attributes\":{\"fill_color\":{\"value\":\"#abdfff\"},\"line_color\":{\"value\":\"#75cbff\"},\"top\":{\"field\":\"control\"},\"width\":{\"value\":0.2},\"x\":{\"field\":\"taxa\",\"transform\":{\"id\":\"17858\"}}},\"id\":\"17860\",\"type\":\"VBar\"},{\"attributes\":{\"source\":{\"id\":\"17838\"}},\"id\":\"17863\",\"type\":\"CDSView\"},{\"attributes\":{\"axis\":{\"id\":\"17850\"},\"grid_line_color\":null,\"ticker\":null},\"id\":\"17852\",\"type\":\"Grid\"},{\"attributes\":{},\"id\":\"17869\",\"type\":\"Selection\"},{\"attributes\":{},\"id\":\"17848\",\"type\":\"LinearScale\"},{\"attributes\":{},\"id\":\"17870\",\"type\":\"UnionRenderers\"},{\"attributes\":{},\"id\":\"17851\",\"type\":\"CategoricalTicker\"},{\"attributes\":{\"axis_label\":\"Relative abundance (%)\",\"formatter\":{\"id\":\"17865\"},\"ticker\":{\"id\":\"17854\"}},\"id\":\"17853\",\"type\":\"LinearAxis\"},{\"attributes\":{\"label\":{\"value\":\"Regular diet\"},\"renderers\":[{\"id\":\"17862\"}]},\"id\":\"17872\",\"type\":\"LegendItem\"},{\"attributes\":{},\"id\":\"17846\",\"type\":\"CategoricalScale\"},{\"attributes\":{\"range\":{\"id\":\"17842\"}},\"id\":\"17873\",\"type\":\"Dodge\"},{\"attributes\":{\"source\":{\"id\":\"17838\"}},\"id\":\"17884\",\"type\":\"CDSView\"},{\"attributes\":{\"axis_label\":\"Taxon\",\"formatter\":{\"id\":\"17867\"},\"ticker\":{\"id\":\"17851\"}},\"id\":\"17850\",\"type\":\"CategoricalAxis\"},{\"attributes\":{\"factors\":[\"Bacteroides\",\"Bifidobacterium\",\"Escherichia_coli\",\"Enterobacteriaceae\",\"Clostridia\"],\"range_padding\":0.1},\"id\":\"17842\",\"type\":\"FactorRange\"},{\"attributes\":{\"data_source\":{\"id\":\"17838\"},\"glyph\":{\"id\":\"17875\"},\"hover_glyph\":null,\"muted_glyph\":null,\"nonselection_glyph\":{\"id\":\"17876\"},\"selection_glyph\":null,\"view\":{\"id\":\"17878\"}},\"id\":\"17877\",\"type\":\"GlyphRenderer\"},{\"attributes\":{\"fill_alpha\":{\"value\":0.1},\"fill_color\":{\"value\":\"#1f77b4\"},\"line_alpha\":{\"value\":0.1},\"line_color\":{\"value\":\"#1f77b4\"},\"top\":{\"field\":\"None\"},\"width\":{\"value\":0.1},\"x\":{\"field\":\"taxa\",\"transform\":{\"id\":\"17873\"}}},\"id\":\"17876\",\"type\":\"VBar\"},{\"attributes\":{},\"id\":\"17854\",\"type\":\"BasicTicker\"},{\"attributes\":{\"range\":{\"id\":\"17842\"},\"value\":0.12},\"id\":\"17879\",\"type\":\"Dodge\"},{\"attributes\":{\"axis\":{\"id\":\"17853\"},\"dimension\":1,\"ticker\":null},\"id\":\"17856\",\"type\":\"Grid\"},{\"attributes\":{\"items\":[{\"id\":\"17872\"},{\"id\":\"17892\"}],\"orientation\":\"horizontal\"},\"id\":\"17871\",\"type\":\"Legend\"},{\"attributes\":{\"fill_color\":{\"value\":\"#1f77b4\"},\"line_color\":{\"value\":\"#1f77b4\"},\"top\":{\"field\":\"None\"},\"width\":{\"value\":0.1},\"x\":{\"field\":\"taxa\",\"transform\":{\"id\":\"17873\"}}},\"id\":\"17875\",\"type\":\"VBar\"},{\"attributes\":{\"source\":{\"id\":\"17838\"}},\"id\":\"17878\",\"type\":\"CDSView\"},{\"attributes\":{\"active_drag\":\"auto\",\"active_inspect\":\"auto\",\"active_multi\":null,\"active_scroll\":\"auto\",\"active_tap\":\"auto\"},\"id\":\"17857\",\"type\":\"Toolbar\"},{\"attributes\":{\"data_source\":{\"id\":\"17838\"},\"glyph\":{\"id\":\"17881\"},\"hover_glyph\":null,\"muted_glyph\":null,\"name\":\"vegan\",\"nonselection_glyph\":{\"id\":\"17882\"},\"selection_glyph\":null,\"view\":{\"id\":\"17884\"}},\"id\":\"17883\",\"type\":\"GlyphRenderer\"},{\"attributes\":{\"fill_alpha\":{\"value\":0.1},\"fill_color\":{\"value\":\"#ceffc4\"},\"line_alpha\":{\"value\":0.1},\"line_color\":{\"value\":\"#8dff75\"},\"top\":{\"field\":\"vegan\"},\"width\":{\"value\":0.2},\"x\":{\"field\":\"taxa\",\"transform\":{\"id\":\"17879\"}}},\"id\":\"17882\",\"type\":\"VBar\"},{\"attributes\":{},\"id\":\"17867\",\"type\":\"CategoricalTickFormatter\"},{\"attributes\":{\"data_source\":{\"id\":\"17838\"},\"glyph\":{\"id\":\"17860\"},\"hover_glyph\":null,\"muted_glyph\":null,\"name\":\"control\",\"nonselection_glyph\":{\"id\":\"17861\"},\"selection_glyph\":null,\"view\":{\"id\":\"17863\"}},\"id\":\"17862\",\"type\":\"GlyphRenderer\"},{\"attributes\":{\"range\":{\"id\":\"17842\"},\"value\":-0.12},\"id\":\"17858\",\"type\":\"Dodge\"},{\"attributes\":{\"end\":100},\"id\":\"17844\",\"type\":\"Range1d\"},{\"attributes\":{\"label\":{\"value\":\"Vegan diet\"},\"renderers\":[{\"id\":\"17883\"}]},\"id\":\"17892\",\"type\":\"LegendItem\"},{\"attributes\":{\"fill_alpha\":{\"value\":0.1},\"fill_color\":{\"value\":\"#abdfff\"},\"line_alpha\":{\"value\":0.1},\"line_color\":{\"value\":\"#75cbff\"},\"top\":{\"field\":\"control\"},\"width\":{\"value\":0.2},\"x\":{\"field\":\"taxa\",\"transform\":{\"id\":\"17858\"}}},\"id\":\"17861\",\"type\":\"VBar\"},{\"attributes\":{\"text\":\"Subject D: Abundance of specific taxa of interest\"},\"id\":\"17840\",\"type\":\"Title\"},{\"attributes\":{},\"id\":\"17865\",\"type\":\"BasicTickFormatter\"},{\"attributes\":{\"fill_color\":{\"value\":\"#ceffc4\"},\"line_color\":{\"value\":\"#8dff75\"},\"top\":{\"field\":\"vegan\"},\"width\":{\"value\":0.2},\"x\":{\"field\":\"taxa\",\"transform\":{\"id\":\"17879\"}}},\"id\":\"17881\",\"type\":\"VBar\"},{\"attributes\":{\"data\":{\"None\":[0,0,0,0,0],\"control\":{\"__ndarray__\":\"EDlt8NLlUkAAAAAAAAD4fwAAAAAAAPh/AAAAAAAA+H9OFYPCbZYYQA==\",\"dtype\":\"float64\",\"order\":\"little\",\"shape\":[5]},\"taxa\":[\"Bacteroides\",\"Bifidobacterium\",\"Escherichia_coli\",\"Enterobacteriaceae\",\"Clostridia\"],\"vegan\":{\"__ndarray__\":\"vAUSFD+MU0AAAAAAAAD4f5iG4SNiigVAmIbhI2KKBUBIisiwipcVQA==\",\"dtype\":\"float64\",\"order\":\"little\",\"shape\":[5]}},\"selected\":{\"id\":\"17869\"},\"selection_policy\":{\"id\":\"17870\"}},\"id\":\"17838\",\"type\":\"ColumnDataSource\"}],\"root_ids\":[\"17839\"]},\"title\":\"Bokeh Application\",\"version\":\"2.2.3\"}};\n",
       "  var render_items = [{\"docid\":\"1642217f-66ae-462f-93e1-8aa2168ff37e\",\"root_ids\":[\"17839\"],\"roots\":{\"17839\":\"7a051d38-84d7-4f14-b5ee-ac24dadfc95e\"}}];\n",
       "  root.Bokeh.embed.embed_items_notebook(docs_json, render_items);\n",
       "\n",
       "  }\n",
       "  if (root.Bokeh !== undefined) {\n",
       "    embed_document(root);\n",
       "  } else {\n",
       "    var attempts = 0;\n",
       "    var timer = setInterval(function(root) {\n",
       "      if (root.Bokeh !== undefined) {\n",
       "        clearInterval(timer);\n",
       "        embed_document(root);\n",
       "      } else {\n",
       "        attempts++;\n",
       "        if (attempts > 100) {\n",
       "          clearInterval(timer);\n",
       "          console.log(\"Bokeh: ERROR: Unable to run BokehJS code because BokehJS library is missing\");\n",
       "        }\n",
       "      }\n",
       "    }, 10, root)\n",
       "  }\n",
       "})(window);"
      ],
      "application/vnd.bokehjs_exec.v0+json": ""
     },
     "metadata": {
      "application/vnd.bokehjs_exec.v0+json": {
       "id": "17839"
      }
     },
     "output_type": "display_data"
    },
    {
     "data": {
      "text/html": [
       "\n",
       "\n",
       "\n",
       "\n",
       "\n",
       "\n",
       "  <div class=\"bk-root\" id=\"5dab8c57-2b75-4e6a-b684-f8563cb3d198\" data-root-id=\"18335\"></div>\n"
      ]
     },
     "metadata": {},
     "output_type": "display_data"
    },
    {
     "data": {
      "application/javascript": [
       "(function(root) {\n",
       "  function embed_document(root) {\n",
       "    \n",
       "  var docs_json = {\"040b8cad-ebc1-4be0-9cf1-ca21fc7c571c\":{\"roots\":{\"references\":[{\"attributes\":{\"below\":[{\"id\":\"18346\"}],\"center\":[{\"id\":\"18349\"},{\"id\":\"18352\"},{\"id\":\"18374\"}],\"left\":[{\"id\":\"18350\"}],\"plot_height\":500,\"plot_width\":800,\"renderers\":[{\"id\":\"18359\"},{\"id\":\"18365\"},{\"id\":\"18380\"}],\"title\":{\"id\":\"18336\"},\"toolbar\":{\"id\":\"18353\"},\"toolbar_location\":null,\"x_range\":{\"id\":\"18338\"},\"x_scale\":{\"id\":\"18342\"},\"y_range\":{\"id\":\"18340\"},\"y_scale\":{\"id\":\"18344\"}},\"id\":\"18335\",\"subtype\":\"Figure\",\"type\":\"Plot\"},{\"attributes\":{},\"id\":\"18368\",\"type\":\"CategoricalTickFormatter\"},{\"attributes\":{\"data_source\":{\"id\":\"18334\"},\"glyph\":{\"id\":\"18378\"},\"hover_glyph\":null,\"muted_glyph\":null,\"name\":\"vegan\",\"nonselection_glyph\":{\"id\":\"18379\"},\"selection_glyph\":null,\"view\":{\"id\":\"18381\"}},\"id\":\"18380\",\"type\":\"GlyphRenderer\"},{\"attributes\":{\"fill_alpha\":{\"value\":0.1},\"fill_color\":{\"value\":\"darkgreen\"},\"line_alpha\":{\"value\":0.1},\"line_color\":{\"value\":\"darkgreen\"},\"size\":{\"units\":\"screen\",\"value\":22.22222222222222},\"x\":{\"field\":\"vegan\"},\"y\":{\"field\":\"taxa\",\"transform\":{\"id\":\"18376\"}}},\"id\":\"18379\",\"type\":\"Circle\"},{\"attributes\":{\"fill_color\":{\"value\":\"darkgreen\"},\"line_color\":{\"value\":\"darkgreen\"},\"size\":{\"units\":\"screen\",\"value\":22.22222222222222},\"x\":{\"field\":\"vegan\"},\"y\":{\"field\":\"taxa\",\"transform\":{\"id\":\"18376\"}}},\"id\":\"18378\",\"type\":\"Circle\"},{\"attributes\":{},\"id\":\"18338\",\"type\":\"DataRange1d\"},{\"attributes\":{\"range\":{\"id\":\"18340\"}},\"id\":\"18355\",\"type\":\"Dodge\"},{\"attributes\":{\"source\":{\"id\":\"18334\"}},\"id\":\"18381\",\"type\":\"CDSView\"},{\"attributes\":{\"data\":{\"control\":{\"__ndarray__\":\"xOVKhthwwD9yrzstKDzhP4Y5n4JFxvU/6xOdIqx/+z+BhhFnbIf9P1QE2qdY7wJAfftiuywwEkCuDSZXpaQUQLnysKE9fT1A\",\"dtype\":\"float64\",\"order\":\"little\",\"shape\":[9]},\"taxa\":[\"Veillonellaceae\",\"Coriobacteriaceae\",\"Barnesiellaceae\",\"Ruminococcaceae\",\"Lachnospiraceae\",\"Tannerellaceae\",\"Eubacteriaceae\",\"Rikenellaceae\",\"Bacteroidaceae\"],\"vegan\":{\"__ndarray__\":\"AAAAAAAA+H8AAAAAAAD4fwAAAAAAAPh/AAAAAAAA+H8AAAAAAAD4fwAAAAAAAPh/AAAAAAAA+H8AAAAAAAD4f8vLzfjmdSdA\",\"dtype\":\"float64\",\"order\":\"little\",\"shape\":[9]},\"xregular\":{\"__ndarray__\":\"xOVKhthwwD9yrzstKDzhP4Y5n4JFxvU/6xOdIqx/+z+BhhFnbIf9P1QE2qdY7wJAfftiuywwEkCuDSZXpaQUQLnysKE9fT1A\",\"dtype\":\"float64\",\"order\":\"little\",\"shape\":[9]},\"xvegan\":{\"__ndarray__\":\"AAAAAAAA+H8AAAAAAAD4fwAAAAAAAPh/AAAAAAAA+H8AAAAAAAD4fwAAAAAAAPh/AAAAAAAA+H8AAAAAAAD4f8vLzfjmdSdA\",\"dtype\":\"float64\",\"order\":\"little\",\"shape\":[9]}},\"selected\":{\"id\":\"18372\"},\"selection_policy\":{\"id\":\"18373\"}},\"id\":\"18334\",\"type\":\"ColumnDataSource\"},{\"attributes\":{\"fill_alpha\":{\"value\":0.1},\"fill_color\":{\"value\":\"darkblue\"},\"line_alpha\":{\"value\":0.1},\"line_color\":{\"value\":\"darkblue\"},\"size\":{\"units\":\"screen\",\"value\":22.22222222222222},\"x\":{\"field\":\"control\"},\"y\":{\"field\":\"taxa\",\"transform\":{\"id\":\"18361\"}}},\"id\":\"18364\",\"type\":\"Circle\"},{\"attributes\":{\"label\":{\"value\":\"Regular diet\"},\"renderers\":[{\"id\":\"18365\"}]},\"id\":\"18375\",\"type\":\"LegendItem\"},{\"attributes\":{\"label\":{\"value\":\"Vegan diet\"},\"renderers\":[{\"id\":\"18380\"}]},\"id\":\"18389\",\"type\":\"LegendItem\"},{\"attributes\":{\"range\":{\"id\":\"18340\"}},\"id\":\"18361\",\"type\":\"Dodge\"},{\"attributes\":{\"text\":\"Subject E: Abundance of all taxa on family level\"},\"id\":\"18336\",\"type\":\"Title\"},{\"attributes\":{\"line_width\":{\"value\":3},\"x0\":{\"field\":\"xregular\"},\"x1\":{\"field\":\"xvegan\"},\"y0\":{\"field\":\"taxa\",\"transform\":{\"id\":\"18354\"}},\"y1\":{\"field\":\"taxa\",\"transform\":{\"id\":\"18355\"}}},\"id\":\"18357\",\"type\":\"Segment\"},{\"attributes\":{\"source\":{\"id\":\"18334\"}},\"id\":\"18360\",\"type\":\"CDSView\"},{\"attributes\":{\"line_alpha\":{\"value\":0.1},\"line_width\":{\"value\":3},\"x0\":{\"field\":\"xregular\"},\"x1\":{\"field\":\"xvegan\"},\"y0\":{\"field\":\"taxa\",\"transform\":{\"id\":\"18354\"}},\"y1\":{\"field\":\"taxa\",\"transform\":{\"id\":\"18355\"}}},\"id\":\"18358\",\"type\":\"Segment\"},{\"attributes\":{\"range\":{\"id\":\"18340\"}},\"id\":\"18354\",\"type\":\"Dodge\"},{\"attributes\":{\"data_source\":{\"id\":\"18334\"},\"glyph\":{\"id\":\"18357\"},\"hover_glyph\":null,\"muted_glyph\":null,\"nonselection_glyph\":{\"id\":\"18358\"},\"selection_glyph\":null,\"view\":{\"id\":\"18360\"}},\"id\":\"18359\",\"type\":\"GlyphRenderer\"},{\"attributes\":{\"source\":{\"id\":\"18334\"}},\"id\":\"18366\",\"type\":\"CDSView\"},{\"attributes\":{},\"id\":\"18373\",\"type\":\"UnionRenderers\"},{\"attributes\":{\"axis\":{\"id\":\"18350\"},\"dimension\":1,\"grid_line_color\":null,\"ticker\":null},\"id\":\"18352\",\"type\":\"Grid\"},{\"attributes\":{},\"id\":\"18372\",\"type\":\"Selection\"},{\"attributes\":{\"items\":[{\"id\":\"18375\"},{\"id\":\"18389\"}],\"location\":\"bottom_right\"},\"id\":\"18374\",\"type\":\"Legend\"},{\"attributes\":{\"axis_label\":\"Taxon\",\"formatter\":{\"id\":\"18368\"},\"ticker\":{\"id\":\"18351\"}},\"id\":\"18350\",\"type\":\"CategoricalAxis\"},{\"attributes\":{\"active_drag\":\"auto\",\"active_inspect\":\"auto\",\"active_multi\":null,\"active_scroll\":\"auto\",\"active_tap\":\"auto\"},\"id\":\"18353\",\"type\":\"Toolbar\"},{\"attributes\":{\"axis\":{\"id\":\"18346\"},\"ticker\":null},\"id\":\"18349\",\"type\":\"Grid\"},{\"attributes\":{},\"id\":\"18342\",\"type\":\"LogScale\"},{\"attributes\":{\"fill_color\":{\"value\":\"darkblue\"},\"line_color\":{\"value\":\"darkblue\"},\"size\":{\"units\":\"screen\",\"value\":22.22222222222222},\"x\":{\"field\":\"control\"},\"y\":{\"field\":\"taxa\",\"transform\":{\"id\":\"18361\"}}},\"id\":\"18363\",\"type\":\"Circle\"},{\"attributes\":{},\"id\":\"18351\",\"type\":\"CategoricalTicker\"},{\"attributes\":{\"factors\":[\"Rikenellaceae\",\"Lachnospiraceae\",\"Veillonellaceae\",\"Bacteroidaceae\",\"Barnesiellaceae\",\"Tannerellaceae\",\"Eubacteriaceae\",\"Ruminococcaceae\",\"Coriobacteriaceae\"],\"range_padding\":0.1},\"id\":\"18340\",\"type\":\"FactorRange\"},{\"attributes\":{\"axis_label\":\"Relative abundance (%)\",\"formatter\":{\"id\":\"18370\"},\"ticker\":{\"id\":\"18347\"}},\"id\":\"18346\",\"type\":\"LogAxis\"},{\"attributes\":{\"ticker\":null},\"id\":\"18370\",\"type\":\"LogTickFormatter\"},{\"attributes\":{},\"id\":\"18344\",\"type\":\"CategoricalScale\"},{\"attributes\":{\"data_source\":{\"id\":\"18334\"},\"glyph\":{\"id\":\"18363\"},\"hover_glyph\":null,\"muted_glyph\":null,\"name\":\"control\",\"nonselection_glyph\":{\"id\":\"18364\"},\"selection_glyph\":null,\"view\":{\"id\":\"18366\"}},\"id\":\"18365\",\"type\":\"GlyphRenderer\"},{\"attributes\":{\"num_minor_ticks\":10},\"id\":\"18347\",\"type\":\"LogTicker\"},{\"attributes\":{\"range\":{\"id\":\"18340\"}},\"id\":\"18376\",\"type\":\"Dodge\"}],\"root_ids\":[\"18335\"]},\"title\":\"Bokeh Application\",\"version\":\"2.2.3\"}};\n",
       "  var render_items = [{\"docid\":\"040b8cad-ebc1-4be0-9cf1-ca21fc7c571c\",\"root_ids\":[\"18335\"],\"roots\":{\"18335\":\"5dab8c57-2b75-4e6a-b684-f8563cb3d198\"}}];\n",
       "  root.Bokeh.embed.embed_items_notebook(docs_json, render_items);\n",
       "\n",
       "  }\n",
       "  if (root.Bokeh !== undefined) {\n",
       "    embed_document(root);\n",
       "  } else {\n",
       "    var attempts = 0;\n",
       "    var timer = setInterval(function(root) {\n",
       "      if (root.Bokeh !== undefined) {\n",
       "        clearInterval(timer);\n",
       "        embed_document(root);\n",
       "      } else {\n",
       "        attempts++;\n",
       "        if (attempts > 100) {\n",
       "          clearInterval(timer);\n",
       "          console.log(\"Bokeh: ERROR: Unable to run BokehJS code because BokehJS library is missing\");\n",
       "        }\n",
       "      }\n",
       "    }, 10, root)\n",
       "  }\n",
       "})(window);"
      ],
      "application/vnd.bokehjs_exec.v0+json": ""
     },
     "metadata": {
      "application/vnd.bokehjs_exec.v0+json": {
       "id": "18335"
      }
     },
     "output_type": "display_data"
    },
    {
     "data": {
      "text/html": [
       "\n",
       "\n",
       "\n",
       "\n",
       "\n",
       "\n",
       "  <div class=\"bk-root\" id=\"f52c9787-7bc6-4641-9e2a-a284d835d926\" data-root-id=\"18839\"></div>\n"
      ]
     },
     "metadata": {},
     "output_type": "display_data"
    },
    {
     "data": {
      "application/javascript": [
       "(function(root) {\n",
       "  function embed_document(root) {\n",
       "    \n",
       "  var docs_json = {\"bdada3f4-f256-487d-aa46-144faa1997bf\":{\"roots\":{\"references\":[{\"attributes\":{\"below\":[{\"id\":\"18850\"}],\"center\":[{\"id\":\"18852\"},{\"id\":\"18856\"},{\"id\":\"18871\"}],\"left\":[{\"id\":\"18853\"}],\"plot_height\":500,\"plot_width\":800,\"renderers\":[{\"id\":\"18862\"},{\"id\":\"18877\"},{\"id\":\"18883\"}],\"title\":{\"id\":\"18840\"},\"toolbar\":{\"id\":\"18857\"},\"toolbar_location\":null,\"x_range\":{\"id\":\"18842\"},\"x_scale\":{\"id\":\"18846\"},\"y_range\":{\"id\":\"18844\"},\"y_scale\":{\"id\":\"18848\"}},\"id\":\"18839\",\"subtype\":\"Figure\",\"type\":\"Plot\"},{\"attributes\":{},\"id\":\"18846\",\"type\":\"CategoricalScale\"},{\"attributes\":{\"data_source\":{\"id\":\"18838\"},\"glyph\":{\"id\":\"18860\"},\"hover_glyph\":null,\"muted_glyph\":null,\"name\":\"control\",\"nonselection_glyph\":{\"id\":\"18861\"},\"selection_glyph\":null,\"view\":{\"id\":\"18863\"}},\"id\":\"18862\",\"type\":\"GlyphRenderer\"},{\"attributes\":{\"data_source\":{\"id\":\"18838\"},\"glyph\":{\"id\":\"18881\"},\"hover_glyph\":null,\"muted_glyph\":null,\"name\":\"vegan\",\"nonselection_glyph\":{\"id\":\"18882\"},\"selection_glyph\":null,\"view\":{\"id\":\"18884\"}},\"id\":\"18883\",\"type\":\"GlyphRenderer\"},{\"attributes\":{\"axis_label\":\"Taxon\",\"formatter\":{\"id\":\"18867\"},\"ticker\":{\"id\":\"18851\"}},\"id\":\"18850\",\"type\":\"CategoricalAxis\"},{\"attributes\":{\"fill_alpha\":{\"value\":0.1},\"fill_color\":{\"value\":\"#ceffc4\"},\"line_alpha\":{\"value\":0.1},\"line_color\":{\"value\":\"#8dff75\"},\"top\":{\"field\":\"vegan\"},\"width\":{\"value\":0.2},\"x\":{\"field\":\"taxa\",\"transform\":{\"id\":\"18879\"}}},\"id\":\"18882\",\"type\":\"VBar\"},{\"attributes\":{\"fill_alpha\":{\"value\":0.1},\"fill_color\":{\"value\":\"#abdfff\"},\"line_alpha\":{\"value\":0.1},\"line_color\":{\"value\":\"#75cbff\"},\"top\":{\"field\":\"control\"},\"width\":{\"value\":0.2},\"x\":{\"field\":\"taxa\",\"transform\":{\"id\":\"18858\"}}},\"id\":\"18861\",\"type\":\"VBar\"},{\"attributes\":{},\"id\":\"18848\",\"type\":\"LinearScale\"},{\"attributes\":{\"fill_color\":{\"value\":\"#ceffc4\"},\"line_color\":{\"value\":\"#8dff75\"},\"top\":{\"field\":\"vegan\"},\"width\":{\"value\":0.2},\"x\":{\"field\":\"taxa\",\"transform\":{\"id\":\"18879\"}}},\"id\":\"18881\",\"type\":\"VBar\"},{\"attributes\":{},\"id\":\"18865\",\"type\":\"BasicTickFormatter\"},{\"attributes\":{\"source\":{\"id\":\"18838\"}},\"id\":\"18884\",\"type\":\"CDSView\"},{\"attributes\":{\"label\":{\"value\":\"Vegan diet\"},\"renderers\":[{\"id\":\"18883\"}]},\"id\":\"18892\",\"type\":\"LegendItem\"},{\"attributes\":{\"fill_color\":{\"value\":\"#abdfff\"},\"line_color\":{\"value\":\"#75cbff\"},\"top\":{\"field\":\"control\"},\"width\":{\"value\":0.2},\"x\":{\"field\":\"taxa\",\"transform\":{\"id\":\"18858\"}}},\"id\":\"18860\",\"type\":\"VBar\"},{\"attributes\":{},\"id\":\"18851\",\"type\":\"CategoricalTicker\"},{\"attributes\":{\"source\":{\"id\":\"18838\"}},\"id\":\"18863\",\"type\":\"CDSView\"},{\"attributes\":{\"end\":100},\"id\":\"18844\",\"type\":\"Range1d\"},{\"attributes\":{\"factors\":[\"Bacteroides\",\"Bifidobacterium\",\"Escherichia_coli\",\"Enterobacteriaceae\",\"Clostridia\"],\"range_padding\":0.1},\"id\":\"18842\",\"type\":\"FactorRange\"},{\"attributes\":{},\"id\":\"18869\",\"type\":\"Selection\"},{\"attributes\":{},\"id\":\"18870\",\"type\":\"UnionRenderers\"},{\"attributes\":{\"items\":[{\"id\":\"18872\"},{\"id\":\"18892\"}],\"orientation\":\"horizontal\"},\"id\":\"18871\",\"type\":\"Legend\"},{\"attributes\":{\"label\":{\"value\":\"Regular diet\"},\"renderers\":[{\"id\":\"18862\"}]},\"id\":\"18872\",\"type\":\"LegendItem\"},{\"attributes\":{\"range\":{\"id\":\"18842\"},\"value\":-0.12},\"id\":\"18858\",\"type\":\"Dodge\"},{\"attributes\":{\"range\":{\"id\":\"18842\"}},\"id\":\"18873\",\"type\":\"Dodge\"},{\"attributes\":{\"axis\":{\"id\":\"18850\"},\"grid_line_color\":null,\"ticker\":null},\"id\":\"18852\",\"type\":\"Grid\"},{\"attributes\":{\"data_source\":{\"id\":\"18838\"},\"glyph\":{\"id\":\"18875\"},\"hover_glyph\":null,\"muted_glyph\":null,\"nonselection_glyph\":{\"id\":\"18876\"},\"selection_glyph\":null,\"view\":{\"id\":\"18878\"}},\"id\":\"18877\",\"type\":\"GlyphRenderer\"},{\"attributes\":{\"axis_label\":\"Relative abundance (%)\",\"formatter\":{\"id\":\"18865\"},\"ticker\":{\"id\":\"18854\"}},\"id\":\"18853\",\"type\":\"LinearAxis\"},{\"attributes\":{\"fill_alpha\":{\"value\":0.1},\"fill_color\":{\"value\":\"#1f77b4\"},\"line_alpha\":{\"value\":0.1},\"line_color\":{\"value\":\"#1f77b4\"},\"top\":{\"field\":\"None\"},\"width\":{\"value\":0.1},\"x\":{\"field\":\"taxa\",\"transform\":{\"id\":\"18873\"}}},\"id\":\"18876\",\"type\":\"VBar\"},{\"attributes\":{\"data\":{\"None\":[0,0,0,0,0],\"control\":{\"__ndarray__\":\"ufKwoT19PUAAAAAAAAD4fwAAAAAAAPh/AAAAAAAA+H8MUedu+TggQA==\",\"dtype\":\"float64\",\"order\":\"little\",\"shape\":[5]},\"taxa\":[\"Bacteroides\",\"Bifidobacterium\",\"Escherichia_coli\",\"Enterobacteriaceae\",\"Clostridia\"],\"vegan\":{\"__ndarray__\":\"y8vN+OZ1J0AAAAAAAAD4fwAAAAAAAPh/AAAAAAAA+H8AAAAAAAD4fw==\",\"dtype\":\"float64\",\"order\":\"little\",\"shape\":[5]}},\"selected\":{\"id\":\"18869\"},\"selection_policy\":{\"id\":\"18870\"}},\"id\":\"18838\",\"type\":\"ColumnDataSource\"},{\"attributes\":{},\"id\":\"18854\",\"type\":\"BasicTicker\"},{\"attributes\":{\"range\":{\"id\":\"18842\"},\"value\":0.12},\"id\":\"18879\",\"type\":\"Dodge\"},{\"attributes\":{\"axis\":{\"id\":\"18853\"},\"dimension\":1,\"ticker\":null},\"id\":\"18856\",\"type\":\"Grid\"},{\"attributes\":{},\"id\":\"18867\",\"type\":\"CategoricalTickFormatter\"},{\"attributes\":{\"fill_color\":{\"value\":\"#1f77b4\"},\"line_color\":{\"value\":\"#1f77b4\"},\"top\":{\"field\":\"None\"},\"width\":{\"value\":0.1},\"x\":{\"field\":\"taxa\",\"transform\":{\"id\":\"18873\"}}},\"id\":\"18875\",\"type\":\"VBar\"},{\"attributes\":{\"text\":\"Subject E: Abundance of specific taxa of interest\"},\"id\":\"18840\",\"type\":\"Title\"},{\"attributes\":{\"source\":{\"id\":\"18838\"}},\"id\":\"18878\",\"type\":\"CDSView\"},{\"attributes\":{\"active_drag\":\"auto\",\"active_inspect\":\"auto\",\"active_multi\":null,\"active_scroll\":\"auto\",\"active_tap\":\"auto\"},\"id\":\"18857\",\"type\":\"Toolbar\"}],\"root_ids\":[\"18839\"]},\"title\":\"Bokeh Application\",\"version\":\"2.2.3\"}};\n",
       "  var render_items = [{\"docid\":\"bdada3f4-f256-487d-aa46-144faa1997bf\",\"root_ids\":[\"18839\"],\"roots\":{\"18839\":\"f52c9787-7bc6-4641-9e2a-a284d835d926\"}}];\n",
       "  root.Bokeh.embed.embed_items_notebook(docs_json, render_items);\n",
       "\n",
       "  }\n",
       "  if (root.Bokeh !== undefined) {\n",
       "    embed_document(root);\n",
       "  } else {\n",
       "    var attempts = 0;\n",
       "    var timer = setInterval(function(root) {\n",
       "      if (root.Bokeh !== undefined) {\n",
       "        clearInterval(timer);\n",
       "        embed_document(root);\n",
       "      } else {\n",
       "        attempts++;\n",
       "        if (attempts > 100) {\n",
       "          clearInterval(timer);\n",
       "          console.log(\"Bokeh: ERROR: Unable to run BokehJS code because BokehJS library is missing\");\n",
       "        }\n",
       "      }\n",
       "    }, 10, root)\n",
       "  }\n",
       "})(window);"
      ],
      "application/vnd.bokehjs_exec.v0+json": ""
     },
     "metadata": {
      "application/vnd.bokehjs_exec.v0+json": {
       "id": "18839"
      }
     },
     "output_type": "display_data"
    }
   ],
   "source": [
    "def main():\n",
    "    config = get_config()\n",
    "    gfkb, tax_profiles = load_data_microbiota(config['microbiota_files_path'])\n",
    "    \n",
    "#     C = tax_profiles[tax_profiles.index.get_level_values('subject') == 'C']\n",
    "#     display(C)\n",
    "    \n",
    "    plot_dumbbell(tax_profiles, \"s Pooled\", \"family\")\n",
    "    zimmer_subset = recreate_zimmer(tax_profiles, \"s Pooled\")\n",
    "    \n",
    "    subjects = [\"A\", \"B\", \"C\", \"D\", \"E\"]\n",
    "    for subject in subjects:\n",
    "        plot_dumbbell(tax_profiles, subject, \"family\")\n",
    "        zimmer_subset = recreate_zimmer(tax_profiles, subject)\n",
    "    \n",
    "    with open(\"tmp.html\",'w') as f:\n",
    "        f.write(tax_profiles.to_html(justify=\"left\"))\n",
    "    \n",
    "if __name__ == '__main__':\n",
    "    main()"
   ]
  },
  {
   "cell_type": "code",
   "execution_count": null,
   "metadata": {},
   "outputs": [],
   "source": []
  },
  {
   "cell_type": "code",
   "execution_count": null,
   "metadata": {},
   "outputs": [],
   "source": []
  },
  {
   "cell_type": "code",
   "execution_count": null,
   "metadata": {},
   "outputs": [],
   "source": []
  }
 ],
 "metadata": {
  "kernelspec": {
   "display_name": "Python 3",
   "language": "python",
   "name": "python3"
  },
  "language_info": {
   "codemirror_mode": {
    "name": "ipython",
    "version": 3
   },
   "file_extension": ".py",
   "mimetype": "text/x-python",
   "name": "python",
   "nbconvert_exporter": "python",
   "pygments_lexer": "ipython3",
   "version": "3.7.3"
  }
 },
 "nbformat": 4,
 "nbformat_minor": 4
}
