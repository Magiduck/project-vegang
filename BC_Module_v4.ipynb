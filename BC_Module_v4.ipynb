{
 "cells": [
  {
   "cell_type": "markdown",
   "metadata": {},
   "source": [
    "## Importing libraries and installing xlrd for reading xlsx files"
   ]
  },
  {
   "cell_type": "code",
   "execution_count": 1,
   "metadata": {},
   "outputs": [],
   "source": [
    "import numpy as np\n",
    "import pandas as pd\n",
    "import os"
   ]
  },
  {
   "cell_type": "markdown",
   "metadata": {},
   "source": [
    "## Reading xlsx files and joining them together\n",
    "#### Please download all excel files and put in same directory as your current notebook"
   ]
  },
  {
   "cell_type": "code",
   "execution_count": 2,
   "metadata": {},
   "outputs": [
    {
     "data": {
      "text/plain": [
       "(186, 11)"
      ]
     },
     "execution_count": 2,
     "metadata": {},
     "output_type": "execute_result"
    }
   ],
   "source": [
    "path = os.getcwd()\n",
    "filename = '\\\\body_composition_measurements_subject_'\n",
    "subjects = ['A', 'B', 'C', 'D', 'E']\n",
    "\n",
    "df = pd.DataFrame()\n",
    "for subject in subjects:\n",
    "    dftemp = pd.read_excel('{}{}{}.xlsx'.format(path, filename, subject))\n",
    "    df = df.append(dftemp, ignore_index=True)\n",
    "\n",
    "df.shape"
   ]
  },
  {
   "cell_type": "markdown",
   "metadata": {},
   "source": [
    "### Adding a column for recognizing veganism vs. normal diet"
   ]
  },
  {
   "cell_type": "code",
   "execution_count": 7,
   "metadata": {},
   "outputs": [],
   "source": [
    "df['vegan'] = np.where(df['Date (yy-mm-dd)'] > '2020-10-22', True, False)"
   ]
  },
  {
   "cell_type": "markdown",
   "metadata": {},
   "source": [
    "### Save merged file as a excel"
   ]
  },
  {
   "cell_type": "code",
   "execution_count": 11,
   "metadata": {},
   "outputs": [],
   "source": [
    "# save merged files as a one file\n",
    "df.to_excel('df_BC.xlsx')"
   ]
  },
  {
   "cell_type": "markdown",
   "metadata": {},
   "source": [
    "### Ploting interactive panel"
   ]
  },
  {
   "cell_type": "code",
   "execution_count": 38,
   "metadata": {},
   "outputs": [
    {
     "data": {
      "application/vnd.holoviews_exec.v0+json": "",
      "text/html": [
       "<div id='84151'>\n",
       "\n",
       "\n",
       "\n",
       "\n",
       "\n",
       "  <div class=\"bk-root\" id=\"1ad8a98c-8f34-4f87-8926-2626a9151c17\" data-root-id=\"84151\"></div>\n",
       "</div>\n",
       "<script type=\"application/javascript\">(function(root) {\n",
       "  function embed_document(root) {\n",
       "    var docs_json = {\"6f5cd84e-cd33-4ec0-8308-a14c0eac5c33\":{\"roots\":{\"references\":[{\"attributes\":{\"source\":{\"id\":\"84190\"}},\"id\":\"84197\",\"type\":\"CDSView\"},{\"attributes\":{},\"id\":\"84363\",\"type\":\"SaveTool\"},{\"attributes\":{},\"id\":\"84367\",\"type\":\"ResetTool\"},{\"attributes\":{\"data\":{\"BMI (score)\":{\"__ndarray__\":\"zczMzMxMOECamZmZmRk4QAAAAAAAADhAAAAAAAAAOEBmZmZmZmY4QM3MzMzMTDhAMzMzMzMzOEDNzMzMzEw4QM3MzMzMTDhAzczMzMxMOEBmZmZmZmY4QM3MzMzMTDhAzczMzMxMOEAzMzMzMzM4QM3MzMzMTDhAAAAAAAAAOECamZmZmRk4QM3MzMzMTDhAMzMzMzMzOEDNzMzMzEw4QM3MzMzMTDhAAAAAAACAOEBmZmZmZmY4QJqZmZmZGThAzczMzMxMOEAzMzMzMzM4QAAAAAAAADhAmpmZmZkZOEBmZmZmZmY4QDMzMzMzMzhAAAAAAACAOEAzMzMzMzM4QAAAAAAAADhAZmZmZmbmN0AzMzMzMzM4QA==\",\"dtype\":\"float64\",\"order\":\"little\",\"shape\":[35]},\"BMI_left_parenthesis_score_right_parenthesis\":{\"__ndarray__\":\"zczMzMxMOECamZmZmRk4QAAAAAAAADhAAAAAAAAAOEBmZmZmZmY4QM3MzMzMTDhAMzMzMzMzOEDNzMzMzEw4QM3MzMzMTDhAzczMzMxMOEBmZmZmZmY4QM3MzMzMTDhAzczMzMxMOEAzMzMzMzM4QM3MzMzMTDhAAAAAAAAAOECamZmZmRk4QM3MzMzMTDhAMzMzMzMzOEDNzMzMzEw4QM3MzMzMTDhAAAAAAACAOEBmZmZmZmY4QJqZmZmZGThAzczMzMxMOEAzMzMzMzM4QAAAAAAAADhAmpmZmZkZOEBmZmZmZmY4QDMzMzMzMzhAAAAAAACAOEAzMzMzMzM4QAAAAAAAADhAZmZmZmbmN0AzMzMzMzM4QA==\",\"dtype\":\"float64\",\"order\":\"little\",\"shape\":[35]},\"Days\":{\"__ndarray__\":\"AAAAAAEAAAACAAAAAwAAAAQAAAAFAAAABgAAAAcAAAAIAAAACQAAAAoAAAALAAAADAAAAA0AAAAOAAAADwAAABAAAAARAAAAEgAAABMAAAAUAAAAFQAAABYAAAAXAAAAGAAAABkAAAAaAAAAGwAAABwAAAAdAAAAHgAAAB8AAAAgAAAAIQAAACIAAAA=\",\"dtype\":\"int32\",\"order\":\"little\",\"shape\":[35]}},\"selected\":{\"id\":\"84253\"},\"selection_policy\":{\"id\":\"84270\"}},\"id\":\"84252\",\"type\":\"ColumnDataSource\"},{\"attributes\":{\"axis_label\":\"\",\"bounds\":\"auto\",\"formatter\":{\"id\":\"84200\"},\"major_label_orientation\":\"horizontal\",\"ticker\":{\"id\":\"84174\"}},\"id\":\"84173\",\"type\":\"LinearAxis\"},{\"attributes\":{\"bottom_units\":\"screen\",\"fill_alpha\":0.5,\"fill_color\":\"lightgrey\",\"left_units\":\"screen\",\"level\":\"overlay\",\"line_alpha\":1.0,\"line_color\":\"black\",\"line_dash\":[4,4],\"line_width\":2,\"right_units\":\"screen\",\"top_units\":\"screen\"},\"id\":\"84182\",\"type\":\"BoxAnnotation\"},{\"attributes\":{},\"id\":\"84305\",\"type\":\"ResetTool\"},{\"attributes\":{},\"id\":\"84208\",\"type\":\"UnionRenderers\"},{\"attributes\":{\"children\":[{\"id\":\"84152\"},{\"id\":\"84155\"}],\"margin\":[0,0,0,0],\"name\":\"Column93112\"},\"id\":\"84151\",\"type\":\"Column\"},{\"attributes\":{},\"id\":\"84364\",\"type\":\"PanTool\"},{\"attributes\":{\"bottom_units\":\"screen\",\"fill_alpha\":0.5,\"fill_color\":\"lightgrey\",\"left_units\":\"screen\",\"level\":\"overlay\",\"line_alpha\":1.0,\"line_color\":\"black\",\"line_dash\":[4,4],\"line_width\":2,\"right_units\":\"screen\",\"top_units\":\"screen\"},\"id\":\"84368\",\"type\":\"BoxAnnotation\"},{\"attributes\":{\"end\":24.56,\"reset_end\":24.56,\"reset_start\":23.84,\"start\":23.84,\"tags\":[[[\"BMI (score)\",\"BMI (score)\",null]]]},\"id\":\"84220\",\"type\":\"Range1d\"},{\"attributes\":{\"overlay\":{\"id\":\"84244\"}},\"id\":\"84242\",\"type\":\"BoxZoomTool\"},{\"attributes\":{},\"id\":\"84177\",\"type\":\"SaveTool\"},{\"attributes\":{\"children\":[{\"id\":\"84153\"},{\"id\":\"84154\"}],\"margin\":[0,0,0,0],\"name\":\"Column93431\"},\"id\":\"84152\",\"type\":\"Column\"},{\"attributes\":{},\"id\":\"84294\",\"type\":\"BasicTicker\"},{\"attributes\":{},\"id\":\"84178\",\"type\":\"PanTool\"},{\"attributes\":{},\"id\":\"84332\",\"type\":\"UnionRenderers\"},{\"attributes\":{\"children\":[{\"id\":\"84156\"}],\"margin\":[0,0,0,0],\"name\":\"Row93430\"},\"id\":\"84155\",\"type\":\"Row\"},{\"attributes\":{},\"id\":\"84232\",\"type\":\"BasicTicker\"},{\"attributes\":{},\"id\":\"84174\",\"type\":\"BasicTicker\"},{\"attributes\":{\"active\":0,\"labels\":[\"A\",\"B\",\"C\",\"D\",\"E\"],\"margin\":[5,10,5,10]},\"id\":\"84153\",\"type\":\"RadioButtonGroup\"},{\"attributes\":{},\"id\":\"84179\",\"type\":\"WheelZoomTool\"},{\"attributes\":{\"data\":{\"Days\":{\"__ndarray__\":\"AAAAAAEAAAACAAAAAwAAAAQAAAAFAAAABgAAAAcAAAAIAAAACQAAAAoAAAALAAAADAAAAA0AAAAOAAAADwAAABAAAAARAAAAEgAAABMAAAAUAAAAFQAAABYAAAAXAAAAGAAAABkAAAAaAAAAGwAAABwAAAAdAAAAHgAAAB8AAAAgAAAAIQAAACIAAAA=\",\"dtype\":\"int32\",\"order\":\"little\",\"shape\":[35]},\"Skeletal muscle (%)\":{\"__ndarray__\":\"zczMzMxMQkBmZmZmZiZCQJqZmZmZGUJAMzMzMzPzQUCamZmZmdlBQJqZmZmZmUFAmpmZmZnZQUAzMzMzM/NBQM3MzMzMzEFAZmZmZmbmQUBmZmZmZqZBQAAAAAAAAEJAMzMzMzMzQkAzMzMzM7NBQM3MzMzMDEJAZmZmZmZmQUCamZmZmZlBQDMzMzMzs0FAZmZmZmamQUCamZmZmdlBQGZmZmZmpkFAmpmZmZmZQUBmZmZmZuZBQGZmZmZmpkFAMzMzMzPzQUAzMzMzM/NBQGZmZmZmpkFAmpmZmZnZQUCamZmZmZlBQGZmZmZmpkFAzczMzMyMQUAAAAAAAMBBQAAAAAAAgEFAzczMzMzMQUAAAAAAAMBBQA==\",\"dtype\":\"float64\",\"order\":\"little\",\"shape\":[35]},\"Skeletal_muscle_left_parenthesis_percent_right_parenthesis\":{\"__ndarray__\":\"zczMzMxMQkBmZmZmZiZCQJqZmZmZGUJAMzMzMzPzQUCamZmZmdlBQJqZmZmZmUFAmpmZmZnZQUAzMzMzM/NBQM3MzMzMzEFAZmZmZmbmQUBmZmZmZqZBQAAAAAAAAEJAMzMzMzMzQkAzMzMzM7NBQM3MzMzMDEJAZmZmZmZmQUCamZmZmZlBQDMzMzMzs0FAZmZmZmamQUCamZmZmdlBQGZmZmZmpkFAmpmZmZmZQUBmZmZmZuZBQGZmZmZmpkFAMzMzMzPzQUAzMzMzM/NBQGZmZmZmpkFAmpmZmZnZQUCamZmZmZlBQGZmZmZmpkFAzczMzMyMQUAAAAAAAMBBQAAAAAAAgEFAzczMzMzMQUAAAAAAAMBBQA==\",\"dtype\":\"float64\",\"order\":\"little\",\"shape\":[35]}},\"selected\":{\"id\":\"84377\"},\"selection_policy\":{\"id\":\"84394\"}},\"id\":\"84376\",\"type\":\"ColumnDataSource\"},{\"attributes\":{\"active\":0,\"labels\":[\"Line\",\"Boxplot\",\"Violin\"],\"margin\":[5,10,5,10]},\"id\":\"84154\",\"type\":\"RadioButtonGroup\"},{\"attributes\":{\"axis_label\":\"Days\",\"bounds\":\"auto\",\"formatter\":{\"id\":\"84260\"},\"major_label_orientation\":\"horizontal\",\"ticker\":{\"id\":\"84232\"}},\"id\":\"84231\",\"type\":\"LinearAxis\"},{\"attributes\":{\"overlay\":{\"id\":\"84182\"}},\"id\":\"84180\",\"type\":\"BoxZoomTool\"},{\"attributes\":{\"data_source\":{\"id\":\"84190\"},\"glyph\":{\"id\":\"84193\"},\"hover_glyph\":null,\"muted_glyph\":{\"id\":\"84195\"},\"nonselection_glyph\":{\"id\":\"84194\"},\"selection_glyph\":null,\"view\":{\"id\":\"84197\"}},\"id\":\"84196\",\"type\":\"GlyphRenderer\"},{\"attributes\":{},\"id\":\"84394\",\"type\":\"UnionRenderers\"},{\"attributes\":{},\"id\":\"84181\",\"type\":\"ResetTool\"},{\"attributes\":{\"margin\":[0,0,0,0],\"tabs\":[{\"id\":\"84218\"},{\"id\":\"84280\"},{\"id\":\"84342\"},{\"id\":\"84404\"}]},\"id\":\"84156\",\"type\":\"Tabs\"},{\"attributes\":{\"source\":{\"id\":\"84252\"}},\"id\":\"84259\",\"type\":\"CDSView\"},{\"attributes\":{\"line_alpha\":0.2,\"line_color\":\"#1f77b3\",\"line_width\":2,\"x\":{\"field\":\"Days\"},\"y\":{\"field\":\"Bodyfat (%)\"}},\"id\":\"84319\",\"type\":\"Line\"},{\"attributes\":{\"line_color\":\"#1f77b3\",\"line_width\":2,\"x\":{\"field\":\"Days\"},\"y\":{\"field\":\"Skeletal muscle (%)\"}},\"id\":\"84379\",\"type\":\"Line\"},{\"attributes\":{},\"id\":\"84377\",\"type\":\"Selection\"},{\"attributes\":{\"text\":\"Skeletal muscle (%)\",\"text_color\":{\"value\":\"black\"},\"text_font_size\":{\"value\":\"12pt\"}},\"id\":\"84347\",\"type\":\"Title\"},{\"attributes\":{\"callback\":null,\"renderers\":[{\"id\":\"84320\"}],\"tags\":[\"hv_created\"],\"tooltips\":[[\"Days\",\"@{Days}\"],[\"Bodyfat (%)\",\"@{Bodyfat_left_parenthesis_percent_right_parenthesis}\"]]},\"id\":\"84283\",\"type\":\"HoverTool\"},{\"attributes\":{\"active_drag\":\"auto\",\"active_inspect\":\"auto\",\"active_multi\":null,\"active_scroll\":\"auto\",\"active_tap\":\"auto\",\"tools\":[{\"id\":\"84159\"},{\"id\":\"84177\"},{\"id\":\"84178\"},{\"id\":\"84179\"},{\"id\":\"84180\"},{\"id\":\"84181\"}]},\"id\":\"84183\",\"type\":\"Toolbar\"},{\"attributes\":{},\"id\":\"84289\",\"type\":\"LinearScale\"},{\"attributes\":{},\"id\":\"84170\",\"type\":\"BasicTicker\"},{\"attributes\":{},\"id\":\"84227\",\"type\":\"LinearScale\"},{\"attributes\":{},\"id\":\"84351\",\"type\":\"LinearScale\"},{\"attributes\":{\"line_alpha\":0.2,\"line_color\":\"#1f77b3\",\"line_width\":2,\"x\":{\"field\":\"Days\"},\"y\":{\"field\":\"BMI (score)\"}},\"id\":\"84257\",\"type\":\"Line\"},{\"attributes\":{\"child\":{\"id\":\"84284\"},\"name\":\"Bodyfat\",\"title\":\"Bodyfat\"},\"id\":\"84342\",\"type\":\"Panel\"},{\"attributes\":{\"axis\":{\"id\":\"84293\"},\"grid_line_color\":null,\"ticker\":null},\"id\":\"84296\",\"type\":\"Grid\"},{\"attributes\":{\"bottom_units\":\"screen\",\"fill_alpha\":0.5,\"fill_color\":\"lightgrey\",\"left_units\":\"screen\",\"level\":\"overlay\",\"line_alpha\":1.0,\"line_color\":\"black\",\"line_dash\":[4,4],\"line_width\":2,\"right_units\":\"screen\",\"top_units\":\"screen\"},\"id\":\"84244\",\"type\":\"BoxAnnotation\"},{\"attributes\":{},\"id\":\"84353\",\"type\":\"LinearScale\"},{\"attributes\":{\"below\":[{\"id\":\"84355\"}],\"center\":[{\"id\":\"84358\"},{\"id\":\"84362\"}],\"left\":[{\"id\":\"84359\"}],\"margin\":[5,5,5,5],\"min_border_bottom\":10,\"min_border_left\":10,\"min_border_right\":10,\"min_border_top\":10,\"plot_height\":300,\"plot_width\":700,\"renderers\":[{\"id\":\"84382\"}],\"sizing_mode\":\"fixed\",\"title\":{\"id\":\"84347\"},\"toolbar\":{\"id\":\"84369\"},\"x_range\":{\"id\":\"84157\"},\"x_scale\":{\"id\":\"84351\"},\"y_range\":{\"id\":\"84344\"},\"y_scale\":{\"id\":\"84353\"}},\"id\":\"84346\",\"subtype\":\"Figure\",\"type\":\"Plot\"},{\"attributes\":{\"text\":\"BMI (score)\",\"text_color\":{\"value\":\"black\"},\"text_font_size\":{\"value\":\"12pt\"}},\"id\":\"84223\",\"type\":\"Title\"},{\"attributes\":{\"axis_label\":\"Days\",\"bounds\":\"auto\",\"formatter\":{\"id\":\"84322\"},\"major_label_orientation\":\"horizontal\",\"ticker\":{\"id\":\"84294\"}},\"id\":\"84293\",\"type\":\"LinearAxis\"},{\"attributes\":{\"axis\":{\"id\":\"84169\"},\"grid_line_color\":null,\"ticker\":null},\"id\":\"84172\",\"type\":\"Grid\"},{\"attributes\":{\"line_alpha\":0.1,\"line_color\":\"#1f77b3\",\"line_width\":2,\"x\":{\"field\":\"Days\"},\"y\":{\"field\":\"Bodyweight (kg)\"}},\"id\":\"84194\",\"type\":\"Line\"},{\"attributes\":{\"data_source\":{\"id\":\"84314\"},\"glyph\":{\"id\":\"84317\"},\"hover_glyph\":null,\"muted_glyph\":{\"id\":\"84319\"},\"nonselection_glyph\":{\"id\":\"84318\"},\"selection_glyph\":null,\"view\":{\"id\":\"84321\"}},\"id\":\"84320\",\"type\":\"GlyphRenderer\"},{\"attributes\":{\"client_comm_id\":\"f926a977e12a4e62a16b324c0cc60055\",\"comm_id\":\"6dba2b0ee6304b9681fec693cd33930d\",\"plot_id\":\"84151\"},\"id\":\"84501\",\"type\":\"panel.models.comm_manager.CommManager\"},{\"attributes\":{\"axis_label\":\"Days\",\"bounds\":\"auto\",\"formatter\":{\"id\":\"84384\"},\"major_label_orientation\":\"horizontal\",\"ticker\":{\"id\":\"84356\"}},\"id\":\"84355\",\"type\":\"LinearAxis\"},{\"attributes\":{\"line_alpha\":0.2,\"line_color\":\"#1f77b3\",\"line_width\":2,\"x\":{\"field\":\"Days\"},\"y\":{\"field\":\"Bodyweight (kg)\"}},\"id\":\"84195\",\"type\":\"Line\"},{\"attributes\":{\"axis\":{\"id\":\"84235\"},\"dimension\":1,\"grid_line_color\":null,\"ticker\":null},\"id\":\"84238\",\"type\":\"Grid\"},{\"attributes\":{\"line_color\":\"#1f77b3\",\"line_width\":2,\"x\":{\"field\":\"Days\"},\"y\":{\"field\":\"Bodyweight (kg)\"}},\"id\":\"84193\",\"type\":\"Line\"},{\"attributes\":{},\"id\":\"84291\",\"type\":\"LinearScale\"},{\"attributes\":{\"axis_label\":\"\",\"bounds\":\"auto\",\"formatter\":{\"id\":\"84386\"},\"major_label_orientation\":\"horizontal\",\"ticker\":{\"id\":\"84360\"}},\"id\":\"84359\",\"type\":\"LinearAxis\"},{\"attributes\":{\"axis\":{\"id\":\"84355\"},\"grid_line_color\":null,\"ticker\":null},\"id\":\"84358\",\"type\":\"Grid\"},{\"attributes\":{\"line_alpha\":0.2,\"line_color\":\"#1f77b3\",\"line_width\":2,\"x\":{\"field\":\"Days\"},\"y\":{\"field\":\"Skeletal muscle (%)\"}},\"id\":\"84381\",\"type\":\"Line\"},{\"attributes\":{},\"id\":\"84315\",\"type\":\"Selection\"},{\"attributes\":{\"callback\":null,\"renderers\":[{\"id\":\"84258\"}],\"tags\":[\"hv_created\"],\"tooltips\":[[\"Days\",\"@{Days}\"],[\"BMI (score)\",\"@{BMI_left_parenthesis_score_right_parenthesis}\"]]},\"id\":\"84221\",\"type\":\"HoverTool\"},{\"attributes\":{\"axis_label\":\"\",\"bounds\":\"auto\",\"formatter\":{\"id\":\"84324\"},\"major_label_orientation\":\"horizontal\",\"ticker\":{\"id\":\"84298\"}},\"id\":\"84297\",\"type\":\"LinearAxis\"},{\"attributes\":{},\"id\":\"84239\",\"type\":\"SaveTool\"},{\"attributes\":{\"active_drag\":\"auto\",\"active_inspect\":\"auto\",\"active_multi\":null,\"active_scroll\":\"auto\",\"active_tap\":\"auto\",\"tools\":[{\"id\":\"84283\"},{\"id\":\"84301\"},{\"id\":\"84302\"},{\"id\":\"84303\"},{\"id\":\"84304\"},{\"id\":\"84305\"}]},\"id\":\"84307\",\"type\":\"Toolbar\"},{\"attributes\":{\"axis\":{\"id\":\"84173\"},\"dimension\":1,\"grid_line_color\":null,\"ticker\":null},\"id\":\"84176\",\"type\":\"Grid\"},{\"attributes\":{},\"id\":\"84253\",\"type\":\"Selection\"},{\"attributes\":{},\"id\":\"84301\",\"type\":\"SaveTool\"},{\"attributes\":{},\"id\":\"84356\",\"type\":\"BasicTicker\"},{\"attributes\":{},\"id\":\"84360\",\"type\":\"BasicTicker\"},{\"attributes\":{\"bottom_units\":\"screen\",\"fill_alpha\":0.5,\"fill_color\":\"lightgrey\",\"left_units\":\"screen\",\"level\":\"overlay\",\"line_alpha\":1.0,\"line_color\":\"black\",\"line_dash\":[4,4],\"line_width\":2,\"right_units\":\"screen\",\"top_units\":\"screen\"},\"id\":\"84306\",\"type\":\"BoxAnnotation\"},{\"attributes\":{\"end\":34.0,\"reset_end\":34.0,\"reset_start\":0.0,\"tags\":[[[\"Days\",\"Days\",null]]]},\"id\":\"84157\",\"type\":\"Range1d\"},{\"attributes\":{\"line_alpha\":0.1,\"line_color\":\"#1f77b3\",\"line_width\":2,\"x\":{\"field\":\"Days\"},\"y\":{\"field\":\"Bodyfat (%)\"}},\"id\":\"84318\",\"type\":\"Line\"},{\"attributes\":{\"axis\":{\"id\":\"84297\"},\"dimension\":1,\"grid_line_color\":null,\"ticker\":null},\"id\":\"84300\",\"type\":\"Grid\"},{\"attributes\":{\"source\":{\"id\":\"84314\"}},\"id\":\"84321\",\"type\":\"CDSView\"},{\"attributes\":{\"data_source\":{\"id\":\"84252\"},\"glyph\":{\"id\":\"84255\"},\"hover_glyph\":null,\"muted_glyph\":{\"id\":\"84257\"},\"nonselection_glyph\":{\"id\":\"84256\"},\"selection_glyph\":null,\"view\":{\"id\":\"84259\"}},\"id\":\"84258\",\"type\":\"GlyphRenderer\"},{\"attributes\":{},\"id\":\"84322\",\"type\":\"BasicTickFormatter\"},{\"attributes\":{\"data\":{\"Bodyweight (kg)\":{\"__ndarray__\":\"ZmZmZmamU0AAAAAAAIBTQDMzMzMzc1NAMzMzMzNzU0DNzMzMzMxTQGZmZmZmplNAAAAAAACgU0BmZmZmZqZTQM3MzMzMrFNAzczMzMysU0CamZmZmblTQM3MzMzMrFNAZmZmZmamU0AzMzMzM5NTQM3MzMzMrFNAzczMzMxsU0DNzMzMzIxTQDMzMzMzs1NAMzMzMzOTU0DNzMzMzKxTQDMzMzMzs1NAmpmZmZnZU0AAAAAAAMBTQGZmZmZmhlNAzczMzMysU0AAAAAAAKBTQDMzMzMzc1NAZmZmZmaGU0AAAAAAAMBTQDMzMzMzk1NAAAAAAADgU0AAAAAAAKBTQJqZmZmZeVNAmpmZmZlZU0AAAAAAAKBTQA==\",\"dtype\":\"float64\",\"order\":\"little\",\"shape\":[35]},\"Bodyweight_left_parenthesis_kg_right_parenthesis\":{\"__ndarray__\":\"ZmZmZmamU0AAAAAAAIBTQDMzMzMzc1NAMzMzMzNzU0DNzMzMzMxTQGZmZmZmplNAAAAAAACgU0BmZmZmZqZTQM3MzMzMrFNAzczMzMysU0CamZmZmblTQM3MzMzMrFNAZmZmZmamU0AzMzMzM5NTQM3MzMzMrFNAzczMzMxsU0DNzMzMzIxTQDMzMzMzs1NAMzMzMzOTU0DNzMzMzKxTQDMzMzMzs1NAmpmZmZnZU0AAAAAAAMBTQGZmZmZmhlNAzczMzMysU0AAAAAAAKBTQDMzMzMzc1NAZmZmZmaGU0AAAAAAAMBTQDMzMzMzk1NAAAAAAADgU0AAAAAAAKBTQJqZmZmZeVNAmpmZmZlZU0AAAAAAAKBTQA==\",\"dtype\":\"float64\",\"order\":\"little\",\"shape\":[35]},\"Days\":{\"__ndarray__\":\"AAAAAAEAAAACAAAAAwAAAAQAAAAFAAAABgAAAAcAAAAIAAAACQAAAAoAAAALAAAADAAAAA0AAAAOAAAADwAAABAAAAARAAAAEgAAABMAAAAUAAAAFQAAABYAAAAXAAAAGAAAABkAAAAaAAAAGwAAABwAAAAdAAAAHgAAAB8AAAAgAAAAIQAAACIAAAA=\",\"dtype\":\"int32\",\"order\":\"little\",\"shape\":[35]}},\"selected\":{\"id\":\"84191\"},\"selection_policy\":{\"id\":\"84208\"}},\"id\":\"84190\",\"type\":\"ColumnDataSource\"},{\"attributes\":{},\"id\":\"84365\",\"type\":\"WheelZoomTool\"},{\"attributes\":{\"line_color\":\"#1f77b3\",\"line_width\":2,\"x\":{\"field\":\"Days\"},\"y\":{\"field\":\"BMI (score)\"}},\"id\":\"84255\",\"type\":\"Line\"},{\"attributes\":{\"overlay\":{\"id\":\"84368\"}},\"id\":\"84366\",\"type\":\"BoxZoomTool\"},{\"attributes\":{\"child\":{\"id\":\"84160\"},\"name\":\"Weight\",\"title\":\"Weight\"},\"id\":\"84218\",\"type\":\"Panel\"},{\"attributes\":{\"below\":[{\"id\":\"84293\"}],\"center\":[{\"id\":\"84296\"},{\"id\":\"84300\"}],\"left\":[{\"id\":\"84297\"}],\"margin\":[5,5,5,5],\"min_border_bottom\":10,\"min_border_left\":10,\"min_border_right\":10,\"min_border_top\":10,\"plot_height\":300,\"plot_width\":700,\"renderers\":[{\"id\":\"84320\"}],\"sizing_mode\":\"fixed\",\"title\":{\"id\":\"84285\"},\"toolbar\":{\"id\":\"84307\"},\"x_range\":{\"id\":\"84157\"},\"x_scale\":{\"id\":\"84289\"},\"y_range\":{\"id\":\"84282\"},\"y_scale\":{\"id\":\"84291\"}},\"id\":\"84284\",\"subtype\":\"Figure\",\"type\":\"Plot\"},{\"attributes\":{\"axis\":{\"id\":\"84359\"},\"dimension\":1,\"grid_line_color\":null,\"ticker\":null},\"id\":\"84362\",\"type\":\"Grid\"},{\"attributes\":{\"overlay\":{\"id\":\"84306\"}},\"id\":\"84304\",\"type\":\"BoxZoomTool\"},{\"attributes\":{},\"id\":\"84243\",\"type\":\"ResetTool\"},{\"attributes\":{\"end\":79.71,\"reset_end\":79.71,\"reset_start\":77.19000000000001,\"start\":77.19000000000001,\"tags\":[[[\"Bodyweight (kg)\",\"Bodyweight (kg)\",null]]]},\"id\":\"84158\",\"type\":\"Range1d\"},{\"attributes\":{\"axis_label\":\"\",\"bounds\":\"auto\",\"formatter\":{\"id\":\"84262\"},\"major_label_orientation\":\"horizontal\",\"ticker\":{\"id\":\"84236\"}},\"id\":\"84235\",\"type\":\"LinearAxis\"},{\"attributes\":{\"data\":{\"Bodyfat (%)\":{\"__ndarray__\":\"zczMzMxMOUAAAAAAAIA5QJqZmZmZmTlAAAAAAAAAOkAAAAAAAIA6QJqZmZmZGTtAAAAAAACAOkAzMzMzMzM6QDMzMzMzszpAZmZmZmZmOkAAAAAAAAA7QJqZmZmZGTpAmpmZmZmZOUAzMzMzM7M6QGZmZmZm5jlAzczMzMxMO0BmZmZmZuY6QGZmZmZm5jpAZmZmZmbmOkAAAAAAAIA6QAAAAAAAADtAmpmZmZkZO0BmZmZmZmY6QM3MzMzMzDpAMzMzMzMzOkCamZmZmRk6QDMzMzMzszpAZmZmZmZmOkAzMzMzMzM7QGZmZmZm5jpAZmZmZmZmO0CamZmZmZk6QJqZmZmZGTtAMzMzMzMzOkAzMzMzM7M6QA==\",\"dtype\":\"float64\",\"order\":\"little\",\"shape\":[35]},\"Bodyfat_left_parenthesis_percent_right_parenthesis\":{\"__ndarray__\":\"zczMzMxMOUAAAAAAAIA5QJqZmZmZmTlAAAAAAAAAOkAAAAAAAIA6QJqZmZmZGTtAAAAAAACAOkAzMzMzMzM6QDMzMzMzszpAZmZmZmZmOkAAAAAAAAA7QJqZmZmZGTpAmpmZmZmZOUAzMzMzM7M6QGZmZmZm5jlAzczMzMxMO0BmZmZmZuY6QGZmZmZm5jpAZmZmZmbmOkAAAAAAAIA6QAAAAAAAADtAmpmZmZkZO0BmZmZmZmY6QM3MzMzMzDpAMzMzMzMzOkCamZmZmRk6QDMzMzMzszpAZmZmZmZmOkAzMzMzMzM7QGZmZmZm5jpAZmZmZmZmO0CamZmZmZk6QJqZmZmZGTtAMzMzMzMzOkAzMzMzM7M6QA==\",\"dtype\":\"float64\",\"order\":\"little\",\"shape\":[35]},\"Days\":{\"__ndarray__\":\"AAAAAAEAAAACAAAAAwAAAAQAAAAFAAAABgAAAAcAAAAIAAAACQAAAAoAAAALAAAADAAAAA0AAAAOAAAADwAAABAAAAARAAAAEgAAABMAAAAUAAAAFQAAABYAAAAXAAAAGAAAABkAAAAaAAAAGwAAABwAAAAdAAAAHgAAAB8AAAAgAAAAIQAAACIAAAA=\",\"dtype\":\"int32\",\"order\":\"little\",\"shape\":[35]}},\"selected\":{\"id\":\"84315\"},\"selection_policy\":{\"id\":\"84332\"}},\"id\":\"84314\",\"type\":\"ColumnDataSource\"},{\"attributes\":{},\"id\":\"84384\",\"type\":\"BasicTickFormatter\"},{\"attributes\":{},\"id\":\"84324\",\"type\":\"BasicTickFormatter\"},{\"attributes\":{\"callback\":null,\"renderers\":[{\"id\":\"84382\"}],\"tags\":[\"hv_created\"],\"tooltips\":[[\"Days\",\"@{Days}\"],[\"Skeletal muscle (%)\",\"@{Skeletal_muscle_left_parenthesis_percent_right_parenthesis}\"]]},\"id\":\"84345\",\"type\":\"HoverTool\"},{\"attributes\":{\"callback\":null,\"renderers\":[{\"id\":\"84196\"}],\"tags\":[\"hv_created\"],\"tooltips\":[[\"Days\",\"@{Days}\"],[\"Bodyweight (kg)\",\"@{Bodyweight_left_parenthesis_kg_right_parenthesis}\"]]},\"id\":\"84159\",\"type\":\"HoverTool\"},{\"attributes\":{\"child\":{\"id\":\"84346\"},\"name\":\"Muscle\",\"title\":\"Muscle\"},\"id\":\"84404\",\"type\":\"Panel\"},{\"attributes\":{\"end\":36.78,\"reset_end\":36.78,\"reset_start\":34.62,\"start\":34.62,\"tags\":[[[\"Skeletal muscle (%)\",\"Skeletal muscle (%)\",null]]]},\"id\":\"84344\",\"type\":\"Range1d\"},{\"attributes\":{\"below\":[{\"id\":\"84231\"}],\"center\":[{\"id\":\"84234\"},{\"id\":\"84238\"}],\"left\":[{\"id\":\"84235\"}],\"margin\":[5,5,5,5],\"min_border_bottom\":10,\"min_border_left\":10,\"min_border_right\":10,\"min_border_top\":10,\"plot_height\":300,\"plot_width\":700,\"renderers\":[{\"id\":\"84258\"}],\"sizing_mode\":\"fixed\",\"title\":{\"id\":\"84223\"},\"toolbar\":{\"id\":\"84245\"},\"x_range\":{\"id\":\"84157\"},\"x_scale\":{\"id\":\"84227\"},\"y_range\":{\"id\":\"84220\"},\"y_scale\":{\"id\":\"84229\"}},\"id\":\"84222\",\"subtype\":\"Figure\",\"type\":\"Plot\"},{\"attributes\":{},\"id\":\"84298\",\"type\":\"BasicTicker\"},{\"attributes\":{\"child\":{\"id\":\"84222\"},\"name\":\"BMI\",\"title\":\"BMI\"},\"id\":\"84280\",\"type\":\"Panel\"},{\"attributes\":{},\"id\":\"84262\",\"type\":\"BasicTickFormatter\"},{\"attributes\":{},\"id\":\"84191\",\"type\":\"Selection\"},{\"attributes\":{\"line_alpha\":0.1,\"line_color\":\"#1f77b3\",\"line_width\":2,\"x\":{\"field\":\"Days\"},\"y\":{\"field\":\"BMI (score)\"}},\"id\":\"84256\",\"type\":\"Line\"},{\"attributes\":{\"below\":[{\"id\":\"84169\"}],\"center\":[{\"id\":\"84172\"},{\"id\":\"84176\"}],\"left\":[{\"id\":\"84173\"}],\"margin\":[5,5,5,5],\"min_border_bottom\":10,\"min_border_left\":10,\"min_border_right\":10,\"min_border_top\":10,\"plot_height\":300,\"plot_width\":700,\"renderers\":[{\"id\":\"84196\"}],\"sizing_mode\":\"fixed\",\"title\":{\"id\":\"84161\"},\"toolbar\":{\"id\":\"84183\"},\"x_range\":{\"id\":\"84157\"},\"x_scale\":{\"id\":\"84165\"},\"y_range\":{\"id\":\"84158\"},\"y_scale\":{\"id\":\"84167\"}},\"id\":\"84160\",\"subtype\":\"Figure\",\"type\":\"Plot\"},{\"attributes\":{},\"id\":\"84229\",\"type\":\"LinearScale\"},{\"attributes\":{\"active_drag\":\"auto\",\"active_inspect\":\"auto\",\"active_multi\":null,\"active_scroll\":\"auto\",\"active_tap\":\"auto\",\"tools\":[{\"id\":\"84221\"},{\"id\":\"84239\"},{\"id\":\"84240\"},{\"id\":\"84241\"},{\"id\":\"84242\"},{\"id\":\"84243\"}]},\"id\":\"84245\",\"type\":\"Toolbar\"},{\"attributes\":{},\"id\":\"84240\",\"type\":\"PanTool\"},{\"attributes\":{\"text\":\"Bodyweight (kg)\",\"text_color\":{\"value\":\"black\"},\"text_font_size\":{\"value\":\"12pt\"}},\"id\":\"84161\",\"type\":\"Title\"},{\"attributes\":{\"data_source\":{\"id\":\"84376\"},\"glyph\":{\"id\":\"84379\"},\"hover_glyph\":null,\"muted_glyph\":{\"id\":\"84381\"},\"nonselection_glyph\":{\"id\":\"84380\"},\"selection_glyph\":null,\"view\":{\"id\":\"84383\"}},\"id\":\"84382\",\"type\":\"GlyphRenderer\"},{\"attributes\":{},\"id\":\"84200\",\"type\":\"BasicTickFormatter\"},{\"attributes\":{},\"id\":\"84165\",\"type\":\"LinearScale\"},{\"attributes\":{\"text\":\"Bodyfat (%)\",\"text_color\":{\"value\":\"black\"},\"text_font_size\":{\"value\":\"12pt\"}},\"id\":\"84285\",\"type\":\"Title\"},{\"attributes\":{},\"id\":\"84198\",\"type\":\"BasicTickFormatter\"},{\"attributes\":{},\"id\":\"84241\",\"type\":\"WheelZoomTool\"},{\"attributes\":{},\"id\":\"84167\",\"type\":\"LinearScale\"},{\"attributes\":{},\"id\":\"84260\",\"type\":\"BasicTickFormatter\"},{\"attributes\":{\"active_drag\":\"auto\",\"active_inspect\":\"auto\",\"active_multi\":null,\"active_scroll\":\"auto\",\"active_tap\":\"auto\",\"tools\":[{\"id\":\"84345\"},{\"id\":\"84363\"},{\"id\":\"84364\"},{\"id\":\"84365\"},{\"id\":\"84366\"},{\"id\":\"84367\"}]},\"id\":\"84369\",\"type\":\"Toolbar\"},{\"attributes\":{},\"id\":\"84386\",\"type\":\"BasicTickFormatter\"},{\"attributes\":{\"line_alpha\":0.1,\"line_color\":\"#1f77b3\",\"line_width\":2,\"x\":{\"field\":\"Days\"},\"y\":{\"field\":\"Skeletal muscle (%)\"}},\"id\":\"84380\",\"type\":\"Line\"},{\"attributes\":{\"axis\":{\"id\":\"84231\"},\"grid_line_color\":null,\"ticker\":null},\"id\":\"84234\",\"type\":\"Grid\"},{\"attributes\":{\"end\":27.61,\"reset_end\":27.61,\"reset_start\":25.09,\"start\":25.09,\"tags\":[[[\"Bodyfat (%)\",\"Bodyfat (%)\",null]]]},\"id\":\"84282\",\"type\":\"Range1d\"},{\"attributes\":{},\"id\":\"84303\",\"type\":\"WheelZoomTool\"},{\"attributes\":{\"axis_label\":\"Days\",\"bounds\":\"auto\",\"formatter\":{\"id\":\"84198\"},\"major_label_orientation\":\"horizontal\",\"ticker\":{\"id\":\"84170\"}},\"id\":\"84169\",\"type\":\"LinearAxis\"},{\"attributes\":{\"source\":{\"id\":\"84376\"}},\"id\":\"84383\",\"type\":\"CDSView\"},{\"attributes\":{},\"id\":\"84302\",\"type\":\"PanTool\"},{\"attributes\":{},\"id\":\"84270\",\"type\":\"UnionRenderers\"},{\"attributes\":{},\"id\":\"84236\",\"type\":\"BasicTicker\"},{\"attributes\":{\"line_color\":\"#1f77b3\",\"line_width\":2,\"x\":{\"field\":\"Days\"},\"y\":{\"field\":\"Bodyfat (%)\"}},\"id\":\"84317\",\"type\":\"Line\"}],\"root_ids\":[\"84151\",\"84501\"]},\"title\":\"Bokeh Application\",\"version\":\"2.2.3\"}};\n",
       "    var render_items = [{\"docid\":\"6f5cd84e-cd33-4ec0-8308-a14c0eac5c33\",\"root_ids\":[\"84151\"],\"roots\":{\"84151\":\"1ad8a98c-8f34-4f87-8926-2626a9151c17\"}}];\n",
       "    root.Bokeh.embed.embed_items_notebook(docs_json, render_items);\n",
       "  }\n",
       "  if (root.Bokeh !== undefined && root.Bokeh.Panel !== undefined) {\n",
       "    embed_document(root);\n",
       "  } else {\n",
       "    var attempts = 0;\n",
       "    var timer = setInterval(function(root) {\n",
       "      if (root.Bokeh !== undefined && root.Bokeh.Panel !== undefined) {\n",
       "        clearInterval(timer);\n",
       "        embed_document(root);\n",
       "      } else if (document.readyState == \"complete\") {\n",
       "        attempts++;\n",
       "        if (attempts > 100) {\n",
       "          clearInterval(timer);\n",
       "          console.log(\"Bokeh: ERROR: Unable to run BokehJS code because BokehJS library is missing\");\n",
       "        }\n",
       "      }\n",
       "    }, 10, root)\n",
       "  }\n",
       "})(window);</script>"
      ],
      "text/plain": [
       "Column\n",
       "    [0] Column\n",
       "        [0] RadioButtonGroup(options=['A', 'B', 'C', 'D', 'E'], value='A')\n",
       "        [1] RadioButtonGroup(options=['Line', 'Boxplot', ...], value='Line')\n",
       "    [1] Row\n",
       "        [0] Tabs\n",
       "            [0] HoloViews(Curve, name='Weight')\n",
       "            [1] HoloViews(Curve, name='BMI')\n",
       "            [2] HoloViews(Curve, name='Bodyfat')\n",
       "            [3] HoloViews(Curve, name='Muscle')"
      ]
     },
     "execution_count": 38,
     "metadata": {
      "application/vnd.holoviews_exec.v0+json": {
       "id": "84151"
      }
     },
     "output_type": "execute_result"
    }
   ],
   "source": [
    "import panel as pn\n",
    "import hvplot.pandas\n",
    "from panel.interact import interact\n",
    "\n",
    "xs = [0.1* i for i in range(30)]\n",
    "\n",
    "pn.extension()\n",
    "\n",
    "subs = ['A', 'B', 'C', 'D', 'E']\n",
    "graf = ['Line', 'Boxplot', 'Violin']\n",
    "var = pn.widgets.ToggleGroup(options=subs, behavior='radio')\n",
    "var2 = pn.widgets.ToggleGroup(options=graf, behavior='radio')\n",
    "\n",
    "@pn.depends(var, var2)\n",
    "def tabs(sub, graph):\n",
    "    dft = df[df['Subject'] == sub]\n",
    "    if graph == 'Line':\n",
    "        return pn.Tabs(\n",
    "            ('Weight' , dft['Bodyweight (kg)'].hvplot(x= 'Days')),\n",
    "            ('BMI', dft['BMI (score)'].hvplot(x= 'Days')),\n",
    "            ('Bodyfat', dft['Bodyfat (%)'].hvplot(x= 'Days')),\n",
    "            ('Muscle', dft['Skeletal muscle (%)'].hvplot(x= 'Days')))\n",
    "    elif graph == 'Boxplot':\n",
    "        return pn.Tabs(\n",
    "            ('Weight' , dft.hvplot.box(y='Bodyweight (kg)', by='vegan')),\n",
    "            ('BMI', dft.hvplot.box(y='BMI (score)', by='vegan')),\n",
    "            ('Bodyfat', dft.hvplot.box(y='Bodyfat (%)', by='vegan')),\n",
    "            ('Muscle', dft.hvplot.box(y='Skeletal muscle (%)', by='vegan')))\n",
    "    elif graph == 'Violin':\n",
    "        return pn.Tabs(\n",
    "            ('Weight' , dft.hvplot.violin(y='Bodyweight (kg)', by='vegan' ,padding=0.9)),\n",
    "            ('BMI', dft.hvplot.violin(y='BMI (score)', by='vegan' ,padding=0.9)),\n",
    "            ('Bodyfat', dft.hvplot.violin(y='Bodyfat (%)', by='vegan' ,padding=0.9)),\n",
    "            ('Muscle', dft.hvplot.violin(y='Skeletal muscle (%)', by='vegan' ,padding=0.9)))\n",
    "\n",
    "interact(tabs, sub=var, graph=var2)"
   ]
  },
  {
   "cell_type": "markdown",
   "metadata": {},
   "source": [
    "I know x value are not shown correctly, i will fix it. i just learned to work with widgets. "
   ]
  },
  {
   "cell_type": "code",
   "execution_count": null,
   "metadata": {},
   "outputs": [],
   "source": []
  }
 ],
 "metadata": {
  "kernelspec": {
   "display_name": "Python 3",
   "language": "python",
   "name": "python3"
  },
  "language_info": {
   "codemirror_mode": {
    "name": "ipython",
    "version": 3
   },
   "file_extension": ".py",
   "mimetype": "text/x-python",
   "name": "python",
   "nbconvert_exporter": "python",
   "pygments_lexer": "ipython3",
   "version": "3.7.3"
  }
 },
 "nbformat": 4,
 "nbformat_minor": 2
}
