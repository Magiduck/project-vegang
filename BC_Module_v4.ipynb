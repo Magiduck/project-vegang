{
 "cells": [
  {
   "cell_type": "markdown",
   "metadata": {},
   "source": [
    "## Importing libraries and installing xlrd for reading xlsx files"
   ]
  },
  {
   "cell_type": "code",
   "execution_count": 10,
   "metadata": {},
   "outputs": [],
   "source": [
    "import numpy as np\n",
    "import pandas as pd\n",
    "import os"
   ]
  },
  {
   "cell_type": "code",
   "execution_count": 1,
   "metadata": {},
   "outputs": [],
   "source": [
    "#aa"
   ]
  },
  {
   "cell_type": "markdown",
   "metadata": {},
   "source": [
    "## Reading xlsx files and joining them together\n",
    "#### Please download all excel files and put in same directory as your current notebook"
   ]
  },
  {
   "cell_type": "code",
   "execution_count": 11,
   "metadata": {},
   "outputs": [
    {
     "data": {
      "text/plain": [
       "(186, 11)"
      ]
     },
     "execution_count": 11,
     "metadata": {},
     "output_type": "execute_result"
    }
   ],
   "source": [
    "path = os.getcwd()\n",
    "filename = '\\\\body_composition_measurements_subject_'\n",
    "subjects = ['A', 'B', 'C', 'D', 'E']\n",
    "\n",
    "df = pd.DataFrame()\n",
    "for subject in subjects:\n",
    "    dftemp = pd.read_excel('{}{}{}.xlsx'.format(path, filename, subject))\n",
    "    df = df.append(dftemp, ignore_index=True)\n",
    "\n",
    "df.shape"
   ]
  },
  {
   "cell_type": "code",
   "execution_count": 12,
   "metadata": {},
   "outputs": [
    {
     "data": {
      "text/html": [
       "<div>\n",
       "<style scoped>\n",
       "    .dataframe tbody tr th:only-of-type {\n",
       "        vertical-align: middle;\n",
       "    }\n",
       "\n",
       "    .dataframe tbody tr th {\n",
       "        vertical-align: top;\n",
       "    }\n",
       "\n",
       "    .dataframe thead th {\n",
       "        text-align: right;\n",
       "    }\n",
       "</style>\n",
       "<table border=\"1\" class=\"dataframe\">\n",
       "  <thead>\n",
       "    <tr style=\"text-align: right;\">\n",
       "      <th></th>\n",
       "      <th>Subject</th>\n",
       "      <th>Date (yy-mm-dd)</th>\n",
       "      <th>Height (cm)</th>\n",
       "      <th>Bodyweight (kg)</th>\n",
       "      <th>BMI (score)</th>\n",
       "      <th>BMI classification (-/0/+/++)</th>\n",
       "      <th>Bodyfat (%)</th>\n",
       "      <th>Skeletal muscle (%)</th>\n",
       "      <th>Resting metabolism (kcal)</th>\n",
       "      <th>Visceral fat (level)</th>\n",
       "      <th>Visceral fat classification (-/0/+/++)</th>\n",
       "    </tr>\n",
       "  </thead>\n",
       "  <tbody>\n",
       "    <tr>\n",
       "      <th>0</th>\n",
       "      <td>A</td>\n",
       "      <td>2020-10-17</td>\n",
       "      <td>180</td>\n",
       "      <td>78.6</td>\n",
       "      <td>24.3</td>\n",
       "      <td>0</td>\n",
       "      <td>25.3</td>\n",
       "      <td>36.6</td>\n",
       "      <td>1750</td>\n",
       "      <td>7.0</td>\n",
       "      <td>0</td>\n",
       "    </tr>\n",
       "    <tr>\n",
       "      <th>1</th>\n",
       "      <td>A</td>\n",
       "      <td>2020-10-18</td>\n",
       "      <td>180</td>\n",
       "      <td>78.0</td>\n",
       "      <td>24.1</td>\n",
       "      <td>0</td>\n",
       "      <td>25.5</td>\n",
       "      <td>36.3</td>\n",
       "      <td>1738</td>\n",
       "      <td>6.0</td>\n",
       "      <td>0</td>\n",
       "    </tr>\n",
       "    <tr>\n",
       "      <th>2</th>\n",
       "      <td>A</td>\n",
       "      <td>2020-10-19</td>\n",
       "      <td>180</td>\n",
       "      <td>77.8</td>\n",
       "      <td>24.0</td>\n",
       "      <td>0</td>\n",
       "      <td>25.6</td>\n",
       "      <td>36.2</td>\n",
       "      <td>1734</td>\n",
       "      <td>6.0</td>\n",
       "      <td>0</td>\n",
       "    </tr>\n",
       "    <tr>\n",
       "      <th>3</th>\n",
       "      <td>A</td>\n",
       "      <td>2020-10-20</td>\n",
       "      <td>180</td>\n",
       "      <td>77.8</td>\n",
       "      <td>24.0</td>\n",
       "      <td>0</td>\n",
       "      <td>26.0</td>\n",
       "      <td>35.9</td>\n",
       "      <td>1732</td>\n",
       "      <td>7.0</td>\n",
       "      <td>0</td>\n",
       "    </tr>\n",
       "    <tr>\n",
       "      <th>4</th>\n",
       "      <td>A</td>\n",
       "      <td>2020-10-21</td>\n",
       "      <td>180</td>\n",
       "      <td>79.2</td>\n",
       "      <td>24.4</td>\n",
       "      <td>0</td>\n",
       "      <td>26.5</td>\n",
       "      <td>35.7</td>\n",
       "      <td>1753</td>\n",
       "      <td>7.0</td>\n",
       "      <td>0</td>\n",
       "    </tr>\n",
       "  </tbody>\n",
       "</table>\n",
       "</div>"
      ],
      "text/plain": [
       "  Subject Date (yy-mm-dd)  Height (cm)  Bodyweight (kg)  BMI (score)  \\\n",
       "0       A      2020-10-17          180             78.6         24.3   \n",
       "1       A      2020-10-18          180             78.0         24.1   \n",
       "2       A      2020-10-19          180             77.8         24.0   \n",
       "3       A      2020-10-20          180             77.8         24.0   \n",
       "4       A      2020-10-21          180             79.2         24.4   \n",
       "\n",
       "  BMI classification (-/0/+/++)  Bodyfat (%)  Skeletal muscle (%)  \\\n",
       "0                             0         25.3                 36.6   \n",
       "1                             0         25.5                 36.3   \n",
       "2                             0         25.6                 36.2   \n",
       "3                             0         26.0                 35.9   \n",
       "4                             0         26.5                 35.7   \n",
       "\n",
       "   Resting metabolism (kcal)  Visceral fat (level)  \\\n",
       "0                       1750                   7.0   \n",
       "1                       1738                   6.0   \n",
       "2                       1734                   6.0   \n",
       "3                       1732                   7.0   \n",
       "4                       1753                   7.0   \n",
       "\n",
       "  Visceral fat classification (-/0/+/++)  \n",
       "0                                      0  \n",
       "1                                      0  \n",
       "2                                      0  \n",
       "3                                      0  \n",
       "4                                      0  "
      ]
     },
     "execution_count": 12,
     "metadata": {},
     "output_type": "execute_result"
    }
   ],
   "source": [
    "df.head()"
   ]
  },
  {
   "cell_type": "code",
   "execution_count": 13,
   "metadata": {},
   "outputs": [
    {
     "data": {
      "text/plain": [
       "Index(['Subject', 'Date (yy-mm-dd)', 'Height (cm)', 'Bodyweight (kg)',\n",
       "       'BMI (score)', 'BMI classification (-/0/+/++)', 'Bodyfat (%)',\n",
       "       'Skeletal muscle (%)', 'Resting metabolism (kcal)',\n",
       "       'Visceral fat (level)', 'Visceral fat classification (-/0/+/++)'],\n",
       "      dtype='object')"
      ]
     },
     "execution_count": 13,
     "metadata": {},
     "output_type": "execute_result"
    }
   ],
   "source": [
    "df.columns"
   ]
  },
  {
   "cell_type": "code",
   "execution_count": 14,
   "metadata": {},
   "outputs": [
    {
     "data": {
      "application/vnd.holoviews_exec.v0+json": "",
      "text/html": [
       "<div id='10626'>\n",
       "\n",
       "\n",
       "\n",
       "\n",
       "\n",
       "  <div class=\"bk-root\" id=\"11d3bce0-66e8-4a9b-8e0d-ebf7521e5719\" data-root-id=\"10626\"></div>\n",
       "</div>\n",
       "<script type=\"application/javascript\">(function(root) {\n",
       "  function embed_document(root) {\n",
       "    var docs_json = {\"cb2d20de-ee58-4436-bcf4-7b25cb0803d7\":{\"roots\":{\"references\":[{\"attributes\":{\"end\":79.71,\"reset_end\":79.71,\"reset_start\":77.19000000000001,\"start\":77.19000000000001,\"tags\":[[[\"Bodyweight (kg)\",\"Bodyweight (kg)\",null]]]},\"id\":\"10632\",\"type\":\"Range1d\"},{\"attributes\":{\"bottom_units\":\"screen\",\"fill_alpha\":0.5,\"fill_color\":\"lightgrey\",\"left_units\":\"screen\",\"level\":\"overlay\",\"line_alpha\":1.0,\"line_color\":\"black\",\"line_dash\":[4,4],\"line_width\":2,\"right_units\":\"screen\",\"top_units\":\"screen\"},\"id\":\"10718\",\"type\":\"BoxAnnotation\"},{\"attributes\":{\"data\":{\"Skeletal muscle (%)\":{\"__ndarray__\":\"zczMzMxMQkBmZmZmZiZCQJqZmZmZGUJAMzMzMzPzQUCamZmZmdlBQJqZmZmZmUFAmpmZmZnZQUAzMzMzM/NBQM3MzMzMzEFAZmZmZmbmQUBmZmZmZqZBQAAAAAAAAEJAMzMzMzMzQkAzMzMzM7NBQM3MzMzMDEJAZmZmZmZmQUCamZmZmZlBQDMzMzMzs0FAZmZmZmamQUCamZmZmdlBQGZmZmZmpkFAmpmZmZmZQUBmZmZmZuZBQGZmZmZmpkFAMzMzMzPzQUAzMzMzM/NBQGZmZmZmpkFAmpmZmZnZQUCamZmZmZlBQGZmZmZmpkFAzczMzMyMQUAAAAAAAMBBQAAAAAAAgEFAzczMzMzMQUAAAAAAAMBBQA==\",\"dtype\":\"float64\",\"order\":\"little\",\"shape\":[35]},\"Skeletal_muscle_left_parenthesis_percent_right_parenthesis\":{\"__ndarray__\":\"zczMzMxMQkBmZmZmZiZCQJqZmZmZGUJAMzMzMzPzQUCamZmZmdlBQJqZmZmZmUFAmpmZmZnZQUAzMzMzM/NBQM3MzMzMzEFAZmZmZmbmQUBmZmZmZqZBQAAAAAAAAEJAMzMzMzMzQkAzMzMzM7NBQM3MzMzMDEJAZmZmZmZmQUCamZmZmZlBQDMzMzMzs0FAZmZmZmamQUCamZmZmdlBQGZmZmZmpkFAmpmZmZmZQUBmZmZmZuZBQGZmZmZmpkFAMzMzMzPzQUAzMzMzM/NBQGZmZmZmpkFAmpmZmZnZQUCamZmZmZlBQGZmZmZmpkFAzczMzMyMQUAAAAAAAMBBQAAAAAAAgEFAzczMzMzMQUAAAAAAAMBBQA==\",\"dtype\":\"float64\",\"order\":\"little\",\"shape\":[35]},\"index\":[0,1,2,3,4,5,6,7,8,9,10,11,12,13,14,15,16,17,18,19,20,21,22,23,24,25,26,27,28,29,30,31,32,33,34]},\"selected\":{\"id\":\"10851\"},\"selection_policy\":{\"id\":\"10868\"}},\"id\":\"10850\",\"type\":\"ColumnDataSource\"},{\"attributes\":{\"active_drag\":\"auto\",\"active_inspect\":\"auto\",\"active_multi\":null,\"active_scroll\":\"auto\",\"active_tap\":\"auto\",\"tools\":[{\"id\":\"10695\"},{\"id\":\"10713\"},{\"id\":\"10714\"},{\"id\":\"10715\"},{\"id\":\"10716\"},{\"id\":\"10717\"}]},\"id\":\"10719\",\"type\":\"Toolbar\"},{\"attributes\":{\"line_alpha\":0.1,\"line_color\":\"#1f77b3\",\"line_width\":2,\"x\":{\"field\":\"index\"},\"y\":{\"field\":\"Bodyfat (%)\"}},\"id\":\"10792\",\"type\":\"Line\"},{\"attributes\":{},\"id\":\"10851\",\"type\":\"Selection\"},{\"attributes\":{\"line_alpha\":0.1,\"line_color\":\"#1f77b3\",\"line_width\":2,\"x\":{\"field\":\"index\"},\"y\":{\"field\":\"BMI (score)\"}},\"id\":\"10730\",\"type\":\"Line\"},{\"attributes\":{},\"id\":\"10744\",\"type\":\"UnionRenderers\"},{\"attributes\":{\"end\":34.0,\"reset_end\":34.0,\"reset_start\":0.0,\"tags\":[[[\"index\",\"index\",null]]]},\"id\":\"10631\",\"type\":\"Range1d\"},{\"attributes\":{\"line_color\":\"#1f77b3\",\"line_width\":2,\"x\":{\"field\":\"index\"},\"y\":{\"field\":\"BMI (score)\"}},\"id\":\"10729\",\"type\":\"Line\"},{\"attributes\":{},\"id\":\"10834\",\"type\":\"BasicTicker\"},{\"attributes\":{\"line_color\":\"#1f77b3\",\"line_width\":2,\"x\":{\"field\":\"index\"},\"y\":{\"field\":\"Bodyfat (%)\"}},\"id\":\"10791\",\"type\":\"Line\"},{\"attributes\":{\"data_source\":{\"id\":\"10726\"},\"glyph\":{\"id\":\"10729\"},\"hover_glyph\":null,\"muted_glyph\":{\"id\":\"10731\"},\"nonselection_glyph\":{\"id\":\"10730\"},\"selection_glyph\":null,\"view\":{\"id\":\"10733\"}},\"id\":\"10732\",\"type\":\"GlyphRenderer\"},{\"attributes\":{\"end\":36.78,\"reset_end\":36.78,\"reset_start\":34.62,\"start\":34.62,\"tags\":[[[\"Skeletal muscle (%)\",\"Skeletal muscle (%)\",null]]]},\"id\":\"10818\",\"type\":\"Range1d\"},{\"attributes\":{\"callback\":null,\"renderers\":[{\"id\":\"10670\"}],\"tags\":[\"hv_created\"],\"tooltips\":[[\"index\",\"@{index}\"],[\"Bodyweight (kg)\",\"@{Bodyweight_left_parenthesis_kg_right_parenthesis}\"]]},\"id\":\"10633\",\"type\":\"HoverTool\"},{\"attributes\":{\"source\":{\"id\":\"10726\"}},\"id\":\"10733\",\"type\":\"CDSView\"},{\"attributes\":{\"child\":{\"id\":\"10758\"},\"name\":\"Bodyfat\",\"title\":\"Bodyfat\"},\"id\":\"10816\",\"type\":\"Panel\"},{\"attributes\":{\"axis\":{\"id\":\"10829\"},\"grid_line_color\":null,\"ticker\":null},\"id\":\"10832\",\"type\":\"Grid\"},{\"attributes\":{\"data\":{\"Bodyweight (kg)\":{\"__ndarray__\":\"ZmZmZmamU0AAAAAAAIBTQDMzMzMzc1NAMzMzMzNzU0DNzMzMzMxTQGZmZmZmplNAAAAAAACgU0BmZmZmZqZTQM3MzMzMrFNAzczMzMysU0CamZmZmblTQM3MzMzMrFNAZmZmZmamU0AzMzMzM5NTQM3MzMzMrFNAzczMzMxsU0DNzMzMzIxTQDMzMzMzs1NAMzMzMzOTU0DNzMzMzKxTQDMzMzMzs1NAmpmZmZnZU0AAAAAAAMBTQGZmZmZmhlNAzczMzMysU0AAAAAAAKBTQDMzMzMzc1NAZmZmZmaGU0AAAAAAAMBTQDMzMzMzk1NAAAAAAADgU0AAAAAAAKBTQJqZmZmZeVNAmpmZmZlZU0AAAAAAAKBTQA==\",\"dtype\":\"float64\",\"order\":\"little\",\"shape\":[35]},\"Bodyweight_left_parenthesis_kg_right_parenthesis\":{\"__ndarray__\":\"ZmZmZmamU0AAAAAAAIBTQDMzMzMzc1NAMzMzMzNzU0DNzMzMzMxTQGZmZmZmplNAAAAAAACgU0BmZmZmZqZTQM3MzMzMrFNAzczMzMysU0CamZmZmblTQM3MzMzMrFNAZmZmZmamU0AzMzMzM5NTQM3MzMzMrFNAzczMzMxsU0DNzMzMzIxTQDMzMzMzs1NAMzMzMzOTU0DNzMzMzKxTQDMzMzMzs1NAmpmZmZnZU0AAAAAAAMBTQGZmZmZmhlNAzczMzMysU0AAAAAAAKBTQDMzMzMzc1NAZmZmZmaGU0AAAAAAAMBTQDMzMzMzk1NAAAAAAADgU0AAAAAAAKBTQJqZmZmZeVNAmpmZmZlZU0AAAAAAAKBTQA==\",\"dtype\":\"float64\",\"order\":\"little\",\"shape\":[35]},\"index\":[0,1,2,3,4,5,6,7,8,9,10,11,12,13,14,15,16,17,18,19,20,21,22,23,24,25,26,27,28,29,30,31,32,33,34]},\"selected\":{\"id\":\"10665\"},\"selection_policy\":{\"id\":\"10682\"}},\"id\":\"10664\",\"type\":\"ColumnDataSource\"},{\"attributes\":{},\"id\":\"10672\",\"type\":\"BasicTickFormatter\"},{\"attributes\":{\"line_alpha\":0.2,\"line_color\":\"#1f77b3\",\"line_width\":2,\"x\":{\"field\":\"index\"},\"y\":{\"field\":\"BMI (score)\"}},\"id\":\"10731\",\"type\":\"Line\"},{\"attributes\":{},\"id\":\"10806\",\"type\":\"UnionRenderers\"},{\"attributes\":{\"below\":[{\"id\":\"10643\"}],\"center\":[{\"id\":\"10646\"},{\"id\":\"10650\"}],\"left\":[{\"id\":\"10647\"}],\"margin\":[5,5,5,5],\"min_border_bottom\":10,\"min_border_left\":10,\"min_border_right\":10,\"min_border_top\":10,\"plot_height\":300,\"plot_width\":700,\"renderers\":[{\"id\":\"10670\"}],\"sizing_mode\":\"fixed\",\"title\":{\"id\":\"10635\"},\"toolbar\":{\"id\":\"10657\"},\"x_range\":{\"id\":\"10631\"},\"x_scale\":{\"id\":\"10639\"},\"y_range\":{\"id\":\"10632\"},\"y_scale\":{\"id\":\"10641\"}},\"id\":\"10634\",\"subtype\":\"Figure\",\"type\":\"Plot\"},{\"attributes\":{\"text\":\"Bodyweight (kg)\",\"text_color\":{\"value\":\"black\"},\"text_font_size\":{\"value\":\"12pt\"}},\"id\":\"10635\",\"type\":\"Title\"},{\"attributes\":{\"data_source\":{\"id\":\"10788\"},\"glyph\":{\"id\":\"10791\"},\"hover_glyph\":null,\"muted_glyph\":{\"id\":\"10793\"},\"nonselection_glyph\":{\"id\":\"10792\"},\"selection_glyph\":null,\"view\":{\"id\":\"10795\"}},\"id\":\"10794\",\"type\":\"GlyphRenderer\"},{\"attributes\":{\"axis\":{\"id\":\"10833\"},\"dimension\":1,\"grid_line_color\":null,\"ticker\":null},\"id\":\"10836\",\"type\":\"Grid\"},{\"attributes\":{},\"id\":\"10736\",\"type\":\"BasicTickFormatter\"},{\"attributes\":{},\"id\":\"10639\",\"type\":\"LinearScale\"},{\"attributes\":{\"axis_label\":\"\",\"bounds\":\"auto\",\"formatter\":{\"id\":\"10796\"},\"major_label_orientation\":\"horizontal\",\"ticker\":{\"id\":\"10768\"}},\"id\":\"10767\",\"type\":\"LinearAxis\"},{\"attributes\":{},\"id\":\"10641\",\"type\":\"LinearScale\"},{\"attributes\":{},\"id\":\"10768\",\"type\":\"BasicTicker\"},{\"attributes\":{\"axis_label\":\"\",\"bounds\":\"auto\",\"formatter\":{\"id\":\"10672\"},\"major_label_orientation\":\"horizontal\",\"ticker\":{\"id\":\"10644\"}},\"id\":\"10643\",\"type\":\"LinearAxis\"},{\"attributes\":{},\"id\":\"10798\",\"type\":\"BasicTickFormatter\"},{\"attributes\":{},\"id\":\"10838\",\"type\":\"PanTool\"},{\"attributes\":{},\"id\":\"10837\",\"type\":\"SaveTool\"},{\"attributes\":{},\"id\":\"10644\",\"type\":\"BasicTicker\"},{\"attributes\":{},\"id\":\"10839\",\"type\":\"WheelZoomTool\"},{\"attributes\":{\"client_comm_id\":\"535295ea54d54c41b5eaf0e9f2798d77\",\"comm_id\":\"ba544c33890f46629a7f75184d683544\",\"plot_id\":\"10626\"},\"id\":\"10975\",\"type\":\"panel.models.comm_manager.CommManager\"},{\"attributes\":{\"axis\":{\"id\":\"10643\"},\"grid_line_color\":null,\"ticker\":null},\"id\":\"10646\",\"type\":\"Grid\"},{\"attributes\":{\"active_drag\":\"auto\",\"active_inspect\":\"auto\",\"active_multi\":null,\"active_scroll\":\"auto\",\"active_tap\":\"auto\",\"tools\":[{\"id\":\"10757\"},{\"id\":\"10775\"},{\"id\":\"10776\"},{\"id\":\"10777\"},{\"id\":\"10778\"},{\"id\":\"10779\"}]},\"id\":\"10781\",\"type\":\"Toolbar\"},{\"attributes\":{\"axis_label\":\"\",\"bounds\":\"auto\",\"formatter\":{\"id\":\"10858\"},\"major_label_orientation\":\"horizontal\",\"ticker\":{\"id\":\"10830\"}},\"id\":\"10829\",\"type\":\"LinearAxis\"},{\"attributes\":{\"overlay\":{\"id\":\"10842\"}},\"id\":\"10840\",\"type\":\"BoxZoomTool\"},{\"attributes\":{\"axis_label\":\"\",\"bounds\":\"auto\",\"formatter\":{\"id\":\"10674\"},\"major_label_orientation\":\"horizontal\",\"ticker\":{\"id\":\"10648\"}},\"id\":\"10647\",\"type\":\"LinearAxis\"},{\"attributes\":{\"children\":[{\"id\":\"10628\"}],\"margin\":[0,0,0,0],\"name\":\"Column15459\"},\"id\":\"10627\",\"type\":\"Column\"},{\"attributes\":{},\"id\":\"10841\",\"type\":\"ResetTool\"},{\"attributes\":{\"end\":24.56,\"reset_end\":24.56,\"reset_start\":23.84,\"start\":23.84,\"tags\":[[[\"BMI (score)\",\"BMI (score)\",null]]]},\"id\":\"10694\",\"type\":\"Range1d\"},{\"attributes\":{},\"id\":\"10827\",\"type\":\"LinearScale\"},{\"attributes\":{},\"id\":\"10648\",\"type\":\"BasicTicker\"},{\"attributes\":{\"axis\":{\"id\":\"10647\"},\"dimension\":1,\"grid_line_color\":null,\"ticker\":null},\"id\":\"10650\",\"type\":\"Grid\"},{\"attributes\":{\"source\":{\"id\":\"10788\"}},\"id\":\"10795\",\"type\":\"CDSView\"},{\"attributes\":{\"callback\":null,\"renderers\":[{\"id\":\"10732\"}],\"tags\":[\"hv_created\"],\"tooltips\":[[\"index\",\"@{index}\"],[\"BMI (score)\",\"@{BMI_left_parenthesis_score_right_parenthesis}\"]]},\"id\":\"10695\",\"type\":\"HoverTool\"},{\"attributes\":{\"active_drag\":\"auto\",\"active_inspect\":\"auto\",\"active_multi\":null,\"active_scroll\":\"auto\",\"active_tap\":\"auto\",\"tools\":[{\"id\":\"10819\"},{\"id\":\"10837\"},{\"id\":\"10838\"},{\"id\":\"10839\"},{\"id\":\"10840\"},{\"id\":\"10841\"}]},\"id\":\"10843\",\"type\":\"Toolbar\"},{\"attributes\":{\"line_alpha\":0.2,\"line_color\":\"#1f77b3\",\"line_width\":2,\"x\":{\"field\":\"index\"},\"y\":{\"field\":\"Bodyfat (%)\"}},\"id\":\"10793\",\"type\":\"Line\"},{\"attributes\":{\"bottom_units\":\"screen\",\"fill_alpha\":0.5,\"fill_color\":\"lightgrey\",\"left_units\":\"screen\",\"level\":\"overlay\",\"line_alpha\":1.0,\"line_color\":\"black\",\"line_dash\":[4,4],\"line_width\":2,\"right_units\":\"screen\",\"top_units\":\"screen\"},\"id\":\"10842\",\"type\":\"BoxAnnotation\"},{\"attributes\":{\"data\":{\"BMI (score)\":{\"__ndarray__\":\"zczMzMxMOECamZmZmRk4QAAAAAAAADhAAAAAAAAAOEBmZmZmZmY4QM3MzMzMTDhAMzMzMzMzOEDNzMzMzEw4QM3MzMzMTDhAzczMzMxMOEBmZmZmZmY4QM3MzMzMTDhAzczMzMxMOEAzMzMzMzM4QM3MzMzMTDhAAAAAAAAAOECamZmZmRk4QM3MzMzMTDhAMzMzMzMzOEDNzMzMzEw4QM3MzMzMTDhAAAAAAACAOEBmZmZmZmY4QJqZmZmZGThAzczMzMxMOEAzMzMzMzM4QAAAAAAAADhAmpmZmZkZOEBmZmZmZmY4QDMzMzMzMzhAAAAAAACAOEAzMzMzMzM4QAAAAAAAADhAZmZmZmbmN0AzMzMzMzM4QA==\",\"dtype\":\"float64\",\"order\":\"little\",\"shape\":[35]},\"BMI_left_parenthesis_score_right_parenthesis\":{\"__ndarray__\":\"zczMzMxMOECamZmZmRk4QAAAAAAAADhAAAAAAAAAOEBmZmZmZmY4QM3MzMzMTDhAMzMzMzMzOEDNzMzMzEw4QM3MzMzMTDhAzczMzMxMOEBmZmZmZmY4QM3MzMzMTDhAzczMzMxMOEAzMzMzMzM4QM3MzMzMTDhAAAAAAAAAOECamZmZmRk4QM3MzMzMTDhAMzMzMzMzOEDNzMzMzEw4QM3MzMzMTDhAAAAAAACAOEBmZmZmZmY4QJqZmZmZGThAzczMzMxMOEAzMzMzMzM4QAAAAAAAADhAmpmZmZkZOEBmZmZmZmY4QDMzMzMzMzhAAAAAAACAOEAzMzMzMzM4QAAAAAAAADhAZmZmZmbmN0AzMzMzMzM4QA==\",\"dtype\":\"float64\",\"order\":\"little\",\"shape\":[35]},\"index\":[0,1,2,3,4,5,6,7,8,9,10,11,12,13,14,15,16,17,18,19,20,21,22,23,24,25,26,27,28,29,30,31,32,33,34]},\"selected\":{\"id\":\"10727\"},\"selection_policy\":{\"id\":\"10744\"}},\"id\":\"10726\",\"type\":\"ColumnDataSource\"},{\"attributes\":{},\"id\":\"10665\",\"type\":\"Selection\"},{\"attributes\":{},\"id\":\"10734\",\"type\":\"BasicTickFormatter\"},{\"attributes\":{\"children\":[{\"id\":\"10630\"}],\"margin\":[0,0,0,0],\"name\":\"Row15458\"},\"id\":\"10629\",\"type\":\"Row\"},{\"attributes\":{\"axis_label\":\"\",\"bounds\":\"auto\",\"formatter\":{\"id\":\"10798\"},\"major_label_orientation\":\"horizontal\",\"ticker\":{\"id\":\"10772\"}},\"id\":\"10771\",\"type\":\"LinearAxis\"},{\"attributes\":{\"active\":0,\"labels\":[\"A\",\"B\",\"C\",\"D\",\"E\"],\"margin\":[5,10,5,10]},\"id\":\"10628\",\"type\":\"RadioButtonGroup\"},{\"attributes\":{\"below\":[{\"id\":\"10705\"}],\"center\":[{\"id\":\"10708\"},{\"id\":\"10712\"}],\"left\":[{\"id\":\"10709\"}],\"margin\":[5,5,5,5],\"min_border_bottom\":10,\"min_border_left\":10,\"min_border_right\":10,\"min_border_top\":10,\"plot_height\":300,\"plot_width\":700,\"renderers\":[{\"id\":\"10732\"}],\"sizing_mode\":\"fixed\",\"title\":{\"id\":\"10697\"},\"toolbar\":{\"id\":\"10719\"},\"x_range\":{\"id\":\"10631\"},\"x_scale\":{\"id\":\"10701\"},\"y_range\":{\"id\":\"10694\"},\"y_scale\":{\"id\":\"10703\"}},\"id\":\"10696\",\"subtype\":\"Figure\",\"type\":\"Plot\"},{\"attributes\":{\"axis_label\":\"\",\"bounds\":\"auto\",\"formatter\":{\"id\":\"10860\"},\"major_label_orientation\":\"horizontal\",\"ticker\":{\"id\":\"10834\"}},\"id\":\"10833\",\"type\":\"LinearAxis\"},{\"attributes\":{},\"id\":\"10651\",\"type\":\"SaveTool\"},{\"attributes\":{\"text\":\"BMI (score)\",\"text_color\":{\"value\":\"black\"},\"text_font_size\":{\"value\":\"12pt\"}},\"id\":\"10697\",\"type\":\"Title\"},{\"attributes\":{\"line_alpha\":0.1,\"line_color\":\"#1f77b3\",\"line_width\":2,\"x\":{\"field\":\"index\"},\"y\":{\"field\":\"Skeletal muscle (%)\"}},\"id\":\"10854\",\"type\":\"Line\"},{\"attributes\":{\"line_color\":\"#1f77b3\",\"line_width\":2,\"x\":{\"field\":\"index\"},\"y\":{\"field\":\"Skeletal muscle (%)\"}},\"id\":\"10853\",\"type\":\"Line\"},{\"attributes\":{},\"id\":\"10777\",\"type\":\"WheelZoomTool\"},{\"attributes\":{},\"id\":\"10825\",\"type\":\"LinearScale\"},{\"attributes\":{},\"id\":\"10652\",\"type\":\"PanTool\"},{\"attributes\":{\"margin\":[0,0,0,0],\"tabs\":[{\"id\":\"10692\"},{\"id\":\"10754\"},{\"id\":\"10816\"},{\"id\":\"10878\"}]},\"id\":\"10630\",\"type\":\"Tabs\"},{\"attributes\":{},\"id\":\"10701\",\"type\":\"LinearScale\"},{\"attributes\":{\"data_source\":{\"id\":\"10850\"},\"glyph\":{\"id\":\"10853\"},\"hover_glyph\":null,\"muted_glyph\":{\"id\":\"10855\"},\"nonselection_glyph\":{\"id\":\"10854\"},\"selection_glyph\":null,\"view\":{\"id\":\"10857\"}},\"id\":\"10856\",\"type\":\"GlyphRenderer\"},{\"attributes\":{},\"id\":\"10703\",\"type\":\"LinearScale\"},{\"attributes\":{\"overlay\":{\"id\":\"10780\"}},\"id\":\"10778\",\"type\":\"BoxZoomTool\"},{\"attributes\":{\"children\":[{\"id\":\"10627\"},{\"id\":\"10629\"}],\"margin\":[0,0,0,0],\"name\":\"Column15140\"},\"id\":\"10626\",\"type\":\"Column\"},{\"attributes\":{},\"id\":\"10653\",\"type\":\"WheelZoomTool\"},{\"attributes\":{},\"id\":\"10779\",\"type\":\"ResetTool\"},{\"attributes\":{\"source\":{\"id\":\"10850\"}},\"id\":\"10857\",\"type\":\"CDSView\"},{\"attributes\":{\"overlay\":{\"id\":\"10656\"}},\"id\":\"10654\",\"type\":\"BoxZoomTool\"},{\"attributes\":{\"bottom_units\":\"screen\",\"fill_alpha\":0.5,\"fill_color\":\"lightgrey\",\"left_units\":\"screen\",\"level\":\"overlay\",\"line_alpha\":1.0,\"line_color\":\"black\",\"line_dash\":[4,4],\"line_width\":2,\"right_units\":\"screen\",\"top_units\":\"screen\"},\"id\":\"10780\",\"type\":\"BoxAnnotation\"},{\"attributes\":{\"axis_label\":\"\",\"bounds\":\"auto\",\"formatter\":{\"id\":\"10734\"},\"major_label_orientation\":\"horizontal\",\"ticker\":{\"id\":\"10706\"}},\"id\":\"10705\",\"type\":\"LinearAxis\"},{\"attributes\":{},\"id\":\"10655\",\"type\":\"ResetTool\"},{\"attributes\":{\"line_alpha\":0.2,\"line_color\":\"#1f77b3\",\"line_width\":2,\"x\":{\"field\":\"index\"},\"y\":{\"field\":\"Skeletal muscle (%)\"}},\"id\":\"10855\",\"type\":\"Line\"},{\"attributes\":{},\"id\":\"10706\",\"type\":\"BasicTicker\"},{\"attributes\":{\"below\":[{\"id\":\"10829\"}],\"center\":[{\"id\":\"10832\"},{\"id\":\"10836\"}],\"left\":[{\"id\":\"10833\"}],\"margin\":[5,5,5,5],\"min_border_bottom\":10,\"min_border_left\":10,\"min_border_right\":10,\"min_border_top\":10,\"plot_height\":300,\"plot_width\":700,\"renderers\":[{\"id\":\"10856\"}],\"sizing_mode\":\"fixed\",\"title\":{\"id\":\"10821\"},\"toolbar\":{\"id\":\"10843\"},\"x_range\":{\"id\":\"10631\"},\"x_scale\":{\"id\":\"10825\"},\"y_range\":{\"id\":\"10818\"},\"y_scale\":{\"id\":\"10827\"}},\"id\":\"10820\",\"subtype\":\"Figure\",\"type\":\"Plot\"},{\"attributes\":{},\"id\":\"10830\",\"type\":\"BasicTicker\"},{\"attributes\":{},\"id\":\"10789\",\"type\":\"Selection\"},{\"attributes\":{},\"id\":\"10860\",\"type\":\"BasicTickFormatter\"},{\"attributes\":{},\"id\":\"10858\",\"type\":\"BasicTickFormatter\"},{\"attributes\":{\"axis\":{\"id\":\"10705\"},\"grid_line_color\":null,\"ticker\":null},\"id\":\"10708\",\"type\":\"Grid\"},{\"attributes\":{\"child\":{\"id\":\"10820\"},\"name\":\"Muscle\",\"title\":\"Muscle\"},\"id\":\"10878\",\"type\":\"Panel\"},{\"attributes\":{\"active_drag\":\"auto\",\"active_inspect\":\"auto\",\"active_multi\":null,\"active_scroll\":\"auto\",\"active_tap\":\"auto\",\"tools\":[{\"id\":\"10633\"},{\"id\":\"10651\"},{\"id\":\"10652\"},{\"id\":\"10653\"},{\"id\":\"10654\"},{\"id\":\"10655\"}]},\"id\":\"10657\",\"type\":\"Toolbar\"},{\"attributes\":{\"axis_label\":\"\",\"bounds\":\"auto\",\"formatter\":{\"id\":\"10736\"},\"major_label_orientation\":\"horizontal\",\"ticker\":{\"id\":\"10710\"}},\"id\":\"10709\",\"type\":\"LinearAxis\"},{\"attributes\":{\"bottom_units\":\"screen\",\"fill_alpha\":0.5,\"fill_color\":\"lightgrey\",\"left_units\":\"screen\",\"level\":\"overlay\",\"line_alpha\":1.0,\"line_color\":\"black\",\"line_dash\":[4,4],\"line_width\":2,\"right_units\":\"screen\",\"top_units\":\"screen\"},\"id\":\"10656\",\"type\":\"BoxAnnotation\"},{\"attributes\":{},\"id\":\"10868\",\"type\":\"UnionRenderers\"},{\"attributes\":{},\"id\":\"10710\",\"type\":\"BasicTicker\"},{\"attributes\":{\"text\":\"Skeletal muscle (%)\",\"text_color\":{\"value\":\"black\"},\"text_font_size\":{\"value\":\"12pt\"}},\"id\":\"10821\",\"type\":\"Title\"},{\"attributes\":{},\"id\":\"10765\",\"type\":\"LinearScale\"},{\"attributes\":{\"axis\":{\"id\":\"10709\"},\"dimension\":1,\"grid_line_color\":null,\"ticker\":null},\"id\":\"10712\",\"type\":\"Grid\"},{\"attributes\":{\"axis\":{\"id\":\"10771\"},\"dimension\":1,\"grid_line_color\":null,\"ticker\":null},\"id\":\"10774\",\"type\":\"Grid\"},{\"attributes\":{\"line_alpha\":0.1,\"line_color\":\"#1f77b3\",\"line_width\":2,\"x\":{\"field\":\"index\"},\"y\":{\"field\":\"Bodyweight (kg)\"}},\"id\":\"10668\",\"type\":\"Line\"},{\"attributes\":{\"line_color\":\"#1f77b3\",\"line_width\":2,\"x\":{\"field\":\"index\"},\"y\":{\"field\":\"Bodyweight (kg)\"}},\"id\":\"10667\",\"type\":\"Line\"},{\"attributes\":{},\"id\":\"10776\",\"type\":\"PanTool\"},{\"attributes\":{},\"id\":\"10727\",\"type\":\"Selection\"},{\"attributes\":{\"data_source\":{\"id\":\"10664\"},\"glyph\":{\"id\":\"10667\"},\"hover_glyph\":null,\"muted_glyph\":{\"id\":\"10669\"},\"nonselection_glyph\":{\"id\":\"10668\"},\"selection_glyph\":null,\"view\":{\"id\":\"10671\"}},\"id\":\"10670\",\"type\":\"GlyphRenderer\"},{\"attributes\":{},\"id\":\"10772\",\"type\":\"BasicTicker\"},{\"attributes\":{\"source\":{\"id\":\"10664\"}},\"id\":\"10671\",\"type\":\"CDSView\"},{\"attributes\":{\"data\":{\"Bodyfat (%)\":{\"__ndarray__\":\"zczMzMxMOUAAAAAAAIA5QJqZmZmZmTlAAAAAAAAAOkAAAAAAAIA6QJqZmZmZGTtAAAAAAACAOkAzMzMzMzM6QDMzMzMzszpAZmZmZmZmOkAAAAAAAAA7QJqZmZmZGTpAmpmZmZmZOUAzMzMzM7M6QGZmZmZm5jlAzczMzMxMO0BmZmZmZuY6QGZmZmZm5jpAZmZmZmbmOkAAAAAAAIA6QAAAAAAAADtAmpmZmZkZO0BmZmZmZmY6QM3MzMzMzDpAMzMzMzMzOkCamZmZmRk6QDMzMzMzszpAZmZmZmZmOkAzMzMzMzM7QGZmZmZm5jpAZmZmZmZmO0CamZmZmZk6QJqZmZmZGTtAMzMzMzMzOkAzMzMzM7M6QA==\",\"dtype\":\"float64\",\"order\":\"little\",\"shape\":[35]},\"Bodyfat_left_parenthesis_percent_right_parenthesis\":{\"__ndarray__\":\"zczMzMxMOUAAAAAAAIA5QJqZmZmZmTlAAAAAAAAAOkAAAAAAAIA6QJqZmZmZGTtAAAAAAACAOkAzMzMzMzM6QDMzMzMzszpAZmZmZmZmOkAAAAAAAAA7QJqZmZmZGTpAmpmZmZmZOUAzMzMzM7M6QGZmZmZm5jlAzczMzMxMO0BmZmZmZuY6QGZmZmZm5jpAZmZmZmbmOkAAAAAAAIA6QAAAAAAAADtAmpmZmZkZO0BmZmZmZmY6QM3MzMzMzDpAMzMzMzMzOkCamZmZmRk6QDMzMzMzszpAZmZmZmZmOkAzMzMzMzM7QGZmZmZm5jpAZmZmZmZmO0CamZmZmZk6QJqZmZmZGTtAMzMzMzMzOkAzMzMzM7M6QA==\",\"dtype\":\"float64\",\"order\":\"little\",\"shape\":[35]},\"index\":[0,1,2,3,4,5,6,7,8,9,10,11,12,13,14,15,16,17,18,19,20,21,22,23,24,25,26,27,28,29,30,31,32,33,34]},\"selected\":{\"id\":\"10789\"},\"selection_policy\":{\"id\":\"10806\"}},\"id\":\"10788\",\"type\":\"ColumnDataSource\"},{\"attributes\":{\"end\":27.61,\"reset_end\":27.61,\"reset_start\":25.09,\"start\":25.09,\"tags\":[[[\"Bodyfat (%)\",\"Bodyfat (%)\",null]]]},\"id\":\"10756\",\"type\":\"Range1d\"},{\"attributes\":{},\"id\":\"10713\",\"type\":\"SaveTool\"},{\"attributes\":{},\"id\":\"10775\",\"type\":\"SaveTool\"},{\"attributes\":{\"callback\":null,\"renderers\":[{\"id\":\"10856\"}],\"tags\":[\"hv_created\"],\"tooltips\":[[\"index\",\"@{index}\"],[\"Skeletal muscle (%)\",\"@{Skeletal_muscle_left_parenthesis_percent_right_parenthesis}\"]]},\"id\":\"10819\",\"type\":\"HoverTool\"},{\"attributes\":{},\"id\":\"10714\",\"type\":\"PanTool\"},{\"attributes\":{\"line_alpha\":0.2,\"line_color\":\"#1f77b3\",\"line_width\":2,\"x\":{\"field\":\"index\"},\"y\":{\"field\":\"Bodyweight (kg)\"}},\"id\":\"10669\",\"type\":\"Line\"},{\"attributes\":{\"callback\":null,\"renderers\":[{\"id\":\"10794\"}],\"tags\":[\"hv_created\"],\"tooltips\":[[\"index\",\"@{index}\"],[\"Bodyfat (%)\",\"@{Bodyfat_left_parenthesis_percent_right_parenthesis}\"]]},\"id\":\"10757\",\"type\":\"HoverTool\"},{\"attributes\":{},\"id\":\"10715\",\"type\":\"WheelZoomTool\"},{\"attributes\":{},\"id\":\"10674\",\"type\":\"BasicTickFormatter\"},{\"attributes\":{},\"id\":\"10796\",\"type\":\"BasicTickFormatter\"},{\"attributes\":{\"overlay\":{\"id\":\"10718\"}},\"id\":\"10716\",\"type\":\"BoxZoomTool\"},{\"attributes\":{\"below\":[{\"id\":\"10767\"}],\"center\":[{\"id\":\"10770\"},{\"id\":\"10774\"}],\"left\":[{\"id\":\"10771\"}],\"margin\":[5,5,5,5],\"min_border_bottom\":10,\"min_border_left\":10,\"min_border_right\":10,\"min_border_top\":10,\"plot_height\":300,\"plot_width\":700,\"renderers\":[{\"id\":\"10794\"}],\"sizing_mode\":\"fixed\",\"title\":{\"id\":\"10759\"},\"toolbar\":{\"id\":\"10781\"},\"x_range\":{\"id\":\"10631\"},\"x_scale\":{\"id\":\"10763\"},\"y_range\":{\"id\":\"10756\"},\"y_scale\":{\"id\":\"10765\"}},\"id\":\"10758\",\"subtype\":\"Figure\",\"type\":\"Plot\"},{\"attributes\":{},\"id\":\"10717\",\"type\":\"ResetTool\"},{\"attributes\":{\"text\":\"Bodyfat (%)\",\"text_color\":{\"value\":\"black\"},\"text_font_size\":{\"value\":\"12pt\"}},\"id\":\"10759\",\"type\":\"Title\"},{\"attributes\":{},\"id\":\"10682\",\"type\":\"UnionRenderers\"},{\"attributes\":{\"child\":{\"id\":\"10696\"},\"name\":\"BMI\",\"title\":\"BMI\"},\"id\":\"10754\",\"type\":\"Panel\"},{\"attributes\":{\"child\":{\"id\":\"10634\"},\"name\":\"Weight\",\"title\":\"Weight\"},\"id\":\"10692\",\"type\":\"Panel\"},{\"attributes\":{},\"id\":\"10763\",\"type\":\"LinearScale\"},{\"attributes\":{\"axis\":{\"id\":\"10767\"},\"grid_line_color\":null,\"ticker\":null},\"id\":\"10770\",\"type\":\"Grid\"}],\"root_ids\":[\"10626\",\"10975\"]},\"title\":\"Bokeh Application\",\"version\":\"2.2.3\"}};\n",
       "    var render_items = [{\"docid\":\"cb2d20de-ee58-4436-bcf4-7b25cb0803d7\",\"root_ids\":[\"10626\"],\"roots\":{\"10626\":\"11d3bce0-66e8-4a9b-8e0d-ebf7521e5719\"}}];\n",
       "    root.Bokeh.embed.embed_items_notebook(docs_json, render_items);\n",
       "  }\n",
       "  if (root.Bokeh !== undefined && root.Bokeh.Panel !== undefined) {\n",
       "    embed_document(root);\n",
       "  } else {\n",
       "    var attempts = 0;\n",
       "    var timer = setInterval(function(root) {\n",
       "      if (root.Bokeh !== undefined && root.Bokeh.Panel !== undefined) {\n",
       "        clearInterval(timer);\n",
       "        embed_document(root);\n",
       "      } else if (document.readyState == \"complete\") {\n",
       "        attempts++;\n",
       "        if (attempts > 100) {\n",
       "          clearInterval(timer);\n",
       "          console.log(\"Bokeh: ERROR: Unable to run BokehJS code because BokehJS library is missing\");\n",
       "        }\n",
       "      }\n",
       "    }, 10, root)\n",
       "  }\n",
       "})(window);</script>"
      ],
      "text/plain": [
       "Column\n",
       "    [0] Column\n",
       "        [0] RadioButtonGroup(options=['A', 'B', 'C', 'D', 'E'], value='A')\n",
       "    [1] Row\n",
       "        [0] Tabs\n",
       "            [0] HoloViews(Curve, name='Weight')\n",
       "            [1] HoloViews(Curve, name='BMI')\n",
       "            [2] HoloViews(Curve, name='Bodyfat')\n",
       "            [3] HoloViews(Curve, name='Muscle')"
      ]
     },
     "execution_count": 14,
     "metadata": {
      "application/vnd.holoviews_exec.v0+json": {
       "id": "10626"
      }
     },
     "output_type": "execute_result"
    }
   ],
   "source": [
    "import panel as pn\n",
    "import hvplot.pandas\n",
    "from panel.interact import interact\n",
    "\n",
    "pn.extension()\n",
    "\n",
    "subs = ['A', 'B', 'C', 'D', 'E']\n",
    "var = pn.widgets.ToggleGroup(options=subs, behavior='radio')\n",
    "\n",
    "@pn.depends(var)\n",
    "def tabs(sub):\n",
    "    dft = df[df['Subject'] == sub]\n",
    "    return pn.Tabs(\n",
    "        ('Weight', dft['Bodyweight (kg)'].hvplot()), ('BMI', dft['BMI (score)'].hvplot()),\n",
    "        ('Bodyfat', dft['Bodyfat (%)'].hvplot()), ('Muscle', dft['Skeletal muscle (%)'].hvplot()))\n",
    "\n",
    "interact(tabs, sub=variable)"
   ]
  },
  {
   "cell_type": "markdown",
   "metadata": {},
   "source": [
    "I know x value are not shown correctly, i will fix it. i just learned to work with widgets. "
   ]
  },
  {
   "cell_type": "code",
   "execution_count": null,
   "metadata": {},
   "outputs": [],
   "source": []
  }
 ],
 "metadata": {
  "kernelspec": {
   "display_name": "Python 3",
   "language": "python",
   "name": "python3"
  },
  "language_info": {
   "codemirror_mode": {
    "name": "ipython",
    "version": 3
   },
   "file_extension": ".py",
   "mimetype": "text/x-python",
   "name": "python",
   "nbconvert_exporter": "python",
   "pygments_lexer": "ipython3",
   "version": "3.7.3"
  }
 },
 "nbformat": 4,
 "nbformat_minor": 2
}
