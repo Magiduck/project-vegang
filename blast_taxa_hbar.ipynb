{
 "cells": [
  {
   "cell_type": "code",
   "execution_count": 13,
   "metadata": {},
   "outputs": [],
   "source": [
    "import yaml\n",
    "import pandas as pd\n",
    "from bokeh.io import output_notebook\n",
    "from bokeh.io import show, output_file\n",
    "from bokeh.models import ColumnDataSource, Whisker\n",
    "from bokeh.plotting import figure\n",
    "from bokeh.transform import dodge\n",
    "from bokeh.layouts import gridplot\n",
    "from bokeh.models.widgets import Panel, Tabs"
   ]
  },
  {
   "cell_type": "code",
   "execution_count": 14,
   "metadata": {},
   "outputs": [],
   "source": [
    "def get_config():\n",
    "    with open(\"config.yaml\", 'r') as con:\n",
    "        config = yaml.safe_load(con)\n",
    "    return config\n",
    "\n",
    "config = get_config()"
   ]
  },
  {
   "cell_type": "code",
   "execution_count": 15,
   "metadata": {},
   "outputs": [],
   "source": [
    "def blast_horizontal_barplot(subject,taxa_counts):\n",
    "    \"\"\" Author: Andre de la Rambelje\n",
    "    Creates horizontal barplot of specified subject on every taxonomic level.\n",
    "    Keyword arguments\n",
    "    subject -- An string containing an ID\n",
    "    taxa_counts -- Pandas dataframe containing counts of scientific names on each taxomomic level of all subjects.\n",
    "    \"\"\"\n",
    "    taxa = [\"superkingdom\", \"kingdom\", \"phylum\", \"class\", \"order\",\"family\",'genus',\"species\"]\n",
    "    tabs = []\n",
    "    #select specified subject\n",
    "    taxa_counts = taxa_counts.loc[subject]\n",
    "    for tax in taxa:\n",
    "        #selects taxonomic level\n",
    "        mold = taxa_counts.index.get_level_values(\"taxa\")==tax\n",
    "        subject_taxa = taxa_counts[mold].set_index([\"Scientific Name\"])\n",
    "        #Reverse top to bottom\n",
    "        subject_taxa = subject_taxa.iloc[10::-1]\n",
    "        #Creating columndatasource\n",
    "        source = ColumnDataSource(data=subject_taxa[[\"Vegan\",\"Control\"]])\n",
    "        scientific_names = source.data[\"Scientific Name\"]\n",
    "        # Make figure\n",
    "        p = figure(y_range=scientific_names,x_range=(0,subject_taxa.values.max()+5) ,plot_height=700, title=f\"Subject {subject} abundance {tax}\", \n",
    "                   x_axis_label=f\"{tax} abundance in %\")\n",
    "        #Adding horizontal bars\n",
    "        p.hbar(right='Control', y=dodge('Scientific Name',0.11,\n",
    "            range=p.y_range), height=0.2,color=\"#abdfff\" ,source=source, width=0.3,line_color=\"#75cbff\", legend_label=\"Control Diet\")\n",
    "\n",
    "        p.hbar(right='Vegan', y=dodge('Scientific Name',-0.11, \n",
    "            range=p.y_range), height=0.2,color=\"#ceffc4\" ,source=source, width=0.3,line_color=\"#8dff75\", legend_label=\"Vegan Diet\")\n",
    "        #Adding legend location\n",
    "        p.legend.location = \"bottom_right\"\n",
    "        tab = (Panel(child=p, title=tax))\n",
    "        tabs.append(tab)\n",
    "    tabs=Tabs(tabs=tabs)\n",
    "    #Writing output to html\n",
    "    #output_file(f\"taxa_subject_{subject}.html\")\n",
    "    show(tabs)\n",
    "    return tabs"
   ]
  },
  {
   "cell_type": "code",
   "execution_count": 16,
   "metadata": {},
   "outputs": [
    {
     "ename": "NameError",
     "evalue": "name 'PATH' is not defined",
     "output_type": "error",
     "traceback": [
      "\u001b[0;31m---------------------------------------------------------------------------\u001b[0m",
      "\u001b[0;31mNameError\u001b[0m                                 Traceback (most recent call last)",
      "\u001b[0;32m<ipython-input-16-d4e6fa0b5554>\u001b[0m in \u001b[0;36m<module>\u001b[0;34m\u001b[0m\n\u001b[1;32m     10\u001b[0m     \u001b[0;32mfor\u001b[0m \u001b[0msubject\u001b[0m \u001b[0;32min\u001b[0m \u001b[0msubjects\u001b[0m\u001b[0;34m:\u001b[0m\u001b[0;34m\u001b[0m\u001b[0;34m\u001b[0m\u001b[0m\n\u001b[1;32m     11\u001b[0m         \u001b[0mblast_horizontal_barplot\u001b[0m\u001b[0;34m(\u001b[0m\u001b[0msubject\u001b[0m\u001b[0;34m,\u001b[0m\u001b[0mtaxa_counts\u001b[0m\u001b[0;34m)\u001b[0m\u001b[0;34m\u001b[0m\u001b[0;34m\u001b[0m\u001b[0m\n\u001b[0;32m---> 12\u001b[0;31m \u001b[0mcreate_blast_plots\u001b[0m\u001b[0;34m(\u001b[0m\u001b[0;34m)\u001b[0m\u001b[0;34m\u001b[0m\u001b[0;34m\u001b[0m\u001b[0m\n\u001b[0m",
      "\u001b[0;32m<ipython-input-16-d4e6fa0b5554>\u001b[0m in \u001b[0;36mcreate_blast_plots\u001b[0;34m()\u001b[0m\n\u001b[1;32m      4\u001b[0m     \"\"\"\n\u001b[1;32m      5\u001b[0m     \u001b[0;31m#Reading in taxonomic count file\u001b[0m\u001b[0;34m\u001b[0m\u001b[0;34m\u001b[0m\u001b[0;34m\u001b[0m\u001b[0m\n\u001b[0;32m----> 6\u001b[0;31m     \u001b[0mtaxa_counts\u001b[0m \u001b[0;34m=\u001b[0m \u001b[0mpd\u001b[0m\u001b[0;34m.\u001b[0m\u001b[0mread_csv\u001b[0m\u001b[0;34m(\u001b[0m\u001b[0mconfig\u001b[0m\u001b[0;34m[\u001b[0m\u001b[0mPATH\u001b[0m\u001b[0;34m]\u001b[0m\u001b[0;34m,\u001b[0m \u001b[0msep\u001b[0m\u001b[0;34m=\u001b[0m\u001b[0;34m\"\\t\"\u001b[0m\u001b[0;34m)\u001b[0m\u001b[0;34m.\u001b[0m\u001b[0mset_index\u001b[0m\u001b[0;34m(\u001b[0m\u001b[0;34m[\u001b[0m\u001b[0;34m\"subject\"\u001b[0m\u001b[0;34m,\u001b[0m \u001b[0;34m\"taxa\"\u001b[0m\u001b[0;34m]\u001b[0m\u001b[0;34m)\u001b[0m\u001b[0;34m\u001b[0m\u001b[0;34m\u001b[0m\u001b[0m\n\u001b[0m\u001b[1;32m      7\u001b[0m     \u001b[0;31m#Convert to percentage\u001b[0m\u001b[0;34m\u001b[0m\u001b[0;34m\u001b[0m\u001b[0;34m\u001b[0m\u001b[0m\n\u001b[1;32m      8\u001b[0m     \u001b[0mtaxa_counts\u001b[0m\u001b[0;34m[\u001b[0m\u001b[0;34m[\u001b[0m\u001b[0;34m\"Control\"\u001b[0m\u001b[0;34m,\u001b[0m\u001b[0;34m\"Vegan\"\u001b[0m\u001b[0;34m]\u001b[0m\u001b[0;34m]\u001b[0m \u001b[0;34m=\u001b[0m \u001b[0mtaxa_counts\u001b[0m\u001b[0;34m[\u001b[0m\u001b[0;34m[\u001b[0m\u001b[0;34m\"Control\"\u001b[0m\u001b[0;34m,\u001b[0m\u001b[0;34m\"Vegan\"\u001b[0m\u001b[0;34m]\u001b[0m\u001b[0;34m]\u001b[0m \u001b[0;34m*\u001b[0m \u001b[0;36m100\u001b[0m\u001b[0;34m\u001b[0m\u001b[0;34m\u001b[0m\u001b[0m\n",
      "\u001b[0;31mNameError\u001b[0m: name 'PATH' is not defined"
     ]
    }
   ],
   "source": [
    "def create_blast_plots():\n",
    "    \"\"\"Creates taxonomic barplots for each subject\n",
    "    PATH needs to be adjusted to select the taxonomic counts\n",
    "    \"\"\"\n",
    "    #Reading in taxonomic count file\n",
    "    taxa_counts = pd.read_csv(config[PATH], sep=\"\\t\").set_index([\"subject\", \"taxa\"])\n",
    "    #Convert to percentage\n",
    "    taxa_counts[[\"Control\",\"Vegan\"]] = taxa_counts[[\"Control\",\"Vegan\"]] * 100\n",
    "    subjects = [\"A\", \"B\", \"C\", \"D\", \"E\"]\n",
    "    for subject in subjects:\n",
    "        blast_horizontal_barplot(subject,taxa_counts)\n",
    "create_blast_plots()"
   ]
  },
  {
   "cell_type": "code",
   "execution_count": null,
   "metadata": {},
   "outputs": [],
   "source": []
  }
 ],
 "metadata": {
  "kernelspec": {
   "display_name": "Python 3",
   "language": "python",
   "name": "python3"
  },
  "language_info": {
   "codemirror_mode": {
    "name": "ipython",
    "version": 3
   },
   "file_extension": ".py",
   "mimetype": "text/x-python",
   "name": "python",
   "nbconvert_exporter": "python",
   "pygments_lexer": "ipython3",
   "version": "3.6.9"
  }
 },
 "nbformat": 4,
 "nbformat_minor": 4
}
