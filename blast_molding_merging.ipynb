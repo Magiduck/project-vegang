{
 "cells": [
  {
   "cell_type": "code",
   "execution_count": 2,
   "metadata": {},
   "outputs": [],
   "source": [
    "from glob import glob\n",
    "import pandas as pd\n",
    "from IPython.display import display\n",
    "from tqdm import tqdm\n",
    "import yaml\n",
    "import os"
   ]
  },
  {
   "cell_type": "code",
   "execution_count": 3,
   "metadata": {},
   "outputs": [],
   "source": [
    "def get_config():\n",
    "    with open(\"config.yaml\", 'r') as con:\n",
    "        config = yaml.safe_load(con)\n",
    "    return config\n",
    "\n",
    "config = get_config()\n",
    "filenames = sorted(glob(os.path.abspath(config[\"complete_blast_output\"])))\n",
    "colnames = [\"Read ID\", \"Scientific Name\", \"Tax ID\", \"e-value\",\"bitscore\", \"length\", \"qcov\" ]\n",
    "blast_files = [pd.read_csv(file, sep = \"\\t\", header=None, names=colnames) for file in filenames]"
   ]
  },
  {
   "cell_type": "code",
   "execution_count": 32,
   "metadata": {},
   "outputs": [
    {
     "name": "stderr",
     "output_type": "stream",
     "text": [
      "5it [00:52, 10.56s/it]\n",
      "5it [00:56, 11.32s/it]\n"
     ]
    }
   ],
   "source": [
    "def merge_blast_files(blast_files, output_file):\n",
    "    '''Merges the input in to one dataframe, with subject labels, \n",
    "an extra column is_vegan which holds a boolean. \n",
    "This function also selects rows with the lowest e-value per read. '''\n",
    "    dfs = []\n",
    "    subjects = [\"A\",\"B\",\"C\",\"D\",\"E\"]\n",
    "\n",
    "    for i, blast_file in tqdm(enumerate(blast_files[:5])):\n",
    "        blast_file[\"Read ID\"] = blast_file[\"Read ID\"].str.strip(\"_read_number\").astype(int)\n",
    "        blast_file = blast_file.loc[blast_file.groupby(\"Read ID\")[\"e-value\"].idxmin()]\n",
    "        blast_file.loc[:,\"subject\"] = subjects[i]\n",
    "        blast_file.loc[:,\"is_vegan\"] = True\n",
    "        dfs.append(blast_file)\n",
    "    for i, blast_file in tqdm(enumerate(blast_files[5:])):\n",
    "        blast_file[\"Read ID\"] = blast_file[\"Read ID\"].str.strip(\"_read_number\").astype(int)\n",
    "        blast_file = blast_file.loc[blast_file.groupby(\"Read ID\")[\"e-value\"].idxmin()]\n",
    "        blast_file.loc[:,\"subject\"] = subjects[i]\n",
    "        blast_file.loc[:,\"is_vegan\"] = False\n",
    "        dfs.append(blast_file)\n",
    "    merged_blast = pd.concat(dfs)\n",
    "    merged_blast = merged_blast.set_index(['subject', \"is_vegan\"])\n",
    "    merged_blast = merged_blast[merged_blast['e-value']<10e-10]\n",
    "    merged_blast.to_csv(output_file, sep=\"\\t\")\n",
    "    \n",
    "    return merged_blast\n",
    "\n",
    "merged_blast = merge_blast_files(blast_files=blast_files, output_file=config[\"molded_merged_blast_output\"])\n"
   ]
  }
 ],
 "metadata": {
  "kernelspec": {
   "display_name": "Python 3",
   "language": "python",
   "name": "python3"
  },
  "language_info": {
   "codemirror_mode": {
    "name": "ipython",
    "version": 3
   },
   "file_extension": ".py",
   "mimetype": "text/x-python",
   "name": "python",
   "nbconvert_exporter": "python",
   "pygments_lexer": "ipython3",
   "version": "3.6.9"
  }
 },
 "nbformat": 4,
 "nbformat_minor": 2
}
