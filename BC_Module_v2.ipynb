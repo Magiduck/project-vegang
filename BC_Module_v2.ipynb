{
 "cells": [
  {
   "cell_type": "markdown",
   "metadata": {},
   "source": [
    "## Importing libraries and installing xlrd for reading xlsx files"
   ]
  },
  {
   "cell_type": "code",
   "execution_count": 12,
   "metadata": {},
   "outputs": [],
   "source": [
    "import numpy as np\n",
    "import pandas as pd\n",
    "import os\n",
    "from bokeh.plotting import figure, show, output_file\n",
    "from bokeh.models import Dropdown\n"
   ]
  },
  {
   "cell_type": "markdown",
   "metadata": {},
   "source": [
    "## Reading xlsx files and joining them together\n",
    "#### Please download all excel files and put in same directory as your current notebook"
   ]
  },
  {
   "cell_type": "code",
   "execution_count": 13,
   "metadata": {},
   "outputs": [
    {
     "data": {
      "text/plain": [
       "(186, 11)"
      ]
     },
     "execution_count": 13,
     "metadata": {},
     "output_type": "execute_result"
    }
   ],
   "source": [
    "path = os.getcwd()\n",
    "filename = '\\\\body_composition_measurements_subject_'\n",
    "subjects = ['A', 'B', 'C', 'D', 'E']\n",
    "\n",
    "df = pd.DataFrame()\n",
    "for subject in subjects:\n",
    "    dftemp = pd.read_excel('{}{}{}.xlsx'.format(path, filename, subject))\n",
    "    df = df.append(dftemp, ignore_index=True)\n",
    "\n",
    "df.shape"
   ]
  },
  {
   "cell_type": "code",
   "execution_count": 14,
   "metadata": {},
   "outputs": [
    {
     "data": {
      "text/html": [
       "<div>\n",
       "<style scoped>\n",
       "    .dataframe tbody tr th:only-of-type {\n",
       "        vertical-align: middle;\n",
       "    }\n",
       "\n",
       "    .dataframe tbody tr th {\n",
       "        vertical-align: top;\n",
       "    }\n",
       "\n",
       "    .dataframe thead th {\n",
       "        text-align: right;\n",
       "    }\n",
       "</style>\n",
       "<table border=\"1\" class=\"dataframe\">\n",
       "  <thead>\n",
       "    <tr style=\"text-align: right;\">\n",
       "      <th></th>\n",
       "      <th>Subject</th>\n",
       "      <th>Date (yy-mm-dd)</th>\n",
       "      <th>Height (cm)</th>\n",
       "      <th>Bodyweight (kg)</th>\n",
       "      <th>BMI (score)</th>\n",
       "      <th>BMI classification (-/0/+/++)</th>\n",
       "      <th>Bodyfat (%)</th>\n",
       "      <th>Skeletal muscle (%)</th>\n",
       "      <th>Resting metabolism (kcal)</th>\n",
       "      <th>Visceral fat (level)</th>\n",
       "      <th>Visceral fat classification (-/0/+/++)</th>\n",
       "    </tr>\n",
       "  </thead>\n",
       "  <tbody>\n",
       "    <tr>\n",
       "      <th>0</th>\n",
       "      <td>A</td>\n",
       "      <td>2020-10-17</td>\n",
       "      <td>180</td>\n",
       "      <td>78.6</td>\n",
       "      <td>24.3</td>\n",
       "      <td>0</td>\n",
       "      <td>25.3</td>\n",
       "      <td>36.6</td>\n",
       "      <td>1750</td>\n",
       "      <td>7.0</td>\n",
       "      <td>0</td>\n",
       "    </tr>\n",
       "    <tr>\n",
       "      <th>1</th>\n",
       "      <td>A</td>\n",
       "      <td>2020-10-18</td>\n",
       "      <td>180</td>\n",
       "      <td>78.0</td>\n",
       "      <td>24.1</td>\n",
       "      <td>0</td>\n",
       "      <td>25.5</td>\n",
       "      <td>36.3</td>\n",
       "      <td>1738</td>\n",
       "      <td>6.0</td>\n",
       "      <td>0</td>\n",
       "    </tr>\n",
       "    <tr>\n",
       "      <th>2</th>\n",
       "      <td>A</td>\n",
       "      <td>2020-10-19</td>\n",
       "      <td>180</td>\n",
       "      <td>77.8</td>\n",
       "      <td>24.0</td>\n",
       "      <td>0</td>\n",
       "      <td>25.6</td>\n",
       "      <td>36.2</td>\n",
       "      <td>1734</td>\n",
       "      <td>6.0</td>\n",
       "      <td>0</td>\n",
       "    </tr>\n",
       "    <tr>\n",
       "      <th>3</th>\n",
       "      <td>A</td>\n",
       "      <td>2020-10-20</td>\n",
       "      <td>180</td>\n",
       "      <td>77.8</td>\n",
       "      <td>24.0</td>\n",
       "      <td>0</td>\n",
       "      <td>26.0</td>\n",
       "      <td>35.9</td>\n",
       "      <td>1732</td>\n",
       "      <td>7.0</td>\n",
       "      <td>0</td>\n",
       "    </tr>\n",
       "    <tr>\n",
       "      <th>4</th>\n",
       "      <td>A</td>\n",
       "      <td>2020-10-21</td>\n",
       "      <td>180</td>\n",
       "      <td>79.2</td>\n",
       "      <td>24.4</td>\n",
       "      <td>0</td>\n",
       "      <td>26.5</td>\n",
       "      <td>35.7</td>\n",
       "      <td>1753</td>\n",
       "      <td>7.0</td>\n",
       "      <td>0</td>\n",
       "    </tr>\n",
       "  </tbody>\n",
       "</table>\n",
       "</div>"
      ],
      "text/plain": [
       "  Subject Date (yy-mm-dd)  Height (cm)  Bodyweight (kg)  BMI (score)  \\\n",
       "0       A      2020-10-17          180             78.6         24.3   \n",
       "1       A      2020-10-18          180             78.0         24.1   \n",
       "2       A      2020-10-19          180             77.8         24.0   \n",
       "3       A      2020-10-20          180             77.8         24.0   \n",
       "4       A      2020-10-21          180             79.2         24.4   \n",
       "\n",
       "  BMI classification (-/0/+/++)  Bodyfat (%)  Skeletal muscle (%)  \\\n",
       "0                             0         25.3                 36.6   \n",
       "1                             0         25.5                 36.3   \n",
       "2                             0         25.6                 36.2   \n",
       "3                             0         26.0                 35.9   \n",
       "4                             0         26.5                 35.7   \n",
       "\n",
       "   Resting metabolism (kcal)  Visceral fat (level)  \\\n",
       "0                       1750                   7.0   \n",
       "1                       1738                   6.0   \n",
       "2                       1734                   6.0   \n",
       "3                       1732                   7.0   \n",
       "4                       1753                   7.0   \n",
       "\n",
       "  Visceral fat classification (-/0/+/++)  \n",
       "0                                      0  \n",
       "1                                      0  \n",
       "2                                      0  \n",
       "3                                      0  \n",
       "4                                      0  "
      ]
     },
     "execution_count": 14,
     "metadata": {},
     "output_type": "execute_result"
    }
   ],
   "source": [
    "df.head()"
   ]
  },
  {
   "cell_type": "code",
   "execution_count": 15,
   "metadata": {},
   "outputs": [
    {
     "data": {
      "text/plain": [
       "Index(['Subject', 'Date (yy-mm-dd)', 'Height (cm)', 'Bodyweight (kg)',\n",
       "       'BMI (score)', 'BMI classification (-/0/+/++)', 'Bodyfat (%)',\n",
       "       'Skeletal muscle (%)', 'Resting metabolism (kcal)',\n",
       "       'Visceral fat (level)', 'Visceral fat classification (-/0/+/++)'],\n",
       "      dtype='object')"
      ]
     },
     "execution_count": 15,
     "metadata": {},
     "output_type": "execute_result"
    }
   ],
   "source": [
    "df.columns"
   ]
  },
  {
   "cell_type": "code",
   "execution_count": 11,
   "metadata": {},
   "outputs": [],
   "source": [
    "menu_widget = [(\"Weights\", \"1\"), (\"BMI\", \"2\"),(\"Body fat (%)\", \"3\"), (\"Skeletal Muscle (%)\", \"4\")]\n",
    "menu_dropdown = Dropdown(label = \"Measurement\", menu = menu_widget)\n",
    "show(menu_dropdown)"
   ]
  },
  {
   "cell_type": "code",
   "execution_count": 10,
   "metadata": {},
   "outputs": [
    {
     "ename": "NameError",
     "evalue": "name 'menu_dropdown' is not defined",
     "output_type": "error",
     "traceback": [
      "\u001b[1;31m---------------------------------------------------------------------------\u001b[0m",
      "\u001b[1;31mNameError\u001b[0m                                 Traceback (most recent call last)",
      "\u001b[1;32m<ipython-input-10-d159ede9b16b>\u001b[0m in \u001b[0;36m<module>\u001b[1;34m\u001b[0m\n\u001b[0;32m      6\u001b[0m \u001b[0mp\u001b[0m\u001b[1;33m.\u001b[0m\u001b[0myaxis\u001b[0m\u001b[1;33m.\u001b[0m\u001b[0maxis_label\u001b[0m \u001b[1;33m=\u001b[0m \u001b[1;34m'KG'\u001b[0m\u001b[1;33m\u001b[0m\u001b[1;33m\u001b[0m\u001b[0m\n\u001b[0;32m      7\u001b[0m \u001b[1;33m\u001b[0m\u001b[0m\n\u001b[1;32m----> 8\u001b[1;33m p.circle(df[\"Date (yy-mm-dd)\"], df[menu_dropdown],\n\u001b[0m\u001b[0;32m      9\u001b[0m          color=colors, fill_alpha=0.2, size=10)\n\u001b[0;32m     10\u001b[0m \u001b[1;33m\u001b[0m\u001b[0m\n",
      "\u001b[1;31mNameError\u001b[0m: name 'menu_dropdown' is not defined"
     ]
    }
   ],
   "source": [
    "colormap = {'A': 'red', 'B': 'green', 'C': 'blue', 'D': 'orange', 'E': 'black'}\n",
    "colors = [colormap[x] for x in df['Subject']]\n",
    "\n",
    "p = figure(title = \"Body Weight of subjects during experiment\")\n",
    "p.xaxis.axis_label = 'Days'\n",
    "p.yaxis.axis_label = 'KG'\n",
    "\n",
    "p.circle(df[\"Date (yy-mm-dd)\"], df[menu_dropdown],\n",
    "         color=colors, fill_alpha=0.2, size=10)\n",
    "\n",
    "output_file(\"Behzad.html\", title=\"Behzad.py example\")\n",
    "\n",
    "show(p)"
   ]
  },
  {
   "cell_type": "code",
   "execution_count": 18,
   "metadata": {},
   "outputs": [],
   "source": []
  },
  {
   "cell_type": "code",
   "execution_count": null,
   "metadata": {},
   "outputs": [],
   "source": []
  }
 ],
 "metadata": {
  "kernelspec": {
   "display_name": "Python 3",
   "language": "python",
   "name": "python3"
  },
  "language_info": {
   "codemirror_mode": {
    "name": "ipython",
    "version": 3
   },
   "file_extension": ".py",
   "mimetype": "text/x-python",
   "name": "python",
   "nbconvert_exporter": "python",
   "pygments_lexer": "ipython3",
   "version": "3.7.3"
  }
 },
 "nbformat": 4,
 "nbformat_minor": 2
}
