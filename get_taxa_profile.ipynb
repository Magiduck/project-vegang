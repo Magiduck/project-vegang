{
 "cells": [
  {
   "cell_type": "code",
   "execution_count": 1,
   "metadata": {},
   "outputs": [],
   "source": [
    "import yaml\n",
    "from glob import glob\n",
    "import pandas as pd\n",
    "from IPython.display import display\n",
    "from tqdm import tqdm\n",
    "import yaml\n",
    "import os\n",
    "from ete3 import NCBITaxa\n",
    "import numpy as np"
   ]
  },
  {
   "cell_type": "code",
   "execution_count": 2,
   "metadata": {},
   "outputs": [
    {
     "data": {
      "text/plain": [
       "790471"
      ]
     },
     "execution_count": 2,
     "metadata": {},
     "output_type": "execute_result"
    }
   ],
   "source": [
    "def get_config():\n",
    "    with open(\"config.yaml\", 'r') as con:\n",
    "        config = yaml.safe_load(con)\n",
    "    return config\n",
    "\n",
    "config = get_config()\n",
    "merged_blast_df = pd.read_csv(config[\"molded_merged_blast_output\"], sep=\"\\t\")\n",
    "merged_blast_df = merged_blast_df.set_index([\"subject\", \"is_vegan\"])\n",
    "len(merged_blast_df[\"Tax ID\"])"
   ]
  },
  {
   "cell_type": "code",
   "execution_count": 3,
   "metadata": {},
   "outputs": [],
   "source": [
    "def get_desired_ranks(taxid):\n",
    "    \"\"\" Author: Andre de la Rambelje\n",
    "    Function that gets all taxa IDs from a species ID.\n",
    "    Keyword arguments\n",
    "    taxid -- a taxID needs to be provided\n",
    "    \"\"\"\n",
    "    ncbi = NCBITaxa()\n",
    "    desired_ranks = ['kingdom', 'phylum', 'class', 'order', 'family', 'genus', 'species']\n",
    "    lineage = ncbi.get_lineage(taxid)\n",
    "    lineage2ranks = ncbi.get_rank(lineage)\n",
    "    ranks2lineage = dict((rank, taxid) for (taxid, rank) in lineage2ranks.items())\n",
    "\n",
    "    return {'{}_id'.format(rank): ranks2lineage.get(rank, 0) for rank in desired_ranks}\n",
    "\n",
    "def make_taxa_df(taxids):\n",
    "    desired_ranks = ['kingdom', 'phylum', 'class', 'order', 'family', 'genus', 'species']\n",
    "    df = pd.DataFrame([])\n",
    "    tree = []\n",
    "    for taxid in taxids:\n",
    "        tree = get_desired_ranks(int(taxid))\n",
    "        df = df.append(tree, ignore_index=True)\n",
    "    order_taxa = ['kingdom_id', 'phylum_id', 'class_id', 'order_id', 'family_id', 'genus_id', 'species_id']\n",
    "    df = df[order_taxa].applymap(np.int64)\n",
    "    \n",
    "    return df"
   ]
  },
  {
   "cell_type": "code",
   "execution_count": 4,
   "metadata": {},
   "outputs": [
    {
     "data": {
      "text/html": [
       "<div>\n",
       "<style scoped>\n",
       "    .dataframe tbody tr th:only-of-type {\n",
       "        vertical-align: middle;\n",
       "    }\n",
       "\n",
       "    .dataframe tbody tr th {\n",
       "        vertical-align: top;\n",
       "    }\n",
       "\n",
       "    .dataframe thead th {\n",
       "        text-align: right;\n",
       "    }\n",
       "</style>\n",
       "<table border=\"1\" class=\"dataframe\">\n",
       "  <thead>\n",
       "    <tr style=\"text-align: right;\">\n",
       "      <th></th>\n",
       "      <th>Read ID</th>\n",
       "      <th>Scientific Name</th>\n",
       "      <th>Tax ID</th>\n",
       "      <th>e-value</th>\n",
       "      <th>bitscore</th>\n",
       "      <th>length</th>\n",
       "      <th>qcov</th>\n",
       "    </tr>\n",
       "    <tr>\n",
       "      <th>is_vegan</th>\n",
       "      <th></th>\n",
       "      <th></th>\n",
       "      <th></th>\n",
       "      <th></th>\n",
       "      <th></th>\n",
       "      <th></th>\n",
       "      <th></th>\n",
       "    </tr>\n",
       "  </thead>\n",
       "  <tbody>\n",
       "    <tr>\n",
       "      <th>True</th>\n",
       "      <td>1</td>\n",
       "      <td>Prevotella copri</td>\n",
       "      <td>165179</td>\n",
       "      <td>6.610000e-157</td>\n",
       "      <td>566.0</td>\n",
       "      <td>449</td>\n",
       "      <td>76</td>\n",
       "    </tr>\n",
       "    <tr>\n",
       "      <th>True</th>\n",
       "      <td>2</td>\n",
       "      <td>Bacteroides uniformis</td>\n",
       "      <td>820</td>\n",
       "      <td>3.620000e-128</td>\n",
       "      <td>470.0</td>\n",
       "      <td>292</td>\n",
       "      <td>72</td>\n",
       "    </tr>\n",
       "    <tr>\n",
       "      <th>True</th>\n",
       "      <td>3</td>\n",
       "      <td>uncultured organism</td>\n",
       "      <td>155900</td>\n",
       "      <td>0.000000e+00</td>\n",
       "      <td>678.0</td>\n",
       "      <td>458</td>\n",
       "      <td>14</td>\n",
       "    </tr>\n",
       "    <tr>\n",
       "      <th>True</th>\n",
       "      <td>4</td>\n",
       "      <td>Alistipes sp. 5CBH24</td>\n",
       "      <td>2585118</td>\n",
       "      <td>0.000000e+00</td>\n",
       "      <td>900.0</td>\n",
       "      <td>716</td>\n",
       "      <td>35</td>\n",
       "    </tr>\n",
       "    <tr>\n",
       "      <th>True</th>\n",
       "      <td>6</td>\n",
       "      <td>Lachnospiraceae bacterium GAM79</td>\n",
       "      <td>2109691</td>\n",
       "      <td>5.710000e-29</td>\n",
       "      <td>139.0</td>\n",
       "      <td>104</td>\n",
       "      <td>47</td>\n",
       "    </tr>\n",
       "    <tr>\n",
       "      <th>...</th>\n",
       "      <td>...</td>\n",
       "      <td>...</td>\n",
       "      <td>...</td>\n",
       "      <td>...</td>\n",
       "      <td>...</td>\n",
       "      <td>...</td>\n",
       "      <td>...</td>\n",
       "    </tr>\n",
       "    <tr>\n",
       "      <th>True</th>\n",
       "      <td>100185</td>\n",
       "      <td>Bacteroides salanitronis DSM 18170</td>\n",
       "      <td>667015</td>\n",
       "      <td>6.920000e-100</td>\n",
       "      <td>375.0</td>\n",
       "      <td>230</td>\n",
       "      <td>65</td>\n",
       "    </tr>\n",
       "    <tr>\n",
       "      <th>True</th>\n",
       "      <td>100186</td>\n",
       "      <td>Callithrix jacchus</td>\n",
       "      <td>9483</td>\n",
       "      <td>3.640000e-13</td>\n",
       "      <td>89.8</td>\n",
       "      <td>48</td>\n",
       "      <td>4</td>\n",
       "    </tr>\n",
       "    <tr>\n",
       "      <th>True</th>\n",
       "      <td>100187</td>\n",
       "      <td>Bacteroides dorei</td>\n",
       "      <td>357276</td>\n",
       "      <td>0.000000e+00</td>\n",
       "      <td>1155.0</td>\n",
       "      <td>741</td>\n",
       "      <td>87</td>\n",
       "    </tr>\n",
       "    <tr>\n",
       "      <th>True</th>\n",
       "      <td>100189</td>\n",
       "      <td>synthetic construct</td>\n",
       "      <td>32630</td>\n",
       "      <td>6.000000e-15</td>\n",
       "      <td>95.3</td>\n",
       "      <td>67</td>\n",
       "      <td>7</td>\n",
       "    </tr>\n",
       "    <tr>\n",
       "      <th>True</th>\n",
       "      <td>100190</td>\n",
       "      <td>Prevotella copri</td>\n",
       "      <td>165179</td>\n",
       "      <td>0.000000e+00</td>\n",
       "      <td>5262.0</td>\n",
       "      <td>3477</td>\n",
       "      <td>97</td>\n",
       "    </tr>\n",
       "  </tbody>\n",
       "</table>\n",
       "<p>84757 rows × 7 columns</p>\n",
       "</div>"
      ],
      "text/plain": [
       "          Read ID                     Scientific Name   Tax ID        e-value  \\\n",
       "is_vegan                                                                        \n",
       "True            1                    Prevotella copri   165179  6.610000e-157   \n",
       "True            2               Bacteroides uniformis      820  3.620000e-128   \n",
       "True            3                 uncultured organism   155900   0.000000e+00   \n",
       "True            4                Alistipes sp. 5CBH24  2585118   0.000000e+00   \n",
       "True            6     Lachnospiraceae bacterium GAM79  2109691   5.710000e-29   \n",
       "...           ...                                 ...      ...            ...   \n",
       "True       100185  Bacteroides salanitronis DSM 18170   667015  6.920000e-100   \n",
       "True       100186                  Callithrix jacchus     9483   3.640000e-13   \n",
       "True       100187                   Bacteroides dorei   357276   0.000000e+00   \n",
       "True       100189                 synthetic construct    32630   6.000000e-15   \n",
       "True       100190                    Prevotella copri   165179   0.000000e+00   \n",
       "\n",
       "          bitscore  length  qcov  \n",
       "is_vegan                          \n",
       "True         566.0     449    76  \n",
       "True         470.0     292    72  \n",
       "True         678.0     458    14  \n",
       "True         900.0     716    35  \n",
       "True         139.0     104    47  \n",
       "...            ...     ...   ...  \n",
       "True         375.0     230    65  \n",
       "True          89.8      48     4  \n",
       "True        1155.0     741    87  \n",
       "True          95.3      67     7  \n",
       "True        5262.0    3477    97  \n",
       "\n",
       "[84757 rows x 7 columns]"
      ]
     },
     "metadata": {},
     "output_type": "display_data"
    }
   ],
   "source": [
    "display(merged_blast_df[merged_blast_df.index.get_level_values(\"is_vegan\")==True].loc[\"A\"])"
   ]
  },
  {
   "cell_type": "code",
   "execution_count": 5,
   "metadata": {},
   "outputs": [
    {
     "name": "stdout",
     "output_type": "stream",
     "text": [
      "A\n"
     ]
    },
    {
     "name": "stderr",
     "output_type": "stream",
     "text": [
      "/home/madelarambelje/.local/lib/python3.6/site-packages/ete3/ncbi_taxonomy/ncbiquery.py:243: UserWarning: taxid 2742130 was translated into 2763006\n",
      "  warnings.warn(\"taxid %s was translated into %s\" %(taxid, merged_conversion[taxid]))\n",
      "/home/madelarambelje/.local/lib/python3.6/site-packages/ete3/ncbi_taxonomy/ncbiquery.py:243: UserWarning: taxid 2664374 was translated into 2789776\n",
      "  warnings.warn(\"taxid %s was translated into %s\" %(taxid, merged_conversion[taxid]))\n",
      "/home/madelarambelje/.local/lib/python3.6/site-packages/ete3/ncbi_taxonomy/ncbiquery.py:243: UserWarning: taxid 2169539 was translated into 2047966\n",
      "  warnings.warn(\"taxid %s was translated into %s\" %(taxid, merged_conversion[taxid]))\n"
     ]
    },
    {
     "name": "stdout",
     "output_type": "stream",
     "text": [
      "B\n"
     ]
    },
    {
     "name": "stderr",
     "output_type": "stream",
     "text": [
      "/home/madelarambelje/.local/lib/python3.6/site-packages/ete3/ncbi_taxonomy/ncbiquery.py:243: UserWarning: taxid 2487071 was translated into 2487072\n",
      "  warnings.warn(\"taxid %s was translated into %s\" %(taxid, merged_conversion[taxid]))\n"
     ]
    },
    {
     "name": "stdout",
     "output_type": "stream",
     "text": [
      "C\n",
      "D\n",
      "E\n",
      "None\n",
      "A\n"
     ]
    },
    {
     "name": "stderr",
     "output_type": "stream",
     "text": [
      "/home/madelarambelje/.local/lib/python3.6/site-packages/ete3/ncbi_taxonomy/ncbiquery.py:243: UserWarning: taxid 2528030 was translated into 2605989\n",
      "  warnings.warn(\"taxid %s was translated into %s\" %(taxid, merged_conversion[taxid]))\n",
      "/home/madelarambelje/.local/lib/python3.6/site-packages/ete3/ncbi_taxonomy/ncbiquery.py:243: UserWarning: taxid 2202142 was translated into 2202141\n",
      "  warnings.warn(\"taxid %s was translated into %s\" %(taxid, merged_conversion[taxid]))\n"
     ]
    },
    {
     "name": "stdout",
     "output_type": "stream",
     "text": [
      "B\n",
      "C\n",
      "D\n",
      "E\n",
      "None\n"
     ]
    }
   ],
   "source": [
    "def get_subject_or_pooled_condition_data(is_vegan, merged_blast_df,subject=\"C\"):\n",
    "    print(subject)\n",
    "    if subject == None:\n",
    "        sub_condition = merged_blast_df[merged_blast_df.index.get_level_values(\"is_vegan\")==is_vegan]\n",
    "    else:\n",
    "        sub_condition = merged_blast_df[merged_blast_df.index.get_level_values(\"is_vegan\")==is_vegan].loc[subject]\n",
    "    taxIDs = sub_condition[\"Tax ID\"]\n",
    "    taxIDs = taxIDs.str.split(\";\").str[0]\n",
    "    \n",
    "    tree_df = make_taxa_df(taxIDs)\n",
    "    return tree_df\n",
    "\n",
    "a_control = get_subject_or_pooled_condition_data(is_vegan=False, merged_blast_df=merged_blast_df, subject=\"A\")\n",
    "b_control = get_subject_or_pooled_condition_data(is_vegan=False, merged_blast_df=merged_blast_df, subject=\"B\")\n",
    "c_control = get_subject_or_pooled_condition_data(is_vegan=False, merged_blast_df=merged_blast_df, subject=\"C\")\n",
    "d_control = get_subject_or_pooled_condition_data(is_vegan=False, merged_blast_df=merged_blast_df, subject=\"D\")\n",
    "e_control = get_subject_or_pooled_condition_data(is_vegan=False, merged_blast_df=merged_blast_df, subject=\"E\")\n",
    "pooled_control =  get_subject_or_pooled_condition_data(is_vegan=False, merged_blast_df=merged_blast_df, subject=None)\n",
    "a_vegan = get_subject_or_pooled_condition_data(is_vegan=True, merged_blast_df=merged_blast_df, subject=\"A\")\n",
    "b_vegan = get_subject_or_pooled_condition_data(is_vegan=True, merged_blast_df=merged_blast_df, subject=\"B\")\n",
    "c_vegan = get_subject_or_pooled_condition_data(is_vegan=True, merged_blast_df=merged_blast_df, subject=\"C\")\n",
    "d_vegan = get_subject_or_pooled_condition_data(is_vegan=True, merged_blast_df=merged_blast_df, subject=\"D\")\n",
    "e_vegan = get_subject_or_pooled_condition_data(is_vegan=True, merged_blast_df=merged_blast_df, subject=\"E\")\n",
    "pooled_vegan = get_subject_or_pooled_condition_data(is_vegan=True, merged_blast_df=merged_blast_df, subject=None)"
   ]
  },
  {
   "cell_type": "code",
   "execution_count": 19,
   "metadata": {},
   "outputs": [
    {
     "name": "stderr",
     "output_type": "stream",
     "text": [
      "5it [00:00, 400.60it/s]\n",
      "5it [00:00, 335.39it/s]\n"
     ]
    }
   ],
   "source": [
    "list_for_taxafiles = [a_control,b_control,c_control,d_control,e_control,a_vegan,b_vegan,c_vegan,d_vegan,e_vegan]\n",
    "def merge_output(list_for_taxafiles, output_path):\n",
    "    dfs = []\n",
    "    subjects = [\"A\",\"B\",\"C\",\"D\",\"E\"]\n",
    "    for i, taxa_file in tqdm(enumerate(list_for_taxafiles[:5])):\n",
    "        taxa_file.loc[:,\"subject\"] = subjects[i]\n",
    "        taxa_file.loc[:,\"is_vegan\"] = False\n",
    "        dfs.append(taxa_file)\n",
    "    for i, taxa_file in tqdm(enumerate(list_for_taxafiles[5:])):\n",
    "        taxa_file.loc[:,\"subject\"] = subjects[i]\n",
    "        taxa_file.loc[:,\"is_vegan\"] = True\n",
    "        dfs.append(taxa_file)\n",
    "    merged_taxa = pd.concat(dfs)\n",
    "    merged_taxa.to_csv(output_path,sep=\"\\t\")\n",
    "    return merged_taxa\n",
    "merge_output(list_for_taxafiles, output_path=\"/home/madelarambelje/data/subjects_taxa_profile.txt\")\n",
    "pooled_control.loc[:,\"is_vegan\"] = False\n",
    "pooled_vegan.loc[:, \"is_vegan\"] = False\n",
    "pooled_taxa = pd.concat([pooled_control, pooled_vegan])\n",
    "pooled_taxa.to_csv(\"/home/madelarambelje/data/pooled_taxa.txt\", sep=\"\\t\")\n",
    "#get_count_per_level(merged_blast_df=merged_blast_df, is_vegan= True, subject=\"A\")"
   ]
  },
  {
   "cell_type": "code",
   "execution_count": null,
   "metadata": {},
   "outputs": [],
   "source": []
  }
 ],
 "metadata": {
  "kernelspec": {
   "display_name": "Python 3",
   "language": "python",
   "name": "python3"
  },
  "language_info": {
   "codemirror_mode": {
    "name": "ipython",
    "version": 3
   },
   "file_extension": ".py",
   "mimetype": "text/x-python",
   "name": "python",
   "nbconvert_exporter": "python",
   "pygments_lexer": "ipython3",
   "version": "3.6.9"
  }
 },
 "nbformat": 4,
 "nbformat_minor": 4
}
