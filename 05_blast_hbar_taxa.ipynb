{
 "cells": [
  {
   "cell_type": "code",
   "execution_count": 11,
   "metadata": {},
   "outputs": [],
   "source": [
    "import yaml\n",
    "import pandas as pd\n",
    "from bokeh.io import output_notebook\n",
    "from bokeh.io import show, output_file\n",
    "from bokeh.models import ColumnDataSource, Whisker\n",
    "from bokeh.plotting import figure\n",
    "from bokeh.transform import dodge\n",
    "from bokeh.layouts import gridplot\n",
    "from bokeh.models.widgets import Panel, Tabs"
   ]
  },
  {
   "cell_type": "code",
   "execution_count": 22,
   "metadata": {},
   "outputs": [],
   "source": [
    "    def get_config():\n",
    "        with open(\"config.yaml\", 'r') as con:\n",
    "            config = yaml.safe_load(con)\n",
    "        return config\n",
    "\n",
    "    config = get_config()"
   ]
  },
  {
   "cell_type": "code",
   "execution_count": 23,
   "metadata": {},
   "outputs": [],
   "source": [
    "def blast_horizontal_barplot(subject,taxa_counts):\n",
    "    \"\"\" Author: Andre de la Rambelje\n",
    "    Creates horizontal barplot of specified subject on every taxonomic level.\n",
    "    Keyword arguments\n",
    "    subject -- An string containing an ID\n",
    "    taxa_counts -- Pandas dataframe containing counts of scientific names on each taxomomic level of all subjects.\n",
    "    \"\"\"\n",
    "    taxa = [\"superkingdom\", \"kingdom\", \"phylum\", \"class\", \"order\",\"family\",'genus',\"species\"]\n",
    "    tabs = []\n",
    "    #select specified subject\n",
    "    taxa_counts = taxa_counts.loc[subject]\n",
    "    for tax in taxa:\n",
    "        #selects taxonomic level\n",
    "        mold = taxa_counts.index.get_level_values(\"taxa\")==tax\n",
    "        subject_taxa = taxa_counts[mold].set_index([\"Scientific Name\"])\n",
    "        #Reverse top to bottom\n",
    "        subject_taxa = subject_taxa.iloc[10::-1]\n",
    "        #Creating columndatasource\n",
    "        source = ColumnDataSource(data=subject_taxa[[\"Vegan\",\"Control\"]])\n",
    "        scientific_names = source.data[\"Scientific Name\"]\n",
    "        # Make figure\n",
    "        p = figure(y_range=scientific_names,x_range=(0,subject_taxa.values.max()+5) ,plot_height=700, title=f\"Subject {subject} abundance {tax}\", \n",
    "                   x_axis_label=f\"{tax} abundance in %\")\n",
    "        #Adding horizontal bars\n",
    "        p.hbar(right='Control', y=dodge('Scientific Name',0.11,\n",
    "            range=p.y_range), height=0.2,color=\"#abdfff\" ,source=source, width=0.3,line_color=\"#75cbff\", legend_label=\"Control Diet\")\n",
    "\n",
    "        p.hbar(right='Vegan', y=dodge('Scientific Name',-0.11, \n",
    "            range=p.y_range), height=0.2,color=\"#ceffc4\" ,source=source, width=0.3,line_color=\"#8dff75\", legend_label=\"Vegan Diet\")\n",
    "        #Adding legend location\n",
    "        p.legend.location = \"bottom_right\"\n",
    "        tab = (Panel(child=p, title=tax))\n",
    "        tabs.append(tab)\n",
    "    tabs=Tabs(tabs=tabs)\n",
    "    #Writing output to html\n",
    "    #output_file(f\"taxa_subject_{subject}.html\")\n",
    "    show(tabs)\n",
    "    return tabs"
   ]
  },
  {
   "cell_type": "code",
   "execution_count": 26,
   "metadata": {},
   "outputs": [
    {
     "name": "stdout",
     "output_type": "stream",
     "text": [
      "                                   Scientific Name   Control     Vegan\n",
      "subject taxa                                                          \n",
      "A       superkingdom                      Bacteria  0.847801  0.765565\n",
      "        superkingdom                  Unclassified  0.110494  0.190981\n",
      "        superkingdom                     Eukaryota  0.026664  0.027573\n",
      "        superkingdom                       Viruses  0.014547  0.015550\n",
      "        superkingdom                       Archaea  0.000495  0.000330\n",
      "...                                            ...       ...       ...\n",
      "E       species           Bifidobacterium animalis  0.000017  0.000190\n",
      "        species             Brachyspira pilosicoli  0.000017  0.000190\n",
      "        species             Parabacteroides merdae  0.000017  0.000095\n",
      "        species               Olsenella sp. LZLJ-2  0.000017  0.000095\n",
      "        species       Paraclostridium bifermentans  0.000017  0.000095\n",
      "\n",
      "[3563 rows x 3 columns]\n"
     ]
    }
   ],
   "source": [
    "def create_blast_plots():\n",
    "    \"\"\"Creates taxonomic barplots for each subject\n",
    "    PATH needs to be adjusted to select the taxonomic counts\n",
    "    \"\"\"\n",
    "    #Reading in taxonomic count file\n",
    "    taxa_counts = pd.read_csv(config[\"blast_taxa_file\"], sep=\"\\t\").set_index([\"subject\", \"taxa\"])\n",
    "    print(taxa_counts)\n",
    "    #Convert to percentage\n",
    "    taxa_counts[[\"Control\",\"Vegan\"]] = taxa_counts[[\"Control\",\"Vegan\"]] * 100\n",
    "    subjects = [\"A\", \"B\", \"C\", \"D\", \"E\"]\n",
    "    for subject in subjects:\n",
    "        blast_horizontal_barplot(subject,taxa_counts)\n",
    "create_blast_plots()"
   ]
  },
  {
   "cell_type": "code",
   "execution_count": null,
   "metadata": {},
   "outputs": [],
   "source": []
  }
 ],
 "metadata": {
  "kernelspec": {
   "display_name": "Python 3",
   "language": "python",
   "name": "python3"
  },
  "language_info": {
   "codemirror_mode": {
    "name": "ipython",
    "version": 3
   },
   "file_extension": ".py",
   "mimetype": "text/x-python",
   "name": "python",
   "nbconvert_exporter": "python",
   "pygments_lexer": "ipython3",
   "version": "3.6.9"
  }
 },
 "nbformat": 4,
 "nbformat_minor": 4
}
