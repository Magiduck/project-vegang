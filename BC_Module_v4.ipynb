{
 "cells": [
  {
   "cell_type": "markdown",
   "metadata": {},
   "source": [
    "## Importing libraries and installing xlrd for reading xlsx files"
   ]
  },
  {
   "cell_type": "code",
   "execution_count": 1,
   "metadata": {},
   "outputs": [],
   "source": [
    "import numpy as np\n",
    "import pandas as pd\n",
    "import os"
   ]
  },
  {
   "cell_type": "markdown",
   "metadata": {},
   "source": [
    "## Reading xlsx files and joining them together\n",
    "#### Please download all excel files and put in same directory as your current notebook"
   ]
  },
  {
   "cell_type": "code",
   "execution_count": 2,
   "metadata": {},
   "outputs": [
    {
     "data": {
      "text/plain": [
       "(186, 11)"
      ]
     },
     "execution_count": 2,
     "metadata": {},
     "output_type": "execute_result"
    }
   ],
   "source": [
    "path = os.getcwd()\n",
    "filename = '\\\\body_composition_measurements_subject_'\n",
    "subjects = ['A', 'B', 'C', 'D', 'E']\n",
    "\n",
    "df = pd.DataFrame()\n",
    "for subject in subjects:\n",
    "    dftemp = pd.read_excel('{}{}{}.xlsx'.format(path, filename, subject))\n",
    "    df = df.append(dftemp, ignore_index=True)\n",
    "\n",
    "df.shape"
   ]
  },
  {
   "cell_type": "code",
   "execution_count": 3,
   "metadata": {},
   "outputs": [
    {
     "data": {
      "text/html": [
       "<div>\n",
       "<style scoped>\n",
       "    .dataframe tbody tr th:only-of-type {\n",
       "        vertical-align: middle;\n",
       "    }\n",
       "\n",
       "    .dataframe tbody tr th {\n",
       "        vertical-align: top;\n",
       "    }\n",
       "\n",
       "    .dataframe thead th {\n",
       "        text-align: right;\n",
       "    }\n",
       "</style>\n",
       "<table border=\"1\" class=\"dataframe\">\n",
       "  <thead>\n",
       "    <tr style=\"text-align: right;\">\n",
       "      <th></th>\n",
       "      <th>Subject</th>\n",
       "      <th>Date (yy-mm-dd)</th>\n",
       "      <th>Height (cm)</th>\n",
       "      <th>Bodyweight (kg)</th>\n",
       "      <th>BMI (score)</th>\n",
       "      <th>BMI classification (-/0/+/++)</th>\n",
       "      <th>Bodyfat (%)</th>\n",
       "      <th>Skeletal muscle (%)</th>\n",
       "      <th>Resting metabolism (kcal)</th>\n",
       "      <th>Visceral fat (level)</th>\n",
       "      <th>Visceral fat classification (-/0/+/++)</th>\n",
       "    </tr>\n",
       "  </thead>\n",
       "  <tbody>\n",
       "    <tr>\n",
       "      <th>0</th>\n",
       "      <td>A</td>\n",
       "      <td>2020-10-17</td>\n",
       "      <td>180</td>\n",
       "      <td>78.6</td>\n",
       "      <td>24.3</td>\n",
       "      <td>0</td>\n",
       "      <td>25.3</td>\n",
       "      <td>36.6</td>\n",
       "      <td>1750</td>\n",
       "      <td>7.0</td>\n",
       "      <td>0</td>\n",
       "    </tr>\n",
       "    <tr>\n",
       "      <th>1</th>\n",
       "      <td>A</td>\n",
       "      <td>2020-10-18</td>\n",
       "      <td>180</td>\n",
       "      <td>78.0</td>\n",
       "      <td>24.1</td>\n",
       "      <td>0</td>\n",
       "      <td>25.5</td>\n",
       "      <td>36.3</td>\n",
       "      <td>1738</td>\n",
       "      <td>6.0</td>\n",
       "      <td>0</td>\n",
       "    </tr>\n",
       "    <tr>\n",
       "      <th>2</th>\n",
       "      <td>A</td>\n",
       "      <td>2020-10-19</td>\n",
       "      <td>180</td>\n",
       "      <td>77.8</td>\n",
       "      <td>24.0</td>\n",
       "      <td>0</td>\n",
       "      <td>25.6</td>\n",
       "      <td>36.2</td>\n",
       "      <td>1734</td>\n",
       "      <td>6.0</td>\n",
       "      <td>0</td>\n",
       "    </tr>\n",
       "    <tr>\n",
       "      <th>3</th>\n",
       "      <td>A</td>\n",
       "      <td>2020-10-20</td>\n",
       "      <td>180</td>\n",
       "      <td>77.8</td>\n",
       "      <td>24.0</td>\n",
       "      <td>0</td>\n",
       "      <td>26.0</td>\n",
       "      <td>35.9</td>\n",
       "      <td>1732</td>\n",
       "      <td>7.0</td>\n",
       "      <td>0</td>\n",
       "    </tr>\n",
       "    <tr>\n",
       "      <th>4</th>\n",
       "      <td>A</td>\n",
       "      <td>2020-10-21</td>\n",
       "      <td>180</td>\n",
       "      <td>79.2</td>\n",
       "      <td>24.4</td>\n",
       "      <td>0</td>\n",
       "      <td>26.5</td>\n",
       "      <td>35.7</td>\n",
       "      <td>1753</td>\n",
       "      <td>7.0</td>\n",
       "      <td>0</td>\n",
       "    </tr>\n",
       "  </tbody>\n",
       "</table>\n",
       "</div>"
      ],
      "text/plain": [
       "  Subject Date (yy-mm-dd)  Height (cm)  Bodyweight (kg)  BMI (score)  \\\n",
       "0       A      2020-10-17          180             78.6         24.3   \n",
       "1       A      2020-10-18          180             78.0         24.1   \n",
       "2       A      2020-10-19          180             77.8         24.0   \n",
       "3       A      2020-10-20          180             77.8         24.0   \n",
       "4       A      2020-10-21          180             79.2         24.4   \n",
       "\n",
       "  BMI classification (-/0/+/++)  Bodyfat (%)  Skeletal muscle (%)  \\\n",
       "0                             0         25.3                 36.6   \n",
       "1                             0         25.5                 36.3   \n",
       "2                             0         25.6                 36.2   \n",
       "3                             0         26.0                 35.9   \n",
       "4                             0         26.5                 35.7   \n",
       "\n",
       "   Resting metabolism (kcal)  Visceral fat (level)  \\\n",
       "0                       1750                   7.0   \n",
       "1                       1738                   6.0   \n",
       "2                       1734                   6.0   \n",
       "3                       1732                   7.0   \n",
       "4                       1753                   7.0   \n",
       "\n",
       "  Visceral fat classification (-/0/+/++)  \n",
       "0                                      0  \n",
       "1                                      0  \n",
       "2                                      0  \n",
       "3                                      0  \n",
       "4                                      0  "
      ]
     },
     "execution_count": 3,
     "metadata": {},
     "output_type": "execute_result"
    }
   ],
   "source": [
    "df.head()"
   ]
  },
  {
   "cell_type": "code",
   "execution_count": 4,
   "metadata": {},
   "outputs": [
    {
     "data": {
      "text/plain": [
       "Index(['Subject', 'Date (yy-mm-dd)', 'Height (cm)', 'Bodyweight (kg)',\n",
       "       'BMI (score)', 'BMI classification (-/0/+/++)', 'Bodyfat (%)',\n",
       "       'Skeletal muscle (%)', 'Resting metabolism (kcal)',\n",
       "       'Visceral fat (level)', 'Visceral fat classification (-/0/+/++)'],\n",
       "      dtype='object')"
      ]
     },
     "execution_count": 4,
     "metadata": {},
     "output_type": "execute_result"
    }
   ],
   "source": [
    "df.columns"
   ]
  },
  {
   "cell_type": "code",
   "execution_count": 16,
   "metadata": {},
   "outputs": [
    {
     "data": {
      "application/vnd.holoviews_exec.v0+json": "",
      "text/html": [
       "<div id='27922'>\n",
       "\n",
       "\n",
       "\n",
       "\n",
       "\n",
       "  <div class=\"bk-root\" id=\"8089d501-9418-426c-abfa-a8cf4bf86135\" data-root-id=\"27922\"></div>\n",
       "</div>\n",
       "<script type=\"application/javascript\">(function(root) {\n",
       "  function embed_document(root) {\n",
       "    var docs_json = {\"d100a237-6cc1-4335-b0e0-a6fe62d53818\":{\"roots\":{\"references\":[{\"attributes\":{\"line_alpha\":0.1,\"line_color\":\"#1f77b3\",\"line_width\":2,\"x\":{\"field\":\"Days\"},\"y\":{\"field\":\"Bodyweight (kg)\"}},\"id\":\"27964\",\"type\":\"Line\"},{\"attributes\":{},\"id\":\"28068\",\"type\":\"BasicTicker\"},{\"attributes\":{\"source\":{\"id\":\"28146\"}},\"id\":\"28153\",\"type\":\"CDSView\"},{\"attributes\":{},\"id\":\"28010\",\"type\":\"PanTool\"},{\"attributes\":{},\"id\":\"28030\",\"type\":\"BasicTickFormatter\"},{\"attributes\":{},\"id\":\"28134\",\"type\":\"PanTool\"},{\"attributes\":{\"child\":{\"id\":\"28116\"},\"name\":\"Muscle\",\"title\":\"Muscle\"},\"id\":\"28174\",\"type\":\"Panel\"},{\"attributes\":{},\"id\":\"28006\",\"type\":\"BasicTicker\"},{\"attributes\":{\"line_color\":\"#1f77b3\",\"line_width\":2,\"x\":{\"field\":\"Days\"},\"y\":{\"field\":\"Bodyweight (kg)\"}},\"id\":\"27963\",\"type\":\"Line\"},{\"attributes\":{\"below\":[{\"id\":\"28125\"}],\"center\":[{\"id\":\"28128\"},{\"id\":\"28132\"}],\"left\":[{\"id\":\"28129\"}],\"margin\":[5,5,5,5],\"min_border_bottom\":10,\"min_border_left\":10,\"min_border_right\":10,\"min_border_top\":10,\"plot_height\":300,\"plot_width\":700,\"renderers\":[{\"id\":\"28152\"}],\"sizing_mode\":\"fixed\",\"title\":{\"id\":\"28117\"},\"toolbar\":{\"id\":\"28139\"},\"x_range\":{\"id\":\"27927\"},\"x_scale\":{\"id\":\"28121\"},\"y_range\":{\"id\":\"28114\"},\"y_scale\":{\"id\":\"28123\"}},\"id\":\"28116\",\"subtype\":\"Figure\",\"type\":\"Plot\"},{\"attributes\":{},\"id\":\"28073\",\"type\":\"WheelZoomTool\"},{\"attributes\":{\"bottom_units\":\"screen\",\"fill_alpha\":0.5,\"fill_color\":\"lightgrey\",\"left_units\":\"screen\",\"level\":\"overlay\",\"line_alpha\":1.0,\"line_color\":\"black\",\"line_dash\":[4,4],\"line_width\":2,\"right_units\":\"screen\",\"top_units\":\"screen\"},\"id\":\"28138\",\"type\":\"BoxAnnotation\"},{\"attributes\":{\"axis\":{\"id\":\"28129\"},\"dimension\":1,\"grid_line_color\":null,\"ticker\":null},\"id\":\"28132\",\"type\":\"Grid\"},{\"attributes\":{},\"id\":\"28092\",\"type\":\"BasicTickFormatter\"},{\"attributes\":{\"text\":\"BMI (score)\",\"text_color\":{\"value\":\"black\"},\"text_font_size\":{\"value\":\"12pt\"}},\"id\":\"27993\",\"type\":\"Title\"},{\"attributes\":{},\"id\":\"27935\",\"type\":\"LinearScale\"},{\"attributes\":{\"active_drag\":\"auto\",\"active_inspect\":\"auto\",\"active_multi\":null,\"active_scroll\":\"auto\",\"active_tap\":\"auto\",\"tools\":[{\"id\":\"27991\"},{\"id\":\"28009\"},{\"id\":\"28010\"},{\"id\":\"28011\"},{\"id\":\"28012\"},{\"id\":\"28013\"}]},\"id\":\"28015\",\"type\":\"Toolbar\"},{\"attributes\":{},\"id\":\"28071\",\"type\":\"SaveTool\"},{\"attributes\":{\"axis_label\":\"\",\"bounds\":\"auto\",\"formatter\":{\"id\":\"28094\"},\"major_label_orientation\":\"horizontal\",\"ticker\":{\"id\":\"28068\"}},\"id\":\"28067\",\"type\":\"LinearAxis\"},{\"attributes\":{\"line_color\":\"#1f77b3\",\"line_width\":2,\"x\":{\"field\":\"Days\"},\"y\":{\"field\":\"Skeletal muscle (%)\"}},\"id\":\"28149\",\"type\":\"Line\"},{\"attributes\":{\"children\":[{\"id\":\"27926\"}],\"margin\":[0,0,0,0],\"name\":\"Row41940\"},\"id\":\"27925\",\"type\":\"Row\"},{\"attributes\":{},\"id\":\"28023\",\"type\":\"Selection\"},{\"attributes\":{\"axis\":{\"id\":\"27943\"},\"dimension\":1,\"grid_line_color\":null,\"ticker\":null},\"id\":\"27946\",\"type\":\"Grid\"},{\"attributes\":{\"axis\":{\"id\":\"28063\"},\"grid_line_color\":null,\"ticker\":null},\"id\":\"28066\",\"type\":\"Grid\"},{\"attributes\":{\"end\":24.56,\"reset_end\":24.56,\"reset_start\":23.84,\"start\":23.84,\"tags\":[[[\"BMI (score)\",\"BMI (score)\",null]]]},\"id\":\"27990\",\"type\":\"Range1d\"},{\"attributes\":{\"line_alpha\":0.2,\"line_color\":\"#1f77b3\",\"line_width\":2,\"x\":{\"field\":\"Days\"},\"y\":{\"field\":\"Bodyweight (kg)\"}},\"id\":\"27965\",\"type\":\"Line\"},{\"attributes\":{\"data\":{\"Bodyfat (%)\":{\"__ndarray__\":\"zczMzMxMOUAAAAAAAIA5QJqZmZmZmTlAAAAAAAAAOkAAAAAAAIA6QJqZmZmZGTtAAAAAAACAOkAzMzMzMzM6QDMzMzMzszpAZmZmZmZmOkAAAAAAAAA7QJqZmZmZGTpAmpmZmZmZOUAzMzMzM7M6QGZmZmZm5jlAzczMzMxMO0BmZmZmZuY6QGZmZmZm5jpAZmZmZmbmOkAAAAAAAIA6QAAAAAAAADtAmpmZmZkZO0BmZmZmZmY6QM3MzMzMzDpAMzMzMzMzOkCamZmZmRk6QDMzMzMzszpAZmZmZmZmOkAzMzMzMzM7QGZmZmZm5jpAZmZmZmZmO0CamZmZmZk6QJqZmZmZGTtAMzMzMzMzOkAzMzMzM7M6QA==\",\"dtype\":\"float64\",\"order\":\"little\",\"shape\":[35]},\"Bodyfat_left_parenthesis_percent_right_parenthesis\":{\"__ndarray__\":\"zczMzMxMOUAAAAAAAIA5QJqZmZmZmTlAAAAAAAAAOkAAAAAAAIA6QJqZmZmZGTtAAAAAAACAOkAzMzMzMzM6QDMzMzMzszpAZmZmZmZmOkAAAAAAAAA7QJqZmZmZGTpAmpmZmZmZOUAzMzMzM7M6QGZmZmZm5jlAzczMzMxMO0BmZmZmZuY6QGZmZmZm5jpAZmZmZmbmOkAAAAAAAIA6QAAAAAAAADtAmpmZmZkZO0BmZmZmZmY6QM3MzMzMzDpAMzMzMzMzOkCamZmZmRk6QDMzMzMzszpAZmZmZmZmOkAzMzMzMzM7QGZmZmZm5jpAZmZmZmZmO0CamZmZmZk6QJqZmZmZGTtAMzMzMzMzOkAzMzMzM7M6QA==\",\"dtype\":\"float64\",\"order\":\"little\",\"shape\":[35]},\"Days\":{\"__ndarray__\":\"AAAAAAEAAAACAAAAAwAAAAQAAAAFAAAABgAAAAcAAAAIAAAACQAAAAoAAAALAAAADAAAAA0AAAAOAAAADwAAABAAAAARAAAAEgAAABMAAAAUAAAAFQAAABYAAAAXAAAAGAAAABkAAAAaAAAAGwAAABwAAAAdAAAAHgAAAB8AAAAgAAAAIQAAACIAAAA=\",\"dtype\":\"int32\",\"order\":\"little\",\"shape\":[35]}},\"selected\":{\"id\":\"28085\"},\"selection_policy\":{\"id\":\"28102\"}},\"id\":\"28084\",\"type\":\"ColumnDataSource\"},{\"attributes\":{},\"id\":\"28002\",\"type\":\"BasicTicker\"},{\"attributes\":{\"active_drag\":\"auto\",\"active_inspect\":\"auto\",\"active_multi\":null,\"active_scroll\":\"auto\",\"active_tap\":\"auto\",\"tools\":[{\"id\":\"27929\"},{\"id\":\"27947\"},{\"id\":\"27948\"},{\"id\":\"27949\"},{\"id\":\"27950\"},{\"id\":\"27951\"}]},\"id\":\"27953\",\"type\":\"Toolbar\"},{\"attributes\":{\"axis_label\":\"Days\",\"bounds\":\"auto\",\"formatter\":{\"id\":\"28154\"},\"major_label_orientation\":\"horizontal\",\"ticker\":{\"id\":\"28126\"}},\"id\":\"28125\",\"type\":\"LinearAxis\"},{\"attributes\":{\"overlay\":{\"id\":\"28076\"}},\"id\":\"28074\",\"type\":\"BoxZoomTool\"},{\"attributes\":{\"children\":[{\"id\":\"27923\"},{\"id\":\"27925\"}],\"margin\":[0,0,0,0],\"name\":\"Column41622\"},\"id\":\"27922\",\"type\":\"Column\"},{\"attributes\":{\"below\":[{\"id\":\"27939\"}],\"center\":[{\"id\":\"27942\"},{\"id\":\"27946\"}],\"left\":[{\"id\":\"27943\"}],\"margin\":[5,5,5,5],\"min_border_bottom\":10,\"min_border_left\":10,\"min_border_right\":10,\"min_border_top\":10,\"plot_height\":300,\"plot_width\":700,\"renderers\":[{\"id\":\"27966\"}],\"sizing_mode\":\"fixed\",\"title\":{\"id\":\"27931\"},\"toolbar\":{\"id\":\"27953\"},\"x_range\":{\"id\":\"27927\"},\"x_scale\":{\"id\":\"27935\"},\"y_range\":{\"id\":\"27928\"},\"y_scale\":{\"id\":\"27937\"}},\"id\":\"27930\",\"subtype\":\"Figure\",\"type\":\"Plot\"},{\"attributes\":{\"axis_label\":\"Days\",\"bounds\":\"auto\",\"formatter\":{\"id\":\"28030\"},\"major_label_orientation\":\"horizontal\",\"ticker\":{\"id\":\"28002\"}},\"id\":\"28001\",\"type\":\"LinearAxis\"},{\"attributes\":{},\"id\":\"28013\",\"type\":\"ResetTool\"},{\"attributes\":{},\"id\":\"28135\",\"type\":\"WheelZoomTool\"},{\"attributes\":{},\"id\":\"27978\",\"type\":\"UnionRenderers\"},{\"attributes\":{\"bottom_units\":\"screen\",\"fill_alpha\":0.5,\"fill_color\":\"lightgrey\",\"left_units\":\"screen\",\"level\":\"overlay\",\"line_alpha\":1.0,\"line_color\":\"black\",\"line_dash\":[4,4],\"line_width\":2,\"right_units\":\"screen\",\"top_units\":\"screen\"},\"id\":\"28076\",\"type\":\"BoxAnnotation\"},{\"attributes\":{},\"id\":\"28009\",\"type\":\"SaveTool\"},{\"attributes\":{\"axis_label\":\"\",\"bounds\":\"auto\",\"formatter\":{\"id\":\"28156\"},\"major_label_orientation\":\"horizontal\",\"ticker\":{\"id\":\"28130\"}},\"id\":\"28129\",\"type\":\"LinearAxis\"},{\"attributes\":{\"callback\":null,\"renderers\":[{\"id\":\"28028\"}],\"tags\":[\"hv_created\"],\"tooltips\":[[\"Days\",\"@{Days}\"],[\"BMI (score)\",\"@{BMI_left_parenthesis_score_right_parenthesis}\"]]},\"id\":\"27991\",\"type\":\"HoverTool\"},{\"attributes\":{\"data_source\":{\"id\":\"27960\"},\"glyph\":{\"id\":\"27963\"},\"hover_glyph\":null,\"muted_glyph\":{\"id\":\"27965\"},\"nonselection_glyph\":{\"id\":\"27964\"},\"selection_glyph\":null,\"view\":{\"id\":\"27967\"}},\"id\":\"27966\",\"type\":\"GlyphRenderer\"},{\"attributes\":{\"active_drag\":\"auto\",\"active_inspect\":\"auto\",\"active_multi\":null,\"active_scroll\":\"auto\",\"active_tap\":\"auto\",\"tools\":[{\"id\":\"28115\"},{\"id\":\"28133\"},{\"id\":\"28134\"},{\"id\":\"28135\"},{\"id\":\"28136\"},{\"id\":\"28137\"}]},\"id\":\"28139\",\"type\":\"Toolbar\"},{\"attributes\":{\"axis\":{\"id\":\"28005\"},\"dimension\":1,\"grid_line_color\":null,\"ticker\":null},\"id\":\"28008\",\"type\":\"Grid\"},{\"attributes\":{},\"id\":\"27948\",\"type\":\"PanTool\"},{\"attributes\":{},\"id\":\"28075\",\"type\":\"ResetTool\"},{\"attributes\":{\"data_source\":{\"id\":\"28146\"},\"glyph\":{\"id\":\"28149\"},\"hover_glyph\":null,\"muted_glyph\":{\"id\":\"28151\"},\"nonselection_glyph\":{\"id\":\"28150\"},\"selection_glyph\":null,\"view\":{\"id\":\"28153\"}},\"id\":\"28152\",\"type\":\"GlyphRenderer\"},{\"attributes\":{\"source\":{\"id\":\"28084\"}},\"id\":\"28091\",\"type\":\"CDSView\"},{\"attributes\":{\"below\":[{\"id\":\"28001\"}],\"center\":[{\"id\":\"28004\"},{\"id\":\"28008\"}],\"left\":[{\"id\":\"28005\"}],\"margin\":[5,5,5,5],\"min_border_bottom\":10,\"min_border_left\":10,\"min_border_right\":10,\"min_border_top\":10,\"plot_height\":300,\"plot_width\":700,\"renderers\":[{\"id\":\"28028\"}],\"sizing_mode\":\"fixed\",\"title\":{\"id\":\"27993\"},\"toolbar\":{\"id\":\"28015\"},\"x_range\":{\"id\":\"27927\"},\"x_scale\":{\"id\":\"27997\"},\"y_range\":{\"id\":\"27990\"},\"y_scale\":{\"id\":\"27999\"}},\"id\":\"27992\",\"subtype\":\"Figure\",\"type\":\"Plot\"},{\"attributes\":{},\"id\":\"27968\",\"type\":\"BasicTickFormatter\"},{\"attributes\":{\"line_alpha\":0.2,\"line_color\":\"#1f77b3\",\"line_width\":2,\"x\":{\"field\":\"Days\"},\"y\":{\"field\":\"BMI (score)\"}},\"id\":\"28027\",\"type\":\"Line\"},{\"attributes\":{\"child\":{\"id\":\"27930\"},\"name\":\"Weight\",\"title\":\"Weight\"},\"id\":\"27988\",\"type\":\"Panel\"},{\"attributes\":{\"line_alpha\":0.1,\"line_color\":\"#1f77b3\",\"line_width\":2,\"x\":{\"field\":\"Days\"},\"y\":{\"field\":\"Bodyfat (%)\"}},\"id\":\"28088\",\"type\":\"Line\"},{\"attributes\":{\"data\":{\"BMI (score)\":{\"__ndarray__\":\"zczMzMxMOECamZmZmRk4QAAAAAAAADhAAAAAAAAAOEBmZmZmZmY4QM3MzMzMTDhAMzMzMzMzOEDNzMzMzEw4QM3MzMzMTDhAzczMzMxMOEBmZmZmZmY4QM3MzMzMTDhAzczMzMxMOEAzMzMzMzM4QM3MzMzMTDhAAAAAAAAAOECamZmZmRk4QM3MzMzMTDhAMzMzMzMzOEDNzMzMzEw4QM3MzMzMTDhAAAAAAACAOEBmZmZmZmY4QJqZmZmZGThAzczMzMxMOEAzMzMzMzM4QAAAAAAAADhAmpmZmZkZOEBmZmZmZmY4QDMzMzMzMzhAAAAAAACAOEAzMzMzMzM4QAAAAAAAADhAZmZmZmbmN0AzMzMzMzM4QA==\",\"dtype\":\"float64\",\"order\":\"little\",\"shape\":[35]},\"BMI_left_parenthesis_score_right_parenthesis\":{\"__ndarray__\":\"zczMzMxMOECamZmZmRk4QAAAAAAAADhAAAAAAAAAOEBmZmZmZmY4QM3MzMzMTDhAMzMzMzMzOEDNzMzMzEw4QM3MzMzMTDhAzczMzMxMOEBmZmZmZmY4QM3MzMzMTDhAzczMzMxMOEAzMzMzMzM4QM3MzMzMTDhAAAAAAAAAOECamZmZmRk4QM3MzMzMTDhAMzMzMzMzOEDNzMzMzEw4QM3MzMzMTDhAAAAAAACAOEBmZmZmZmY4QJqZmZmZGThAzczMzMxMOEAzMzMzMzM4QAAAAAAAADhAmpmZmZkZOEBmZmZmZmY4QDMzMzMzMzhAAAAAAACAOEAzMzMzMzM4QAAAAAAAADhAZmZmZmbmN0AzMzMzMzM4QA==\",\"dtype\":\"float64\",\"order\":\"little\",\"shape\":[35]},\"Days\":{\"__ndarray__\":\"AAAAAAEAAAACAAAAAwAAAAQAAAAFAAAABgAAAAcAAAAIAAAACQAAAAoAAAALAAAADAAAAA0AAAAOAAAADwAAABAAAAARAAAAEgAAABMAAAAUAAAAFQAAABYAAAAXAAAAGAAAABkAAAAaAAAAGwAAABwAAAAdAAAAHgAAAB8AAAAgAAAAIQAAACIAAAA=\",\"dtype\":\"int32\",\"order\":\"little\",\"shape\":[35]}},\"selected\":{\"id\":\"28023\"},\"selection_policy\":{\"id\":\"28040\"}},\"id\":\"28022\",\"type\":\"ColumnDataSource\"},{\"attributes\":{},\"id\":\"28059\",\"type\":\"LinearScale\"},{\"attributes\":{},\"id\":\"28032\",\"type\":\"BasicTickFormatter\"},{\"attributes\":{\"data\":{\"Days\":{\"__ndarray__\":\"AAAAAAEAAAACAAAAAwAAAAQAAAAFAAAABgAAAAcAAAAIAAAACQAAAAoAAAALAAAADAAAAA0AAAAOAAAADwAAABAAAAARAAAAEgAAABMAAAAUAAAAFQAAABYAAAAXAAAAGAAAABkAAAAaAAAAGwAAABwAAAAdAAAAHgAAAB8AAAAgAAAAIQAAACIAAAA=\",\"dtype\":\"int32\",\"order\":\"little\",\"shape\":[35]},\"Skeletal muscle (%)\":{\"__ndarray__\":\"zczMzMxMQkBmZmZmZiZCQJqZmZmZGUJAMzMzMzPzQUCamZmZmdlBQJqZmZmZmUFAmpmZmZnZQUAzMzMzM/NBQM3MzMzMzEFAZmZmZmbmQUBmZmZmZqZBQAAAAAAAAEJAMzMzMzMzQkAzMzMzM7NBQM3MzMzMDEJAZmZmZmZmQUCamZmZmZlBQDMzMzMzs0FAZmZmZmamQUCamZmZmdlBQGZmZmZmpkFAmpmZmZmZQUBmZmZmZuZBQGZmZmZmpkFAMzMzMzPzQUAzMzMzM/NBQGZmZmZmpkFAmpmZmZnZQUCamZmZmZlBQGZmZmZmpkFAzczMzMyMQUAAAAAAAMBBQAAAAAAAgEFAzczMzMzMQUAAAAAAAMBBQA==\",\"dtype\":\"float64\",\"order\":\"little\",\"shape\":[35]},\"Skeletal_muscle_left_parenthesis_percent_right_parenthesis\":{\"__ndarray__\":\"zczMzMxMQkBmZmZmZiZCQJqZmZmZGUJAMzMzMzPzQUCamZmZmdlBQJqZmZmZmUFAmpmZmZnZQUAzMzMzM/NBQM3MzMzMzEFAZmZmZmbmQUBmZmZmZqZBQAAAAAAAAEJAMzMzMzMzQkAzMzMzM7NBQM3MzMzMDEJAZmZmZmZmQUCamZmZmZlBQDMzMzMzs0FAZmZmZmamQUCamZmZmdlBQGZmZmZmpkFAmpmZmZmZQUBmZmZmZuZBQGZmZmZmpkFAMzMzMzPzQUAzMzMzM/NBQGZmZmZmpkFAmpmZmZnZQUCamZmZmZlBQGZmZmZmpkFAzczMzMyMQUAAAAAAAMBBQAAAAAAAgEFAzczMzMzMQUAAAAAAAMBBQA==\",\"dtype\":\"float64\",\"order\":\"little\",\"shape\":[35]}},\"selected\":{\"id\":\"28147\"},\"selection_policy\":{\"id\":\"28164\"}},\"id\":\"28146\",\"type\":\"ColumnDataSource\"},{\"attributes\":{},\"id\":\"28072\",\"type\":\"PanTool\"},{\"attributes\":{\"line_alpha\":0.1,\"line_color\":\"#1f77b3\",\"line_width\":2,\"x\":{\"field\":\"Days\"},\"y\":{\"field\":\"Skeletal muscle (%)\"}},\"id\":\"28150\",\"type\":\"Line\"},{\"attributes\":{\"bottom_units\":\"screen\",\"fill_alpha\":0.5,\"fill_color\":\"lightgrey\",\"left_units\":\"screen\",\"level\":\"overlay\",\"line_alpha\":1.0,\"line_color\":\"black\",\"line_dash\":[4,4],\"line_width\":2,\"right_units\":\"screen\",\"top_units\":\"screen\"},\"id\":\"27952\",\"type\":\"BoxAnnotation\"},{\"attributes\":{\"children\":[{\"id\":\"27924\"}],\"margin\":[0,0,0,0],\"name\":\"Column41941\"},\"id\":\"27923\",\"type\":\"Column\"},{\"attributes\":{},\"id\":\"28040\",\"type\":\"UnionRenderers\"},{\"attributes\":{\"data_source\":{\"id\":\"28022\"},\"glyph\":{\"id\":\"28025\"},\"hover_glyph\":null,\"muted_glyph\":{\"id\":\"28027\"},\"nonselection_glyph\":{\"id\":\"28026\"},\"selection_glyph\":null,\"view\":{\"id\":\"28029\"}},\"id\":\"28028\",\"type\":\"GlyphRenderer\"},{\"attributes\":{},\"id\":\"28126\",\"type\":\"BasicTicker\"},{\"attributes\":{\"axis\":{\"id\":\"28067\"},\"dimension\":1,\"grid_line_color\":null,\"ticker\":null},\"id\":\"28070\",\"type\":\"Grid\"},{\"attributes\":{\"overlay\":{\"id\":\"28014\"}},\"id\":\"28012\",\"type\":\"BoxZoomTool\"},{\"attributes\":{\"overlay\":{\"id\":\"27952\"}},\"id\":\"27950\",\"type\":\"BoxZoomTool\"},{\"attributes\":{\"axis\":{\"id\":\"28001\"},\"grid_line_color\":null,\"ticker\":null},\"id\":\"28004\",\"type\":\"Grid\"},{\"attributes\":{\"end\":27.61,\"reset_end\":27.61,\"reset_start\":25.09,\"start\":25.09,\"tags\":[[[\"Bodyfat (%)\",\"Bodyfat (%)\",null]]]},\"id\":\"28052\",\"type\":\"Range1d\"},{\"attributes\":{},\"id\":\"28156\",\"type\":\"BasicTickFormatter\"},{\"attributes\":{},\"id\":\"27961\",\"type\":\"Selection\"},{\"attributes\":{},\"id\":\"28085\",\"type\":\"Selection\"},{\"attributes\":{\"text\":\"Skeletal muscle (%)\",\"text_color\":{\"value\":\"black\"},\"text_font_size\":{\"value\":\"12pt\"}},\"id\":\"28117\",\"type\":\"Title\"},{\"attributes\":{\"child\":{\"id\":\"28054\"},\"name\":\"Bodyfat\",\"title\":\"Bodyfat\"},\"id\":\"28112\",\"type\":\"Panel\"},{\"attributes\":{\"callback\":null,\"renderers\":[{\"id\":\"28090\"}],\"tags\":[\"hv_created\"],\"tooltips\":[[\"Days\",\"@{Days}\"],[\"Bodyfat (%)\",\"@{Bodyfat_left_parenthesis_percent_right_parenthesis}\"]]},\"id\":\"28053\",\"type\":\"HoverTool\"},{\"attributes\":{},\"id\":\"27999\",\"type\":\"LinearScale\"},{\"attributes\":{\"child\":{\"id\":\"27992\"},\"name\":\"BMI\",\"title\":\"BMI\"},\"id\":\"28050\",\"type\":\"Panel\"},{\"attributes\":{\"data_source\":{\"id\":\"28084\"},\"glyph\":{\"id\":\"28087\"},\"hover_glyph\":null,\"muted_glyph\":{\"id\":\"28089\"},\"nonselection_glyph\":{\"id\":\"28088\"},\"selection_glyph\":null,\"view\":{\"id\":\"28091\"}},\"id\":\"28090\",\"type\":\"GlyphRenderer\"},{\"attributes\":{},\"id\":\"28123\",\"type\":\"LinearScale\"},{\"attributes\":{},\"id\":\"27970\",\"type\":\"BasicTickFormatter\"},{\"attributes\":{\"line_alpha\":0.1,\"line_color\":\"#1f77b3\",\"line_width\":2,\"x\":{\"field\":\"Days\"},\"y\":{\"field\":\"BMI (score)\"}},\"id\":\"28026\",\"type\":\"Line\"},{\"attributes\":{},\"id\":\"28137\",\"type\":\"ResetTool\"},{\"attributes\":{},\"id\":\"28094\",\"type\":\"BasicTickFormatter\"},{\"attributes\":{\"text\":\"Bodyfat (%)\",\"text_color\":{\"value\":\"black\"},\"text_font_size\":{\"value\":\"12pt\"}},\"id\":\"28055\",\"type\":\"Title\"},{\"attributes\":{},\"id\":\"27951\",\"type\":\"ResetTool\"},{\"attributes\":{},\"id\":\"28154\",\"type\":\"BasicTickFormatter\"},{\"attributes\":{},\"id\":\"28121\",\"type\":\"LinearScale\"},{\"attributes\":{\"data\":{\"Bodyweight (kg)\":{\"__ndarray__\":\"ZmZmZmamU0AAAAAAAIBTQDMzMzMzc1NAMzMzMzNzU0DNzMzMzMxTQGZmZmZmplNAAAAAAACgU0BmZmZmZqZTQM3MzMzMrFNAzczMzMysU0CamZmZmblTQM3MzMzMrFNAZmZmZmamU0AzMzMzM5NTQM3MzMzMrFNAzczMzMxsU0DNzMzMzIxTQDMzMzMzs1NAMzMzMzOTU0DNzMzMzKxTQDMzMzMzs1NAmpmZmZnZU0AAAAAAAMBTQGZmZmZmhlNAzczMzMysU0AAAAAAAKBTQDMzMzMzc1NAZmZmZmaGU0AAAAAAAMBTQDMzMzMzk1NAAAAAAADgU0AAAAAAAKBTQJqZmZmZeVNAmpmZmZlZU0AAAAAAAKBTQA==\",\"dtype\":\"float64\",\"order\":\"little\",\"shape\":[35]},\"Bodyweight_left_parenthesis_kg_right_parenthesis\":{\"__ndarray__\":\"ZmZmZmamU0AAAAAAAIBTQDMzMzMzc1NAMzMzMzNzU0DNzMzMzMxTQGZmZmZmplNAAAAAAACgU0BmZmZmZqZTQM3MzMzMrFNAzczMzMysU0CamZmZmblTQM3MzMzMrFNAZmZmZmamU0AzMzMzM5NTQM3MzMzMrFNAzczMzMxsU0DNzMzMzIxTQDMzMzMzs1NAMzMzMzOTU0DNzMzMzKxTQDMzMzMzs1NAmpmZmZnZU0AAAAAAAMBTQGZmZmZmhlNAzczMzMysU0AAAAAAAKBTQDMzMzMzc1NAZmZmZmaGU0AAAAAAAMBTQDMzMzMzk1NAAAAAAADgU0AAAAAAAKBTQJqZmZmZeVNAmpmZmZlZU0AAAAAAAKBTQA==\",\"dtype\":\"float64\",\"order\":\"little\",\"shape\":[35]},\"Days\":{\"__ndarray__\":\"AAAAAAEAAAACAAAAAwAAAAQAAAAFAAAABgAAAAcAAAAIAAAACQAAAAoAAAALAAAADAAAAA0AAAAOAAAADwAAABAAAAARAAAAEgAAABMAAAAUAAAAFQAAABYAAAAXAAAAGAAAABkAAAAaAAAAGwAAABwAAAAdAAAAHgAAAB8AAAAgAAAAIQAAACIAAAA=\",\"dtype\":\"int32\",\"order\":\"little\",\"shape\":[35]}},\"selected\":{\"id\":\"27961\"},\"selection_policy\":{\"id\":\"27978\"}},\"id\":\"27960\",\"type\":\"ColumnDataSource\"},{\"attributes\":{},\"id\":\"28011\",\"type\":\"WheelZoomTool\"},{\"attributes\":{\"end\":79.71,\"reset_end\":79.71,\"reset_start\":77.19000000000001,\"start\":77.19000000000001,\"tags\":[[[\"Bodyweight (kg)\",\"Bodyweight (kg)\",null]]]},\"id\":\"27928\",\"type\":\"Range1d\"},{\"attributes\":{\"line_color\":\"#1f77b3\",\"line_width\":2,\"x\":{\"field\":\"Days\"},\"y\":{\"field\":\"Bodyfat (%)\"}},\"id\":\"28087\",\"type\":\"Line\"},{\"attributes\":{\"axis\":{\"id\":\"27939\"},\"grid_line_color\":null,\"ticker\":null},\"id\":\"27942\",\"type\":\"Grid\"},{\"attributes\":{\"callback\":null,\"renderers\":[{\"id\":\"28152\"}],\"tags\":[\"hv_created\"],\"tooltips\":[[\"Days\",\"@{Days}\"],[\"Skeletal muscle (%)\",\"@{Skeletal_muscle_left_parenthesis_percent_right_parenthesis}\"]]},\"id\":\"28115\",\"type\":\"HoverTool\"},{\"attributes\":{\"active\":0,\"labels\":[\"A\",\"B\",\"C\",\"D\",\"E\"],\"margin\":[5,10,5,10]},\"id\":\"27924\",\"type\":\"RadioButtonGroup\"},{\"attributes\":{\"axis_label\":\"\",\"bounds\":\"auto\",\"formatter\":{\"id\":\"28032\"},\"major_label_orientation\":\"horizontal\",\"ticker\":{\"id\":\"28006\"}},\"id\":\"28005\",\"type\":\"LinearAxis\"},{\"attributes\":{},\"id\":\"27937\",\"type\":\"LinearScale\"},{\"attributes\":{\"active_drag\":\"auto\",\"active_inspect\":\"auto\",\"active_multi\":null,\"active_scroll\":\"auto\",\"active_tap\":\"auto\",\"tools\":[{\"id\":\"28053\"},{\"id\":\"28071\"},{\"id\":\"28072\"},{\"id\":\"28073\"},{\"id\":\"28074\"},{\"id\":\"28075\"}]},\"id\":\"28077\",\"type\":\"Toolbar\"},{\"attributes\":{\"axis_label\":\"Days\",\"bounds\":\"auto\",\"formatter\":{\"id\":\"28092\"},\"major_label_orientation\":\"horizontal\",\"ticker\":{\"id\":\"28064\"}},\"id\":\"28063\",\"type\":\"LinearAxis\"},{\"attributes\":{},\"id\":\"28133\",\"type\":\"SaveTool\"},{\"attributes\":{\"margin\":[0,0,0,0],\"tabs\":[{\"id\":\"27988\"},{\"id\":\"28050\"},{\"id\":\"28112\"},{\"id\":\"28174\"}]},\"id\":\"27926\",\"type\":\"Tabs\"},{\"attributes\":{\"source\":{\"id\":\"28022\"}},\"id\":\"28029\",\"type\":\"CDSView\"},{\"attributes\":{\"line_alpha\":0.2,\"line_color\":\"#1f77b3\",\"line_width\":2,\"x\":{\"field\":\"Days\"},\"y\":{\"field\":\"Skeletal muscle (%)\"}},\"id\":\"28151\",\"type\":\"Line\"},{\"attributes\":{\"bottom_units\":\"screen\",\"fill_alpha\":0.5,\"fill_color\":\"lightgrey\",\"left_units\":\"screen\",\"level\":\"overlay\",\"line_alpha\":1.0,\"line_color\":\"black\",\"line_dash\":[4,4],\"line_width\":2,\"right_units\":\"screen\",\"top_units\":\"screen\"},\"id\":\"28014\",\"type\":\"BoxAnnotation\"},{\"attributes\":{\"axis\":{\"id\":\"28125\"},\"grid_line_color\":null,\"ticker\":null},\"id\":\"28128\",\"type\":\"Grid\"},{\"attributes\":{},\"id\":\"27947\",\"type\":\"SaveTool\"},{\"attributes\":{\"source\":{\"id\":\"27960\"}},\"id\":\"27967\",\"type\":\"CDSView\"},{\"attributes\":{\"below\":[{\"id\":\"28063\"}],\"center\":[{\"id\":\"28066\"},{\"id\":\"28070\"}],\"left\":[{\"id\":\"28067\"}],\"margin\":[5,5,5,5],\"min_border_bottom\":10,\"min_border_left\":10,\"min_border_right\":10,\"min_border_top\":10,\"plot_height\":300,\"plot_width\":700,\"renderers\":[{\"id\":\"28090\"}],\"sizing_mode\":\"fixed\",\"title\":{\"id\":\"28055\"},\"toolbar\":{\"id\":\"28077\"},\"x_range\":{\"id\":\"27927\"},\"x_scale\":{\"id\":\"28059\"},\"y_range\":{\"id\":\"28052\"},\"y_scale\":{\"id\":\"28061\"}},\"id\":\"28054\",\"subtype\":\"Figure\",\"type\":\"Plot\"},{\"attributes\":{},\"id\":\"28064\",\"type\":\"BasicTicker\"},{\"attributes\":{\"end\":34.0,\"reset_end\":34.0,\"reset_start\":0.0,\"tags\":[[[\"Days\",\"Days\",null]]]},\"id\":\"27927\",\"type\":\"Range1d\"},{\"attributes\":{\"overlay\":{\"id\":\"28138\"}},\"id\":\"28136\",\"type\":\"BoxZoomTool\"},{\"attributes\":{},\"id\":\"27940\",\"type\":\"BasicTicker\"},{\"attributes\":{\"text\":\"Bodyweight (kg)\",\"text_color\":{\"value\":\"black\"},\"text_font_size\":{\"value\":\"12pt\"}},\"id\":\"27931\",\"type\":\"Title\"},{\"attributes\":{\"line_alpha\":0.2,\"line_color\":\"#1f77b3\",\"line_width\":2,\"x\":{\"field\":\"Days\"},\"y\":{\"field\":\"Bodyfat (%)\"}},\"id\":\"28089\",\"type\":\"Line\"},{\"attributes\":{},\"id\":\"28147\",\"type\":\"Selection\"},{\"attributes\":{},\"id\":\"27997\",\"type\":\"LinearScale\"},{\"attributes\":{\"line_color\":\"#1f77b3\",\"line_width\":2,\"x\":{\"field\":\"Days\"},\"y\":{\"field\":\"BMI (score)\"}},\"id\":\"28025\",\"type\":\"Line\"},{\"attributes\":{\"callback\":null,\"renderers\":[{\"id\":\"27966\"}],\"tags\":[\"hv_created\"],\"tooltips\":[[\"Days\",\"@{Days}\"],[\"Bodyweight (kg)\",\"@{Bodyweight_left_parenthesis_kg_right_parenthesis}\"]]},\"id\":\"27929\",\"type\":\"HoverTool\"},{\"attributes\":{},\"id\":\"28102\",\"type\":\"UnionRenderers\"},{\"attributes\":{\"end\":36.78,\"reset_end\":36.78,\"reset_start\":34.62,\"start\":34.62,\"tags\":[[[\"Skeletal muscle (%)\",\"Skeletal muscle (%)\",null]]]},\"id\":\"28114\",\"type\":\"Range1d\"},{\"attributes\":{\"axis_label\":\"Days\",\"bounds\":\"auto\",\"formatter\":{\"id\":\"27968\"},\"major_label_orientation\":\"horizontal\",\"ticker\":{\"id\":\"27940\"}},\"id\":\"27939\",\"type\":\"LinearAxis\"},{\"attributes\":{},\"id\":\"28164\",\"type\":\"UnionRenderers\"},{\"attributes\":{\"client_comm_id\":\"74857bd0c17746148d55487cde2bee3a\",\"comm_id\":\"1fd16d7a2c8343779e35ce9a980f2831\",\"plot_id\":\"27922\"},\"id\":\"28271\",\"type\":\"panel.models.comm_manager.CommManager\"},{\"attributes\":{},\"id\":\"27944\",\"type\":\"BasicTicker\"},{\"attributes\":{\"axis_label\":\"\",\"bounds\":\"auto\",\"formatter\":{\"id\":\"27970\"},\"major_label_orientation\":\"horizontal\",\"ticker\":{\"id\":\"27944\"}},\"id\":\"27943\",\"type\":\"LinearAxis\"},{\"attributes\":{},\"id\":\"28130\",\"type\":\"BasicTicker\"},{\"attributes\":{},\"id\":\"28061\",\"type\":\"LinearScale\"},{\"attributes\":{},\"id\":\"27949\",\"type\":\"WheelZoomTool\"}],\"root_ids\":[\"27922\",\"28271\"]},\"title\":\"Bokeh Application\",\"version\":\"2.2.3\"}};\n",
       "    var render_items = [{\"docid\":\"d100a237-6cc1-4335-b0e0-a6fe62d53818\",\"root_ids\":[\"27922\"],\"roots\":{\"27922\":\"8089d501-9418-426c-abfa-a8cf4bf86135\"}}];\n",
       "    root.Bokeh.embed.embed_items_notebook(docs_json, render_items);\n",
       "  }\n",
       "  if (root.Bokeh !== undefined && root.Bokeh.Panel !== undefined) {\n",
       "    embed_document(root);\n",
       "  } else {\n",
       "    var attempts = 0;\n",
       "    var timer = setInterval(function(root) {\n",
       "      if (root.Bokeh !== undefined && root.Bokeh.Panel !== undefined) {\n",
       "        clearInterval(timer);\n",
       "        embed_document(root);\n",
       "      } else if (document.readyState == \"complete\") {\n",
       "        attempts++;\n",
       "        if (attempts > 100) {\n",
       "          clearInterval(timer);\n",
       "          console.log(\"Bokeh: ERROR: Unable to run BokehJS code because BokehJS library is missing\");\n",
       "        }\n",
       "      }\n",
       "    }, 10, root)\n",
       "  }\n",
       "})(window);</script>"
      ],
      "text/plain": [
       "Column\n",
       "    [0] Column\n",
       "        [0] RadioButtonGroup(options=['A', 'B', 'C', 'D', 'E'], value='A')\n",
       "    [1] Row\n",
       "        [0] Tabs\n",
       "            [0] HoloViews(Curve, name='Weight')\n",
       "            [1] HoloViews(Curve, name='BMI')\n",
       "            [2] HoloViews(Curve, name='Bodyfat')\n",
       "            [3] HoloViews(Curve, name='Muscle')"
      ]
     },
     "execution_count": 16,
     "metadata": {
      "application/vnd.holoviews_exec.v0+json": {
       "id": "27922"
      }
     },
     "output_type": "execute_result"
    }
   ],
   "source": [
    "import panel as pn\n",
    "import hvplot.pandas\n",
    "from panel.interact import interact\n",
    "\n",
    "pn.extension()\n",
    "\n",
    "subs = ['A', 'B', 'C', 'D', 'E']\n",
    "var = pn.widgets.ToggleGroup(options=subs, behavior='radio')\n",
    "\n",
    "@pn.depends(var)\n",
    "def tabs(sub):\n",
    "    dft = df[df['Subject'] == sub]\n",
    "    return pn.Tabs(\n",
    "        ('Weight' , dft['Bodyweight (kg)'].hvplot(x= 'Days')),\n",
    "        ('BMI', dft['BMI (score)'].hvplot(x= 'Days')),\n",
    "        ('Bodyfat', dft['Bodyfat (%)'].hvplot(x= 'Days')),\n",
    "        ('Muscle', dft['Skeletal muscle (%)'].hvplot(x= 'Days')))\n",
    "\n",
    "interact(tabs, sub=var)"
   ]
  },
  {
   "cell_type": "markdown",
   "metadata": {},
   "source": [
    "I know x value are not shown correctly, i will fix it. i just learned to work with widgets. "
   ]
  },
  {
   "cell_type": "code",
   "execution_count": null,
   "metadata": {},
   "outputs": [],
   "source": []
  }
 ],
 "metadata": {
  "kernelspec": {
   "display_name": "Python 3",
   "language": "python",
   "name": "python3"
  },
  "language_info": {
   "codemirror_mode": {
    "name": "ipython",
    "version": 3
   },
   "file_extension": ".py",
   "mimetype": "text/x-python",
   "name": "python",
   "nbconvert_exporter": "python",
   "pygments_lexer": "ipython3",
   "version": "3.7.3"
  }
 },
 "nbformat": 4,
 "nbformat_minor": 2
}
